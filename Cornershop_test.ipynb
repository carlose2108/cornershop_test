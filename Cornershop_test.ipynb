{
 "cells": [
  {
   "cell_type": "markdown",
   "metadata": {},
   "source": [
    "# Objective\n",
    "\n",
    "The objective is to predict the `total_minutes` a order takes to complete, where the rows not containing a `total_minutes` value should be set aside as a part of the submission file, containing the `order_id` with the predicted values. \n",
    "\n",
    "As we are interested in seeing how you attacked the problem, we also ask you to include your code together with the submission file. The code needs to be well documented, explaining the decisions made. With these explanations, we will be looking at everything from how the data was processed, features used to the completed model and predictions. "
   ]
  },
  {
   "cell_type": "markdown",
   "metadata": {},
   "source": [
    "## Libraries"
   ]
  },
  {
   "cell_type": "code",
   "execution_count": 188,
   "metadata": {},
   "outputs": [],
   "source": [
    "%matplotlib inline\n",
    "import pandas as pd\n",
    "pd.set_option(\"display.max_columns\", 30)\n",
    "import numpy as np\n",
    "import seaborn as sns\n",
    "import matplotlib.pyplot as plt\n",
    "from sklearn.preprocessing import StandardScaler\n",
    "from sklearn.model_selection import cross_val_score\n",
    "\n",
    "from sklearn.linear_model import LinearRegression\n",
    "from sklearn.ensemble import RandomForestRegressor\n",
    "from sklearn.svm import SVR\n",
    "from xgboost import XGBRegressor\n",
    "from pygam import LinearGAM\n",
    "\n",
    "from sklearn.model_selection import GridSearchCV, train_test_split\n",
    "from sklearn.metrics import mean_absolute_error, mean_squared_error\n",
    "\n",
    "from xgboost import plot_importance\n",
    "from pylab import rcParams\n",
    "import warnings\n",
    "warnings.filterwarnings('ignore')\n",
    "\n",
    "plt.style.use('seaborn')\n",
    "\n",
    "# Helpers Function \n",
    "from helpers import haversine, plot_metrics, plot_feature_importance"
   ]
  },
  {
   "cell_type": "markdown",
   "metadata": {},
   "source": [
    "## 1. Datasets\n",
    "\n",
    "Esta primera parte está contemplada en la carga de la data por medio de los __archivos csv__ entregados, en cada segmento de carga de data por archivo se procederá a realizar algunos preprocesamiento, con el objetivo de tener un solo dataframe donde estará toda la data consolidada por orden de compra y con atributos generados que aportarán información al momento de modelar los datos por medio de un algoritmo de Machine Learning. "
   ]
  },
  {
   "cell_type": "markdown",
   "metadata": {},
   "source": [
    "#### 1.1. Order Products"
   ]
  },
  {
   "cell_type": "code",
   "execution_count": 2,
   "metadata": {},
   "outputs": [
    {
     "data": {
      "text/html": [
       "<div>\n",
       "<style scoped>\n",
       "    .dataframe tbody tr th:only-of-type {\n",
       "        vertical-align: middle;\n",
       "    }\n",
       "\n",
       "    .dataframe tbody tr th {\n",
       "        vertical-align: top;\n",
       "    }\n",
       "\n",
       "    .dataframe thead th {\n",
       "        text-align: right;\n",
       "    }\n",
       "</style>\n",
       "<table border=\"1\" class=\"dataframe\">\n",
       "  <thead>\n",
       "    <tr style=\"text-align: right;\">\n",
       "      <th></th>\n",
       "      <th>order_id</th>\n",
       "      <th>product_id</th>\n",
       "      <th>quantity</th>\n",
       "      <th>buy_unit</th>\n",
       "    </tr>\n",
       "  </thead>\n",
       "  <tbody>\n",
       "    <tr>\n",
       "      <th>0</th>\n",
       "      <td>47099653730fb1b76537fc10ad876255</td>\n",
       "      <td>c1244453d731c77416cb4766e3bd76cb</td>\n",
       "      <td>1.0</td>\n",
       "      <td>UN</td>\n",
       "    </tr>\n",
       "    <tr>\n",
       "      <th>1</th>\n",
       "      <td>689d8866915acf87e851c2591a23a82f</td>\n",
       "      <td>43cc2b100bec640fe563cd16f2db669f</td>\n",
       "      <td>1.0</td>\n",
       "      <td>KG</td>\n",
       "    </tr>\n",
       "    <tr>\n",
       "      <th>2</th>\n",
       "      <td>f26d16bf6f38c9e31d0be877f4013a9e</td>\n",
       "      <td>b8f880759d014134e272d881d49989a2</td>\n",
       "      <td>1.0</td>\n",
       "      <td>UN</td>\n",
       "    </tr>\n",
       "    <tr>\n",
       "      <th>3</th>\n",
       "      <td>161ccc896835ab41761b0e726becb6b1</td>\n",
       "      <td>dbc062b9bef805d27a6f4bea7edfe1f1</td>\n",
       "      <td>1.0</td>\n",
       "      <td>UN</td>\n",
       "    </tr>\n",
       "    <tr>\n",
       "      <th>4</th>\n",
       "      <td>4713deca10bb5db98fae150b52d61fc0</td>\n",
       "      <td>93a060f269bb569398921100f84c519a</td>\n",
       "      <td>2.0</td>\n",
       "      <td>UN</td>\n",
       "    </tr>\n",
       "  </tbody>\n",
       "</table>\n",
       "</div>"
      ],
      "text/plain": [
       "                           order_id                        product_id  \\\n",
       "0  47099653730fb1b76537fc10ad876255  c1244453d731c77416cb4766e3bd76cb   \n",
       "1  689d8866915acf87e851c2591a23a82f  43cc2b100bec640fe563cd16f2db669f   \n",
       "2  f26d16bf6f38c9e31d0be877f4013a9e  b8f880759d014134e272d881d49989a2   \n",
       "3  161ccc896835ab41761b0e726becb6b1  dbc062b9bef805d27a6f4bea7edfe1f1   \n",
       "4  4713deca10bb5db98fae150b52d61fc0  93a060f269bb569398921100f84c519a   \n",
       "\n",
       "   quantity buy_unit  \n",
       "0       1.0       UN  \n",
       "1       1.0       KG  \n",
       "2       1.0       UN  \n",
       "3       1.0       UN  \n",
       "4       2.0       UN  "
      ]
     },
     "execution_count": 2,
     "metadata": {},
     "output_type": "execute_result"
    }
   ],
   "source": [
    "# Loading Order Products dataset\n",
    "order_products = pd.read_csv('data/order_products.csv', sep=',')\n",
    "order_products.head()"
   ]
  },
  {
   "cell_type": "code",
   "execution_count": 3,
   "metadata": {},
   "outputs": [
    {
     "name": "stdout",
     "output_type": "stream",
     "text": [
      "Cantidad de registros:  198500\n",
      "Cantidad de atributos:  4\n"
     ]
    }
   ],
   "source": [
    "print(\"Cantidad de registros: \", order_products.shape[0])\n",
    "print(\"Cantidad de atributos: \", order_products.shape[1])"
   ]
  },
  {
   "cell_type": "markdown",
   "metadata": {},
   "source": [
    "No se encuentran valores perdidos dentro del dataset order products"
   ]
  },
  {
   "cell_type": "code",
   "execution_count": 4,
   "metadata": {},
   "outputs": [
    {
     "data": {
      "text/plain": [
       "order_id      False\n",
       "product_id    False\n",
       "quantity      False\n",
       "buy_unit      False\n",
       "dtype: bool"
      ]
     },
     "execution_count": 4,
     "metadata": {},
     "output_type": "execute_result"
    }
   ],
   "source": [
    "order_products.isnull().any()"
   ]
  },
  {
   "cell_type": "markdown",
   "metadata": {},
   "source": [
    "Para esta ocasión se busca corroborar de que la cantidad de productos que estén en la orden de compra estos corresondan la unidad asociada que indica el atributo `buy_unit` si bien tenemos un id del producto se desconcoce en cuanto al nombre, con el fin de que no hayan productos que sean de tipo __UN__ y que la cantidad esté en decimal. Se crea una columna temporal con el nombre `check_unit`, donde aquí se podrá apreciar si existen valores decimales y que estén relacionados a __UN__.\n",
    "\n",
    "No se encontró ninguna anomalía con respecto a la cantidad de productos asociadas con su respectiva unidad."
   ]
  },
  {
   "cell_type": "code",
   "execution_count": 5,
   "metadata": {},
   "outputs": [],
   "source": [
    "order_products['check_unit'] = np.where(order_products['buy_unit'] == 'KG', 1, order_products['quantity'])\n",
    "order_products['check_unit'] = pd.to_numeric(order_products['check_unit'])"
   ]
  },
  {
   "cell_type": "code",
   "execution_count": 6,
   "metadata": {},
   "outputs": [
    {
     "data": {
      "text/plain": [
       "array([  1.,   2.,   8.,   6.,   3.,   5.,  10.,  12.,   4.,  14.,  20.,\n",
       "         7.,   9.,  13.,  16.,  24.,  18.,  15.,  27.,  21.,  32.,  11.,\n",
       "        50.,  30.,  26.,  28.,  29.,  36.,  23.,  25.,  60., 100.,  40.,\n",
       "        35.,  64.,  70.,  22.])"
      ]
     },
     "execution_count": 6,
     "metadata": {},
     "output_type": "execute_result"
    }
   ],
   "source": [
    "order_products['check_unit'].unique()"
   ]
  },
  {
   "cell_type": "markdown",
   "metadata": {},
   "source": [
    "Se crean nuevos atributos, los cuales están comprendidos por productos que son pesados y productos que no se necesitan pesar, se llamaran `to_weigh` y `no_weigh` respectivamente, para finalmente dejar un dataframe con la cantidad de productos que se pesan y no se pesan, más el total de productos por orden.\n",
    "\n",
    "__Nota:__ Para la parte de productos que se pesan, en vez del total de `KG` por producto, diré que cada observaciónque esté contemplada con esta unidad de medida corresponderá a un producto, es decir, si el cliente pidió __3KG__ de limón, esto equivale a un producto que tiene dicho peso, el cual no considero, esto con el objetivo de tener la cantidad de productos pesados y que no se pesan."
   ]
  },
  {
   "cell_type": "code",
   "execution_count": 7,
   "metadata": {},
   "outputs": [],
   "source": [
    " # Creating new columns\n",
    "order_products['to_weigh'] = np.where(order_products['buy_unit'] == 'KG', 1, 0)\n",
    "order_products['no_weigh'] = np.where(order_products['buy_unit'] == 'UN', order_products['quantity'], 0)\n",
    "\n",
    "# Aggreate operation by \"order_id\"\n",
    "order_products = order_products.groupby('order_id').sum().reset_index()\n",
    "\n",
    "# Create new column called total_products\n",
    "order_products['total_products'] = order_products['to_weigh'] + order_products['no_weigh']\n",
    "\n",
    "# Group By and aggregate data\n",
    "order_products = order_products.groupby('order_id').sum()\n",
    "\n",
    "# dropping temporal column\n",
    "order_products = order_products.drop(columns=['check_unit', 'quantity'])"
   ]
  },
  {
   "cell_type": "code",
   "execution_count": 8,
   "metadata": {},
   "outputs": [
    {
     "data": {
      "text/plain": [
       "(9978, 3)"
      ]
     },
     "execution_count": 8,
     "metadata": {},
     "output_type": "execute_result"
    }
   ],
   "source": [
    "order_products.shape"
   ]
  },
  {
   "cell_type": "markdown",
   "metadata": {},
   "source": [
    "#### 1.2. Orders"
   ]
  },
  {
   "cell_type": "code",
   "execution_count": 9,
   "metadata": {},
   "outputs": [
    {
     "data": {
      "text/html": [
       "<div>\n",
       "<style scoped>\n",
       "    .dataframe tbody tr th:only-of-type {\n",
       "        vertical-align: middle;\n",
       "    }\n",
       "\n",
       "    .dataframe tbody tr th {\n",
       "        vertical-align: top;\n",
       "    }\n",
       "\n",
       "    .dataframe thead th {\n",
       "        text-align: right;\n",
       "    }\n",
       "</style>\n",
       "<table border=\"1\" class=\"dataframe\">\n",
       "  <thead>\n",
       "    <tr style=\"text-align: right;\">\n",
       "      <th></th>\n",
       "      <th>order_id</th>\n",
       "      <th>lat</th>\n",
       "      <th>lng</th>\n",
       "      <th>promised_time</th>\n",
       "      <th>on_demand</th>\n",
       "      <th>shopper_id</th>\n",
       "      <th>store_branch_id</th>\n",
       "      <th>total_minutes</th>\n",
       "    </tr>\n",
       "  </thead>\n",
       "  <tbody>\n",
       "    <tr>\n",
       "      <th>0</th>\n",
       "      <td>e750294655c2c7c34d83cc3181c09de4</td>\n",
       "      <td>-33.501675</td>\n",
       "      <td>-70.579369</td>\n",
       "      <td>2019-10-18 20:48:00+00:00</td>\n",
       "      <td>True</td>\n",
       "      <td>e63bc83a1a952fa2b3cc9d558fb943cf</td>\n",
       "      <td>65ded5353c5ee48d0b7d48c591b8f430</td>\n",
       "      <td>67.684264</td>\n",
       "    </tr>\n",
       "    <tr>\n",
       "      <th>1</th>\n",
       "      <td>6581174846221cb6c467348e87f57641</td>\n",
       "      <td>-33.440584</td>\n",
       "      <td>-70.556283</td>\n",
       "      <td>2019-10-19 01:00:00+00:00</td>\n",
       "      <td>False</td>\n",
       "      <td>195f9e9d84a4ba9033c4b6a756334d8b</td>\n",
       "      <td>45fbc6d3e05ebd93369ce542e8f2322d</td>\n",
       "      <td>57.060632</td>\n",
       "    </tr>\n",
       "    <tr>\n",
       "      <th>2</th>\n",
       "      <td>3a226ea48debc0a7ae9950d5540f2f34</td>\n",
       "      <td>-32.987022</td>\n",
       "      <td>-71.544842</td>\n",
       "      <td>2019-10-19 14:54:00+00:00</td>\n",
       "      <td>True</td>\n",
       "      <td>a5b9ddc0d82e61582fca19ad43dbaacb</td>\n",
       "      <td>07563a3fe3bbe7e3ba84431ad9d055af</td>\n",
       "      <td>NaN</td>\n",
       "    </tr>\n",
       "    <tr>\n",
       "      <th>3</th>\n",
       "      <td>7d2ed03fe4966083e74b12694b1669d8</td>\n",
       "      <td>-33.328075</td>\n",
       "      <td>-70.512659</td>\n",
       "      <td>2019-10-18 21:47:00+00:00</td>\n",
       "      <td>True</td>\n",
       "      <td>d0b3f6bf7e249e5ebb8d3129341773a2</td>\n",
       "      <td>f1748d6b0fd9d439f71450117eba2725</td>\n",
       "      <td>52.067742</td>\n",
       "    </tr>\n",
       "    <tr>\n",
       "      <th>4</th>\n",
       "      <td>b4b2682d77118155fe4716300ccf7f39</td>\n",
       "      <td>-33.403239</td>\n",
       "      <td>-70.564020</td>\n",
       "      <td>2019-10-19 20:00:00+00:00</td>\n",
       "      <td>False</td>\n",
       "      <td>5c5199ce02f7b77caa9c2590a39ad27d</td>\n",
       "      <td>1f0e3dad99908345f7439f8ffabdffc4</td>\n",
       "      <td>140.724822</td>\n",
       "    </tr>\n",
       "  </tbody>\n",
       "</table>\n",
       "</div>"
      ],
      "text/plain": [
       "                           order_id        lat        lng  \\\n",
       "0  e750294655c2c7c34d83cc3181c09de4 -33.501675 -70.579369   \n",
       "1  6581174846221cb6c467348e87f57641 -33.440584 -70.556283   \n",
       "2  3a226ea48debc0a7ae9950d5540f2f34 -32.987022 -71.544842   \n",
       "3  7d2ed03fe4966083e74b12694b1669d8 -33.328075 -70.512659   \n",
       "4  b4b2682d77118155fe4716300ccf7f39 -33.403239 -70.564020   \n",
       "\n",
       "               promised_time  on_demand                        shopper_id  \\\n",
       "0  2019-10-18 20:48:00+00:00       True  e63bc83a1a952fa2b3cc9d558fb943cf   \n",
       "1  2019-10-19 01:00:00+00:00      False  195f9e9d84a4ba9033c4b6a756334d8b   \n",
       "2  2019-10-19 14:54:00+00:00       True  a5b9ddc0d82e61582fca19ad43dbaacb   \n",
       "3  2019-10-18 21:47:00+00:00       True  d0b3f6bf7e249e5ebb8d3129341773a2   \n",
       "4  2019-10-19 20:00:00+00:00      False  5c5199ce02f7b77caa9c2590a39ad27d   \n",
       "\n",
       "                    store_branch_id  total_minutes  \n",
       "0  65ded5353c5ee48d0b7d48c591b8f430      67.684264  \n",
       "1  45fbc6d3e05ebd93369ce542e8f2322d      57.060632  \n",
       "2  07563a3fe3bbe7e3ba84431ad9d055af            NaN  \n",
       "3  f1748d6b0fd9d439f71450117eba2725      52.067742  \n",
       "4  1f0e3dad99908345f7439f8ffabdffc4     140.724822  "
      ]
     },
     "execution_count": 9,
     "metadata": {},
     "output_type": "execute_result"
    }
   ],
   "source": [
    "orders = pd.read_csv('data/orders.csv', sep=',')\n",
    "orders.head()"
   ]
  },
  {
   "cell_type": "code",
   "execution_count": 10,
   "metadata": {},
   "outputs": [
    {
     "name": "stdout",
     "output_type": "stream",
     "text": [
      "La cantidad de registros es de:  10000\n",
      "La cantidad de atributos es de:  8\n"
     ]
    }
   ],
   "source": [
    "print(\"La cantidad de registros es de: \", orders.shape[0])\n",
    "print(\"La cantidad de atributos es de: \", orders.shape[1])"
   ]
  },
  {
   "cell_type": "markdown",
   "metadata": {},
   "source": [
    "Existen valores perdidos en el atributo `total_minutes`, más adeleante se muestra la cantidad exacto de estos valores."
   ]
  },
  {
   "cell_type": "code",
   "execution_count": 11,
   "metadata": {},
   "outputs": [
    {
     "data": {
      "text/plain": [
       "order_id           False\n",
       "lat                False\n",
       "lng                False\n",
       "promised_time      False\n",
       "on_demand          False\n",
       "shopper_id         False\n",
       "store_branch_id    False\n",
       "total_minutes       True\n",
       "dtype: bool"
      ]
     },
     "execution_count": 11,
     "metadata": {},
     "output_type": "execute_result"
    }
   ],
   "source": [
    "orders.isnull().any()"
   ]
  },
  {
   "cell_type": "markdown",
   "metadata": {},
   "source": [
    "Tenemos algunos valores peridos en el atributo `total_minutes` (2000 registros) representando el __20%__ de las ordenes de compra, esto es de esperarse, debido a qué el objetivo del desafío es predecir el total de minutos para dichas ordenes. Se dejará tal cual el dataset y eventualmente se aislarán estos registros para dejarlos como data test. "
   ]
  },
  {
   "cell_type": "code",
   "execution_count": 12,
   "metadata": {},
   "outputs": [
    {
     "data": {
      "text/html": [
       "<div>\n",
       "<style scoped>\n",
       "    .dataframe tbody tr th:only-of-type {\n",
       "        vertical-align: middle;\n",
       "    }\n",
       "\n",
       "    .dataframe tbody tr th {\n",
       "        vertical-align: top;\n",
       "    }\n",
       "\n",
       "    .dataframe thead th {\n",
       "        text-align: right;\n",
       "    }\n",
       "</style>\n",
       "<table border=\"1\" class=\"dataframe\">\n",
       "  <thead>\n",
       "    <tr style=\"text-align: right;\">\n",
       "      <th></th>\n",
       "      <th>Total</th>\n",
       "      <th>Percent(%)</th>\n",
       "    </tr>\n",
       "  </thead>\n",
       "  <tbody>\n",
       "    <tr>\n",
       "      <th>total_minutes</th>\n",
       "      <td>2000</td>\n",
       "      <td>20.0</td>\n",
       "    </tr>\n",
       "    <tr>\n",
       "      <th>store_branch_id</th>\n",
       "      <td>0</td>\n",
       "      <td>0.0</td>\n",
       "    </tr>\n",
       "    <tr>\n",
       "      <th>shopper_id</th>\n",
       "      <td>0</td>\n",
       "      <td>0.0</td>\n",
       "    </tr>\n",
       "    <tr>\n",
       "      <th>on_demand</th>\n",
       "      <td>0</td>\n",
       "      <td>0.0</td>\n",
       "    </tr>\n",
       "    <tr>\n",
       "      <th>promised_time</th>\n",
       "      <td>0</td>\n",
       "      <td>0.0</td>\n",
       "    </tr>\n",
       "    <tr>\n",
       "      <th>lng</th>\n",
       "      <td>0</td>\n",
       "      <td>0.0</td>\n",
       "    </tr>\n",
       "    <tr>\n",
       "      <th>lat</th>\n",
       "      <td>0</td>\n",
       "      <td>0.0</td>\n",
       "    </tr>\n",
       "    <tr>\n",
       "      <th>order_id</th>\n",
       "      <td>0</td>\n",
       "      <td>0.0</td>\n",
       "    </tr>\n",
       "  </tbody>\n",
       "</table>\n",
       "</div>"
      ],
      "text/plain": [
       "                 Total  Percent(%)\n",
       "total_minutes     2000        20.0\n",
       "store_branch_id      0         0.0\n",
       "shopper_id           0         0.0\n",
       "on_demand            0         0.0\n",
       "promised_time        0         0.0\n",
       "lng                  0         0.0\n",
       "lat                  0         0.0\n",
       "order_id             0         0.0"
      ]
     },
     "execution_count": 12,
     "metadata": {},
     "output_type": "execute_result"
    }
   ],
   "source": [
    "# Missig Values Table\n",
    "total = orders.isnull().sum().sort_values(ascending=False)\n",
    "percent = (orders.isnull().sum() / orders.isnull().count() * 100).sort_values(ascending=False)\n",
    "missing_values = pd.concat([total, percent], axis=1, keys=['Total', 'Percent(%)'])\n",
    "missing_values"
   ]
  },
  {
   "cell_type": "markdown",
   "metadata": {},
   "source": [
    "En el siguiente gráfico se aprecia la cantidad de orden que se han entregado de acuerdo al tiempo estimado o prometido, para esta ocasión, la cantidad de pedidos entregados con respecto al tiempo estimado o prometido ha sido de __45%__ de efectividad, dejando con un __55%__ aquellos pedidos que por alguna razón no se entregaron en el tiempo prometido. \n",
    "\n",
    "__Importante:__ Mencionar que para esta categoría la cual influye en el tiempo a predecir no se aprecia un alto desbalance entre las categorías `False` y `True`."
   ]
  },
  {
   "cell_type": "code",
   "execution_count": 13,
   "metadata": {},
   "outputs": [
    {
     "data": {
      "text/plain": [
       "False    0.5453\n",
       "True     0.4547\n",
       "Name: on_demand, dtype: float64"
      ]
     },
     "execution_count": 13,
     "metadata": {},
     "output_type": "execute_result"
    }
   ],
   "source": [
    "orders['on_demand'].value_counts('%')"
   ]
  },
  {
   "cell_type": "code",
   "execution_count": 14,
   "metadata": {},
   "outputs": [
    {
     "data": {
      "image/png": "[encoded data removed]",
      "text/plain": [
       "<Figure size 576x288 with 1 Axes>"
      ]
     },
     "metadata": {},
     "output_type": "display_data"
    }
   ],
   "source": [
    "plt.figure(figsize=(8, 4))\n",
    "sns.countplot(x='on_demand', data=orders)\n",
    "plt.xlabel(\"On Demand\")\n",
    "plt.ylabel(\"Count\")\n",
    "plt.title(\"Promised Order to be delivered\");"
   ]
  },
  {
   "cell_type": "markdown",
   "metadata": {},
   "source": [
    "#### 1.3 Shoppers"
   ]
  },
  {
   "cell_type": "code",
   "execution_count": 15,
   "metadata": {},
   "outputs": [
    {
     "data": {
      "text/html": [
       "<div>\n",
       "<style scoped>\n",
       "    .dataframe tbody tr th:only-of-type {\n",
       "        vertical-align: middle;\n",
       "    }\n",
       "\n",
       "    .dataframe tbody tr th {\n",
       "        vertical-align: top;\n",
       "    }\n",
       "\n",
       "    .dataframe thead th {\n",
       "        text-align: right;\n",
       "    }\n",
       "</style>\n",
       "<table border=\"1\" class=\"dataframe\">\n",
       "  <thead>\n",
       "    <tr style=\"text-align: right;\">\n",
       "      <th></th>\n",
       "      <th>shopper_id</th>\n",
       "      <th>seniority</th>\n",
       "      <th>found_rate</th>\n",
       "      <th>picking_speed</th>\n",
       "      <th>accepted_rate</th>\n",
       "      <th>rating</th>\n",
       "    </tr>\n",
       "  </thead>\n",
       "  <tbody>\n",
       "    <tr>\n",
       "      <th>0</th>\n",
       "      <td>1fc20b0bdf697ac13dd6a15cbd2fe60a</td>\n",
       "      <td>41dc7c9e385c4d2b6c1f7836973951bf</td>\n",
       "      <td>0.8606</td>\n",
       "      <td>1.94</td>\n",
       "      <td>1.00</td>\n",
       "      <td>4.87</td>\n",
       "    </tr>\n",
       "    <tr>\n",
       "      <th>1</th>\n",
       "      <td>e1c679ac73a69c01981fdd3c5ab8beda</td>\n",
       "      <td>6c90661e6d2c7579f5ce337c3391dbb9</td>\n",
       "      <td>0.8446</td>\n",
       "      <td>1.23</td>\n",
       "      <td>0.92</td>\n",
       "      <td>4.92</td>\n",
       "    </tr>\n",
       "    <tr>\n",
       "      <th>2</th>\n",
       "      <td>09d369c66ca86ebeffacb133410c5ee1</td>\n",
       "      <td>6c90661e6d2c7579f5ce337c3391dbb9</td>\n",
       "      <td>0.8559</td>\n",
       "      <td>1.56</td>\n",
       "      <td>1.00</td>\n",
       "      <td>4.88</td>\n",
       "    </tr>\n",
       "    <tr>\n",
       "      <th>3</th>\n",
       "      <td>db39866e62b95bb04ebb1e470f2d1347</td>\n",
       "      <td>50e13ee63f086c2fe84229348bc91b5b</td>\n",
       "      <td>NaN</td>\n",
       "      <td>2.41</td>\n",
       "      <td>NaN</td>\n",
       "      <td>NaN</td>\n",
       "    </tr>\n",
       "    <tr>\n",
       "      <th>4</th>\n",
       "      <td>8efbc238660053b19f00ca431144fdae</td>\n",
       "      <td>6c90661e6d2c7579f5ce337c3391dbb9</td>\n",
       "      <td>0.8770</td>\n",
       "      <td>1.31</td>\n",
       "      <td>0.92</td>\n",
       "      <td>4.88</td>\n",
       "    </tr>\n",
       "  </tbody>\n",
       "</table>\n",
       "</div>"
      ],
      "text/plain": [
       "                         shopper_id                         seniority  \\\n",
       "0  1fc20b0bdf697ac13dd6a15cbd2fe60a  41dc7c9e385c4d2b6c1f7836973951bf   \n",
       "1  e1c679ac73a69c01981fdd3c5ab8beda  6c90661e6d2c7579f5ce337c3391dbb9   \n",
       "2  09d369c66ca86ebeffacb133410c5ee1  6c90661e6d2c7579f5ce337c3391dbb9   \n",
       "3  db39866e62b95bb04ebb1e470f2d1347  50e13ee63f086c2fe84229348bc91b5b   \n",
       "4  8efbc238660053b19f00ca431144fdae  6c90661e6d2c7579f5ce337c3391dbb9   \n",
       "\n",
       "   found_rate  picking_speed  accepted_rate  rating  \n",
       "0      0.8606           1.94           1.00    4.87  \n",
       "1      0.8446           1.23           0.92    4.92  \n",
       "2      0.8559           1.56           1.00    4.88  \n",
       "3         NaN           2.41            NaN     NaN  \n",
       "4      0.8770           1.31           0.92    4.88  "
      ]
     },
     "execution_count": 15,
     "metadata": {},
     "output_type": "execute_result"
    }
   ],
   "source": [
    "shoppers = pd.read_csv('data/shoppers.csv', sep=',')\n",
    "shoppers.head()"
   ]
  },
  {
   "cell_type": "code",
   "execution_count": 16,
   "metadata": {},
   "outputs": [
    {
     "name": "stdout",
     "output_type": "stream",
     "text": [
      "La cantidad de registros es de:  2864\n",
      "La cantidad de atributos es de:  6\n"
     ]
    }
   ],
   "source": [
    "print(\"La cantidad de registros es de: \", shoppers.shape[0])\n",
    "print(\"La cantidad de atributos es de: \", shoppers.shape[1])"
   ]
  },
  {
   "cell_type": "code",
   "execution_count": 17,
   "metadata": {},
   "outputs": [
    {
     "data": {
      "text/plain": [
       "shopper_id       False\n",
       "seniority        False\n",
       "found_rate        True\n",
       "picking_speed    False\n",
       "accepted_rate     True\n",
       "rating            True\n",
       "dtype: bool"
      ]
     },
     "execution_count": 17,
     "metadata": {},
     "output_type": "execute_result"
    }
   ],
   "source": [
    "shoppers.isnull().any()"
   ]
  },
  {
   "cell_type": "markdown",
   "metadata": {},
   "source": [
    "Se aprecia que en este dataset tenemos 3 atributos que presentan valores perdidos, estos son `found_rate` __3.53%__, `rating` __2.93%__ y `accepted_rate` __0.94%__. Eventualmente en la sección de __Feature Engineering__ se procederá a imputar estos atributos para no eliminar data, ya que en total es como un __~6%__."
   ]
  },
  {
   "cell_type": "code",
   "execution_count": 18,
   "metadata": {},
   "outputs": [
    {
     "data": {
      "text/html": [
       "<div>\n",
       "<style scoped>\n",
       "    .dataframe tbody tr th:only-of-type {\n",
       "        vertical-align: middle;\n",
       "    }\n",
       "\n",
       "    .dataframe tbody tr th {\n",
       "        vertical-align: top;\n",
       "    }\n",
       "\n",
       "    .dataframe thead th {\n",
       "        text-align: right;\n",
       "    }\n",
       "</style>\n",
       "<table border=\"1\" class=\"dataframe\">\n",
       "  <thead>\n",
       "    <tr style=\"text-align: right;\">\n",
       "      <th></th>\n",
       "      <th>Total</th>\n",
       "      <th>Percent(%)</th>\n",
       "    </tr>\n",
       "  </thead>\n",
       "  <tbody>\n",
       "    <tr>\n",
       "      <th>found_rate</th>\n",
       "      <td>101</td>\n",
       "      <td>3.53</td>\n",
       "    </tr>\n",
       "    <tr>\n",
       "      <th>rating</th>\n",
       "      <td>84</td>\n",
       "      <td>2.93</td>\n",
       "    </tr>\n",
       "    <tr>\n",
       "      <th>accepted_rate</th>\n",
       "      <td>27</td>\n",
       "      <td>0.94</td>\n",
       "    </tr>\n",
       "    <tr>\n",
       "      <th>picking_speed</th>\n",
       "      <td>0</td>\n",
       "      <td>0.00</td>\n",
       "    </tr>\n",
       "    <tr>\n",
       "      <th>seniority</th>\n",
       "      <td>0</td>\n",
       "      <td>0.00</td>\n",
       "    </tr>\n",
       "    <tr>\n",
       "      <th>shopper_id</th>\n",
       "      <td>0</td>\n",
       "      <td>0.00</td>\n",
       "    </tr>\n",
       "  </tbody>\n",
       "</table>\n",
       "</div>"
      ],
      "text/plain": [
       "               Total  Percent(%)\n",
       "found_rate       101        3.53\n",
       "rating            84        2.93\n",
       "accepted_rate     27        0.94\n",
       "picking_speed      0        0.00\n",
       "seniority          0        0.00\n",
       "shopper_id         0        0.00"
      ]
     },
     "execution_count": 18,
     "metadata": {},
     "output_type": "execute_result"
    }
   ],
   "source": [
    "# Missing Values Table\n",
    "total = shoppers.isnull().sum().sort_values(ascending=False)\n",
    "percent = round((shoppers.isnull().sum() / shoppers.isnull().count() * 100), 2)\n",
    "missing_values = pd.concat([total, percent], axis=1, keys=['Total', 'Percent(%)'])\n",
    "missing_values"
   ]
  },
  {
   "cell_type": "markdown",
   "metadata": {},
   "source": [
    "Se aprecia que para el atributo `seniority` existen 4 tipos de categoría que están identificadas por medio de un ID, en este caso se proceden a renombrar para hacer más amigable la lectura de los datos y el entendimiento de ellos.\n",
    "\n",
    "__Nota:__ En esta ocasión la distribución de la categoría cuando se es shopper está identificada por medio de un código (anonimizada), para esta ocasión tomaré una hipótesis con respecto a la cantidad que tiene cada una y que categoría puede ser.\n",
    "\n",
    "Indagando un poco por Internet sobre que categoría puede ser, he encontrado algunos nombres como `ADVANCED`, `INTERMEDIATE`, `BEGINNER` (estas 3 como principales) y una cuarta categoría `REVIEW` que asociaré como personas que estén interesados en ser shopper y que aún no han empezado."
   ]
  },
  {
   "cell_type": "code",
   "execution_count": 19,
   "metadata": {},
   "outputs": [
    {
     "data": {
      "text/plain": [
       "6c90661e6d2c7579f5ce337c3391dbb9    1643\n",
       "50e13ee63f086c2fe84229348bc91b5b     719\n",
       "41dc7c9e385c4d2b6c1f7836973951bf     440\n",
       "bb29b8d0d196b5db5a5350e5e3ae2b1f      62\n",
       "Name: seniority, dtype: int64"
      ]
     },
     "execution_count": 19,
     "metadata": {},
     "output_type": "execute_result"
    }
   ],
   "source": [
    "shoppers['seniority'].value_counts()"
   ]
  },
  {
   "cell_type": "markdown",
   "metadata": {},
   "source": [
    "La asignación del nombre de categoría por código la tomaré de mayor a menor, esto teniendo en cuenta la manera que ha crecido `Cornershop` en los últimos años, esto sería parte de mi hipótesis."
   ]
  },
  {
   "cell_type": "code",
   "execution_count": 20,
   "metadata": {},
   "outputs": [],
   "source": [
    "# Renaming seniority column values \n",
    "shopper_seniority = {'6c90661e6d2c7579f5ce337c3391dbb9': 'ADVANCED',\n",
    "                     '50e13ee63f086c2fe84229348bc91b5b': 'INTERMEDIATE',\n",
    "                     '41dc7c9e385c4d2b6c1f7836973951bf': 'BEGINNER',\n",
    "                     'bb29b8d0d196b5db5a5350e5e3ae2b1f': 'REVIEW'}\n",
    "\n",
    "shoppers['seniority'] = shoppers['seniority'].map(shopper_seniority)"
   ]
  },
  {
   "cell_type": "code",
   "execution_count": 21,
   "metadata": {},
   "outputs": [
    {
     "data": {
      "image/png": "[encoded data removed]",
      "text/plain": [
       "<Figure size 576x288 with 1 Axes>"
      ]
     },
     "metadata": {},
     "output_type": "display_data"
    }
   ],
   "source": [
    "plt.figure(figsize=(8, 4))\n",
    "sns.countplot(x='seniority', data=shoppers, order=shoppers['seniority'].value_counts().index)\n",
    "plt.xlabel('Shoppers')\n",
    "plt.ylabel('Count')\n",
    "plt.title('Shoppers Category');"
   ]
  },
  {
   "cell_type": "markdown",
   "metadata": {},
   "source": [
    "#### 1.4. Store"
   ]
  },
  {
   "cell_type": "code",
   "execution_count": 22,
   "metadata": {},
   "outputs": [
    {
     "data": {
      "text/html": [
       "<div>\n",
       "<style scoped>\n",
       "    .dataframe tbody tr th:only-of-type {\n",
       "        vertical-align: middle;\n",
       "    }\n",
       "\n",
       "    .dataframe tbody tr th {\n",
       "        vertical-align: top;\n",
       "    }\n",
       "\n",
       "    .dataframe thead th {\n",
       "        text-align: right;\n",
       "    }\n",
       "</style>\n",
       "<table border=\"1\" class=\"dataframe\">\n",
       "  <thead>\n",
       "    <tr style=\"text-align: right;\">\n",
       "      <th></th>\n",
       "      <th>store_branch_id</th>\n",
       "      <th>store_id</th>\n",
       "      <th>lat</th>\n",
       "      <th>lng</th>\n",
       "    </tr>\n",
       "  </thead>\n",
       "  <tbody>\n",
       "    <tr>\n",
       "      <th>0</th>\n",
       "      <td>aff1621254f7c1be92f64550478c56e6</td>\n",
       "      <td>92cc227532d17e56e07902b254dfad10</td>\n",
       "      <td>-33.422497</td>\n",
       "      <td>-70.609231</td>\n",
       "    </tr>\n",
       "    <tr>\n",
       "      <th>1</th>\n",
       "      <td>56352739f59643540a3a6e16985f62c7</td>\n",
       "      <td>0336dcbab05b9d5ad24f4333c7658a0e</td>\n",
       "      <td>-33.385484</td>\n",
       "      <td>-70.555579</td>\n",
       "    </tr>\n",
       "    <tr>\n",
       "      <th>2</th>\n",
       "      <td>7d04bbbe5494ae9d2f5a76aa1c00fa2f</td>\n",
       "      <td>9bf31c7ff062936a96d3c8bd1f8f2ff3</td>\n",
       "      <td>-33.416579</td>\n",
       "      <td>-70.565224</td>\n",
       "    </tr>\n",
       "    <tr>\n",
       "      <th>3</th>\n",
       "      <td>2b24d495052a8ce66358eb576b8912c8</td>\n",
       "      <td>c4ca4238a0b923820dcc509a6f75849b</td>\n",
       "      <td>-33.512578</td>\n",
       "      <td>-70.655952</td>\n",
       "    </tr>\n",
       "    <tr>\n",
       "      <th>4</th>\n",
       "      <td>5487315b1286f907165907aa8fc96619</td>\n",
       "      <td>d82c8d1619ad8176d665453cfb2e55f0</td>\n",
       "      <td>-33.347645</td>\n",
       "      <td>-70.542229</td>\n",
       "    </tr>\n",
       "  </tbody>\n",
       "</table>\n",
       "</div>"
      ],
      "text/plain": [
       "                    store_branch_id                          store_id  \\\n",
       "0  aff1621254f7c1be92f64550478c56e6  92cc227532d17e56e07902b254dfad10   \n",
       "1  56352739f59643540a3a6e16985f62c7  0336dcbab05b9d5ad24f4333c7658a0e   \n",
       "2  7d04bbbe5494ae9d2f5a76aa1c00fa2f  9bf31c7ff062936a96d3c8bd1f8f2ff3   \n",
       "3  2b24d495052a8ce66358eb576b8912c8  c4ca4238a0b923820dcc509a6f75849b   \n",
       "4  5487315b1286f907165907aa8fc96619  d82c8d1619ad8176d665453cfb2e55f0   \n",
       "\n",
       "         lat        lng  \n",
       "0 -33.422497 -70.609231  \n",
       "1 -33.385484 -70.555579  \n",
       "2 -33.416579 -70.565224  \n",
       "3 -33.512578 -70.655952  \n",
       "4 -33.347645 -70.542229  "
      ]
     },
     "execution_count": 22,
     "metadata": {},
     "output_type": "execute_result"
    }
   ],
   "source": [
    "store = pd.read_csv('data/storebranch.csv', sep=',')\n",
    "store.head()"
   ]
  },
  {
   "cell_type": "markdown",
   "metadata": {},
   "source": [
    "El dataset store no presenta valores perdidos, lo que es muy importante debido a que tenemos la longitud y latitud de la tienda, es decir, podríamos tener la dirección de la tienda."
   ]
  },
  {
   "cell_type": "code",
   "execution_count": 23,
   "metadata": {},
   "outputs": [
    {
     "data": {
      "text/plain": [
       "store_branch_id    False\n",
       "store_id           False\n",
       "lat                False\n",
       "lng                False\n",
       "dtype: bool"
      ]
     },
     "execution_count": 23,
     "metadata": {},
     "output_type": "execute_result"
    }
   ],
   "source": [
    "store.isnull().any()"
   ]
  },
  {
   "cell_type": "markdown",
   "metadata": {},
   "source": [
    "Se renombran las columnas `lat` y `lng` para diferenciales del daframe de orders que también tienen estas mismas columnas pero con respecto a laltitud y longitud de la locación de la entrega."
   ]
  },
  {
   "cell_type": "code",
   "execution_count": 24,
   "metadata": {},
   "outputs": [],
   "source": [
    "store.rename(columns=({'lat':'store_lat', 'lng':'store_lng'}), inplace=True)"
   ]
  },
  {
   "cell_type": "markdown",
   "metadata": {},
   "source": [
    "#### 1.5. Consolidated Dataset"
   ]
  },
  {
   "cell_type": "markdown",
   "metadata": {},
   "source": [
    "Se aplicará un merge al dataframe de orders para mantener la cantidad de pedidos u ordenes, para agregar información relevante a cada orden que se realizó, se debe tener en cuenta que este merge se hará progresivo para conectar con los atributos clave. "
   ]
  },
  {
   "cell_type": "code",
   "execution_count": 25,
   "metadata": {},
   "outputs": [],
   "source": [
    "# Mergin dataframes orders and orders_products\n",
    "df = pd.merge(orders, order_products, how='inner', on='order_id')"
   ]
  },
  {
   "cell_type": "code",
   "execution_count": 26,
   "metadata": {},
   "outputs": [],
   "source": [
    "# Merging orders with shoppers on \"shopper_id\"\n",
    "df = pd.merge(df, shoppers, how='inner', on='shopper_id')"
   ]
  },
  {
   "cell_type": "code",
   "execution_count": 27,
   "metadata": {},
   "outputs": [],
   "source": [
    "# Merging orders with store on \"store_branch_id\"\n",
    "df = pd.merge(df, store, how='inner', on='store_branch_id')"
   ]
  },
  {
   "cell_type": "markdown",
   "metadata": {},
   "source": [
    "Teniendo como resultado un dataset de 10.000 ordenes de compra con 21 atributos."
   ]
  },
  {
   "cell_type": "code",
   "execution_count": 28,
   "metadata": {},
   "outputs": [
    {
     "data": {
      "text/html": [
       "<div>\n",
       "<style scoped>\n",
       "    .dataframe tbody tr th:only-of-type {\n",
       "        vertical-align: middle;\n",
       "    }\n",
       "\n",
       "    .dataframe tbody tr th {\n",
       "        vertical-align: top;\n",
       "    }\n",
       "\n",
       "    .dataframe thead th {\n",
       "        text-align: right;\n",
       "    }\n",
       "</style>\n",
       "<table border=\"1\" class=\"dataframe\">\n",
       "  <thead>\n",
       "    <tr style=\"text-align: right;\">\n",
       "      <th></th>\n",
       "      <th>order_id</th>\n",
       "      <th>lat</th>\n",
       "      <th>lng</th>\n",
       "      <th>promised_time</th>\n",
       "      <th>on_demand</th>\n",
       "      <th>shopper_id</th>\n",
       "      <th>store_branch_id</th>\n",
       "      <th>total_minutes</th>\n",
       "      <th>to_weigh</th>\n",
       "      <th>no_weigh</th>\n",
       "      <th>total_products</th>\n",
       "      <th>seniority</th>\n",
       "      <th>found_rate</th>\n",
       "      <th>picking_speed</th>\n",
       "      <th>accepted_rate</th>\n",
       "      <th>rating</th>\n",
       "      <th>store_id</th>\n",
       "      <th>store_lat</th>\n",
       "      <th>store_lng</th>\n",
       "    </tr>\n",
       "  </thead>\n",
       "  <tbody>\n",
       "    <tr>\n",
       "      <th>0</th>\n",
       "      <td>e750294655c2c7c34d83cc3181c09de4</td>\n",
       "      <td>-33.501675</td>\n",
       "      <td>-70.579369</td>\n",
       "      <td>2019-10-18 20:48:00+00:00</td>\n",
       "      <td>True</td>\n",
       "      <td>e63bc83a1a952fa2b3cc9d558fb943cf</td>\n",
       "      <td>65ded5353c5ee48d0b7d48c591b8f430</td>\n",
       "      <td>67.684264</td>\n",
       "      <td>4</td>\n",
       "      <td>16.0</td>\n",
       "      <td>20.0</td>\n",
       "      <td>ADVANCED</td>\n",
       "      <td>0.9024</td>\n",
       "      <td>1.30</td>\n",
       "      <td>0.92</td>\n",
       "      <td>4.76</td>\n",
       "      <td>c4ca4238a0b923820dcc509a6f75849b</td>\n",
       "      <td>-33.48528</td>\n",
       "      <td>-70.57925</td>\n",
       "    </tr>\n",
       "    <tr>\n",
       "      <th>1</th>\n",
       "      <td>3bb5d9adb3ecac1925b60d5d26a510c4</td>\n",
       "      <td>-33.491167</td>\n",
       "      <td>-70.571649</td>\n",
       "      <td>2019-10-19 16:57:00+00:00</td>\n",
       "      <td>True</td>\n",
       "      <td>e63bc83a1a952fa2b3cc9d558fb943cf</td>\n",
       "      <td>65ded5353c5ee48d0b7d48c591b8f430</td>\n",
       "      <td>160.336211</td>\n",
       "      <td>4</td>\n",
       "      <td>63.0</td>\n",
       "      <td>67.0</td>\n",
       "      <td>ADVANCED</td>\n",
       "      <td>0.9024</td>\n",
       "      <td>1.30</td>\n",
       "      <td>0.92</td>\n",
       "      <td>4.76</td>\n",
       "      <td>c4ca4238a0b923820dcc509a6f75849b</td>\n",
       "      <td>-33.48528</td>\n",
       "      <td>-70.57925</td>\n",
       "    </tr>\n",
       "    <tr>\n",
       "      <th>2</th>\n",
       "      <td>b838eea64cf24dde0a78ce1feb84ca7c</td>\n",
       "      <td>-33.493406</td>\n",
       "      <td>-70.594164</td>\n",
       "      <td>2019-10-19 16:00:00+00:00</td>\n",
       "      <td>False</td>\n",
       "      <td>cb5ef07d15fb3981eeb6e0011bc80163</td>\n",
       "      <td>65ded5353c5ee48d0b7d48c591b8f430</td>\n",
       "      <td>122.239210</td>\n",
       "      <td>1</td>\n",
       "      <td>155.0</td>\n",
       "      <td>156.0</td>\n",
       "      <td>ADVANCED</td>\n",
       "      <td>0.8909</td>\n",
       "      <td>1.17</td>\n",
       "      <td>0.96</td>\n",
       "      <td>5.00</td>\n",
       "      <td>c4ca4238a0b923820dcc509a6f75849b</td>\n",
       "      <td>-33.48528</td>\n",
       "      <td>-70.57925</td>\n",
       "    </tr>\n",
       "    <tr>\n",
       "      <th>3</th>\n",
       "      <td>2c85303190a77493348b0b827232f4d6</td>\n",
       "      <td>-33.487836</td>\n",
       "      <td>-70.572412</td>\n",
       "      <td>2019-10-19 19:00:00+00:00</td>\n",
       "      <td>False</td>\n",
       "      <td>ca54a789a8dc54742710490e25df9844</td>\n",
       "      <td>65ded5353c5ee48d0b7d48c591b8f430</td>\n",
       "      <td>133.113926</td>\n",
       "      <td>8</td>\n",
       "      <td>115.0</td>\n",
       "      <td>123.0</td>\n",
       "      <td>ADVANCED</td>\n",
       "      <td>0.8462</td>\n",
       "      <td>1.11</td>\n",
       "      <td>0.96</td>\n",
       "      <td>4.96</td>\n",
       "      <td>c4ca4238a0b923820dcc509a6f75849b</td>\n",
       "      <td>-33.48528</td>\n",
       "      <td>-70.57925</td>\n",
       "    </tr>\n",
       "    <tr>\n",
       "      <th>4</th>\n",
       "      <td>e606cc26b843c312df82a29d1f8d4372</td>\n",
       "      <td>-33.504759</td>\n",
       "      <td>-70.552168</td>\n",
       "      <td>2019-10-19 00:00:00+00:00</td>\n",
       "      <td>False</td>\n",
       "      <td>362e274d254be8fae76396b8f10a7fd5</td>\n",
       "      <td>65ded5353c5ee48d0b7d48c591b8f430</td>\n",
       "      <td>94.734479</td>\n",
       "      <td>3</td>\n",
       "      <td>97.0</td>\n",
       "      <td>100.0</td>\n",
       "      <td>INTERMEDIATE</td>\n",
       "      <td>0.8138</td>\n",
       "      <td>1.89</td>\n",
       "      <td>0.84</td>\n",
       "      <td>4.68</td>\n",
       "      <td>c4ca4238a0b923820dcc509a6f75849b</td>\n",
       "      <td>-33.48528</td>\n",
       "      <td>-70.57925</td>\n",
       "    </tr>\n",
       "  </tbody>\n",
       "</table>\n",
       "</div>"
      ],
      "text/plain": [
       "                           order_id        lat        lng  \\\n",
       "0  e750294655c2c7c34d83cc3181c09de4 -33.501675 -70.579369   \n",
       "1  3bb5d9adb3ecac1925b60d5d26a510c4 -33.491167 -70.571649   \n",
       "2  b838eea64cf24dde0a78ce1feb84ca7c -33.493406 -70.594164   \n",
       "3  2c85303190a77493348b0b827232f4d6 -33.487836 -70.572412   \n",
       "4  e606cc26b843c312df82a29d1f8d4372 -33.504759 -70.552168   \n",
       "\n",
       "               promised_time  on_demand                        shopper_id  \\\n",
       "0  2019-10-18 20:48:00+00:00       True  e63bc83a1a952fa2b3cc9d558fb943cf   \n",
       "1  2019-10-19 16:57:00+00:00       True  e63bc83a1a952fa2b3cc9d558fb943cf   \n",
       "2  2019-10-19 16:00:00+00:00      False  cb5ef07d15fb3981eeb6e0011bc80163   \n",
       "3  2019-10-19 19:00:00+00:00      False  ca54a789a8dc54742710490e25df9844   \n",
       "4  2019-10-19 00:00:00+00:00      False  362e274d254be8fae76396b8f10a7fd5   \n",
       "\n",
       "                    store_branch_id  total_minutes  to_weigh  no_weigh  \\\n",
       "0  65ded5353c5ee48d0b7d48c591b8f430      67.684264         4      16.0   \n",
       "1  65ded5353c5ee48d0b7d48c591b8f430     160.336211         4      63.0   \n",
       "2  65ded5353c5ee48d0b7d48c591b8f430     122.239210         1     155.0   \n",
       "3  65ded5353c5ee48d0b7d48c591b8f430     133.113926         8     115.0   \n",
       "4  65ded5353c5ee48d0b7d48c591b8f430      94.734479         3      97.0   \n",
       "\n",
       "   total_products     seniority  found_rate  picking_speed  accepted_rate  \\\n",
       "0            20.0      ADVANCED      0.9024           1.30           0.92   \n",
       "1            67.0      ADVANCED      0.9024           1.30           0.92   \n",
       "2           156.0      ADVANCED      0.8909           1.17           0.96   \n",
       "3           123.0      ADVANCED      0.8462           1.11           0.96   \n",
       "4           100.0  INTERMEDIATE      0.8138           1.89           0.84   \n",
       "\n",
       "   rating                          store_id  store_lat  store_lng  \n",
       "0    4.76  c4ca4238a0b923820dcc509a6f75849b  -33.48528  -70.57925  \n",
       "1    4.76  c4ca4238a0b923820dcc509a6f75849b  -33.48528  -70.57925  \n",
       "2    5.00  c4ca4238a0b923820dcc509a6f75849b  -33.48528  -70.57925  \n",
       "3    4.96  c4ca4238a0b923820dcc509a6f75849b  -33.48528  -70.57925  \n",
       "4    4.68  c4ca4238a0b923820dcc509a6f75849b  -33.48528  -70.57925  "
      ]
     },
     "execution_count": 28,
     "metadata": {},
     "output_type": "execute_result"
    }
   ],
   "source": [
    "df.head()"
   ]
  },
  {
   "cell_type": "markdown",
   "metadata": {},
   "source": [
    "## 2. Feature Engineering"
   ]
  },
  {
   "cell_type": "markdown",
   "metadata": {},
   "source": [
    "En esta etapa se desarrollará toda la parte de pre-procesamiento, transformaciones y feature engineering, que nos ayudarán a enriquecer los datos al momento de modelarlos. También se crea un archivo llamado `helpers.py` en el cual se irán agregando funciones y llamarlas desde el notebook, esto con el objetivo de no \"ensuciar\" la redacción y el código. "
   ]
  },
  {
   "cell_type": "code",
   "execution_count": 29,
   "metadata": {
    "scrolled": true
   },
   "outputs": [
    {
     "data": {
      "text/html": [
       "<div>\n",
       "<style scoped>\n",
       "    .dataframe tbody tr th:only-of-type {\n",
       "        vertical-align: middle;\n",
       "    }\n",
       "\n",
       "    .dataframe tbody tr th {\n",
       "        vertical-align: top;\n",
       "    }\n",
       "\n",
       "    .dataframe thead th {\n",
       "        text-align: right;\n",
       "    }\n",
       "</style>\n",
       "<table border=\"1\" class=\"dataframe\">\n",
       "  <thead>\n",
       "    <tr style=\"text-align: right;\">\n",
       "      <th></th>\n",
       "      <th>order_id</th>\n",
       "      <th>lat</th>\n",
       "      <th>lng</th>\n",
       "      <th>promised_time</th>\n",
       "      <th>on_demand</th>\n",
       "      <th>shopper_id</th>\n",
       "      <th>store_branch_id</th>\n",
       "      <th>total_minutes</th>\n",
       "      <th>to_weigh</th>\n",
       "      <th>no_weigh</th>\n",
       "      <th>total_products</th>\n",
       "      <th>seniority</th>\n",
       "      <th>found_rate</th>\n",
       "      <th>picking_speed</th>\n",
       "      <th>accepted_rate</th>\n",
       "      <th>rating</th>\n",
       "      <th>store_id</th>\n",
       "      <th>store_lat</th>\n",
       "      <th>store_lng</th>\n",
       "    </tr>\n",
       "  </thead>\n",
       "  <tbody>\n",
       "    <tr>\n",
       "      <th>0</th>\n",
       "      <td>e750294655c2c7c34d83cc3181c09de4</td>\n",
       "      <td>-33.501675</td>\n",
       "      <td>-70.579369</td>\n",
       "      <td>2019-10-18 20:48:00+00:00</td>\n",
       "      <td>True</td>\n",
       "      <td>e63bc83a1a952fa2b3cc9d558fb943cf</td>\n",
       "      <td>65ded5353c5ee48d0b7d48c591b8f430</td>\n",
       "      <td>67.684264</td>\n",
       "      <td>4</td>\n",
       "      <td>16.0</td>\n",
       "      <td>20.0</td>\n",
       "      <td>ADVANCED</td>\n",
       "      <td>0.9024</td>\n",
       "      <td>1.30</td>\n",
       "      <td>0.92</td>\n",
       "      <td>4.76</td>\n",
       "      <td>c4ca4238a0b923820dcc509a6f75849b</td>\n",
       "      <td>-33.48528</td>\n",
       "      <td>-70.57925</td>\n",
       "    </tr>\n",
       "    <tr>\n",
       "      <th>1</th>\n",
       "      <td>3bb5d9adb3ecac1925b60d5d26a510c4</td>\n",
       "      <td>-33.491167</td>\n",
       "      <td>-70.571649</td>\n",
       "      <td>2019-10-19 16:57:00+00:00</td>\n",
       "      <td>True</td>\n",
       "      <td>e63bc83a1a952fa2b3cc9d558fb943cf</td>\n",
       "      <td>65ded5353c5ee48d0b7d48c591b8f430</td>\n",
       "      <td>160.336211</td>\n",
       "      <td>4</td>\n",
       "      <td>63.0</td>\n",
       "      <td>67.0</td>\n",
       "      <td>ADVANCED</td>\n",
       "      <td>0.9024</td>\n",
       "      <td>1.30</td>\n",
       "      <td>0.92</td>\n",
       "      <td>4.76</td>\n",
       "      <td>c4ca4238a0b923820dcc509a6f75849b</td>\n",
       "      <td>-33.48528</td>\n",
       "      <td>-70.57925</td>\n",
       "    </tr>\n",
       "    <tr>\n",
       "      <th>2</th>\n",
       "      <td>b838eea64cf24dde0a78ce1feb84ca7c</td>\n",
       "      <td>-33.493406</td>\n",
       "      <td>-70.594164</td>\n",
       "      <td>2019-10-19 16:00:00+00:00</td>\n",
       "      <td>False</td>\n",
       "      <td>cb5ef07d15fb3981eeb6e0011bc80163</td>\n",
       "      <td>65ded5353c5ee48d0b7d48c591b8f430</td>\n",
       "      <td>122.239210</td>\n",
       "      <td>1</td>\n",
       "      <td>155.0</td>\n",
       "      <td>156.0</td>\n",
       "      <td>ADVANCED</td>\n",
       "      <td>0.8909</td>\n",
       "      <td>1.17</td>\n",
       "      <td>0.96</td>\n",
       "      <td>5.00</td>\n",
       "      <td>c4ca4238a0b923820dcc509a6f75849b</td>\n",
       "      <td>-33.48528</td>\n",
       "      <td>-70.57925</td>\n",
       "    </tr>\n",
       "    <tr>\n",
       "      <th>3</th>\n",
       "      <td>2c85303190a77493348b0b827232f4d6</td>\n",
       "      <td>-33.487836</td>\n",
       "      <td>-70.572412</td>\n",
       "      <td>2019-10-19 19:00:00+00:00</td>\n",
       "      <td>False</td>\n",
       "      <td>ca54a789a8dc54742710490e25df9844</td>\n",
       "      <td>65ded5353c5ee48d0b7d48c591b8f430</td>\n",
       "      <td>133.113926</td>\n",
       "      <td>8</td>\n",
       "      <td>115.0</td>\n",
       "      <td>123.0</td>\n",
       "      <td>ADVANCED</td>\n",
       "      <td>0.8462</td>\n",
       "      <td>1.11</td>\n",
       "      <td>0.96</td>\n",
       "      <td>4.96</td>\n",
       "      <td>c4ca4238a0b923820dcc509a6f75849b</td>\n",
       "      <td>-33.48528</td>\n",
       "      <td>-70.57925</td>\n",
       "    </tr>\n",
       "    <tr>\n",
       "      <th>4</th>\n",
       "      <td>e606cc26b843c312df82a29d1f8d4372</td>\n",
       "      <td>-33.504759</td>\n",
       "      <td>-70.552168</td>\n",
       "      <td>2019-10-19 00:00:00+00:00</td>\n",
       "      <td>False</td>\n",
       "      <td>362e274d254be8fae76396b8f10a7fd5</td>\n",
       "      <td>65ded5353c5ee48d0b7d48c591b8f430</td>\n",
       "      <td>94.734479</td>\n",
       "      <td>3</td>\n",
       "      <td>97.0</td>\n",
       "      <td>100.0</td>\n",
       "      <td>INTERMEDIATE</td>\n",
       "      <td>0.8138</td>\n",
       "      <td>1.89</td>\n",
       "      <td>0.84</td>\n",
       "      <td>4.68</td>\n",
       "      <td>c4ca4238a0b923820dcc509a6f75849b</td>\n",
       "      <td>-33.48528</td>\n",
       "      <td>-70.57925</td>\n",
       "    </tr>\n",
       "  </tbody>\n",
       "</table>\n",
       "</div>"
      ],
      "text/plain": [
       "                           order_id        lat        lng  \\\n",
       "0  e750294655c2c7c34d83cc3181c09de4 -33.501675 -70.579369   \n",
       "1  3bb5d9adb3ecac1925b60d5d26a510c4 -33.491167 -70.571649   \n",
       "2  b838eea64cf24dde0a78ce1feb84ca7c -33.493406 -70.594164   \n",
       "3  2c85303190a77493348b0b827232f4d6 -33.487836 -70.572412   \n",
       "4  e606cc26b843c312df82a29d1f8d4372 -33.504759 -70.552168   \n",
       "\n",
       "               promised_time  on_demand                        shopper_id  \\\n",
       "0  2019-10-18 20:48:00+00:00       True  e63bc83a1a952fa2b3cc9d558fb943cf   \n",
       "1  2019-10-19 16:57:00+00:00       True  e63bc83a1a952fa2b3cc9d558fb943cf   \n",
       "2  2019-10-19 16:00:00+00:00      False  cb5ef07d15fb3981eeb6e0011bc80163   \n",
       "3  2019-10-19 19:00:00+00:00      False  ca54a789a8dc54742710490e25df9844   \n",
       "4  2019-10-19 00:00:00+00:00      False  362e274d254be8fae76396b8f10a7fd5   \n",
       "\n",
       "                    store_branch_id  total_minutes  to_weigh  no_weigh  \\\n",
       "0  65ded5353c5ee48d0b7d48c591b8f430      67.684264         4      16.0   \n",
       "1  65ded5353c5ee48d0b7d48c591b8f430     160.336211         4      63.0   \n",
       "2  65ded5353c5ee48d0b7d48c591b8f430     122.239210         1     155.0   \n",
       "3  65ded5353c5ee48d0b7d48c591b8f430     133.113926         8     115.0   \n",
       "4  65ded5353c5ee48d0b7d48c591b8f430      94.734479         3      97.0   \n",
       "\n",
       "   total_products     seniority  found_rate  picking_speed  accepted_rate  \\\n",
       "0            20.0      ADVANCED      0.9024           1.30           0.92   \n",
       "1            67.0      ADVANCED      0.9024           1.30           0.92   \n",
       "2           156.0      ADVANCED      0.8909           1.17           0.96   \n",
       "3           123.0      ADVANCED      0.8462           1.11           0.96   \n",
       "4           100.0  INTERMEDIATE      0.8138           1.89           0.84   \n",
       "\n",
       "   rating                          store_id  store_lat  store_lng  \n",
       "0    4.76  c4ca4238a0b923820dcc509a6f75849b  -33.48528  -70.57925  \n",
       "1    4.76  c4ca4238a0b923820dcc509a6f75849b  -33.48528  -70.57925  \n",
       "2    5.00  c4ca4238a0b923820dcc509a6f75849b  -33.48528  -70.57925  \n",
       "3    4.96  c4ca4238a0b923820dcc509a6f75849b  -33.48528  -70.57925  \n",
       "4    4.68  c4ca4238a0b923820dcc509a6f75849b  -33.48528  -70.57925  "
      ]
     },
     "execution_count": 29,
     "metadata": {},
     "output_type": "execute_result"
    }
   ],
   "source": [
    "# Making copy of final dataframe\n",
    "orders = df.copy()\n",
    "orders.head()"
   ]
  },
  {
   "cell_type": "code",
   "execution_count": 30,
   "metadata": {},
   "outputs": [
    {
     "data": {
      "text/plain": [
       "order_id           False\n",
       "lat                False\n",
       "lng                False\n",
       "promised_time      False\n",
       "on_demand          False\n",
       "shopper_id         False\n",
       "store_branch_id    False\n",
       "total_minutes       True\n",
       "to_weigh           False\n",
       "no_weigh           False\n",
       "total_products     False\n",
       "seniority          False\n",
       "found_rate          True\n",
       "picking_speed      False\n",
       "accepted_rate       True\n",
       "rating              True\n",
       "store_id           False\n",
       "store_lat          False\n",
       "store_lng          False\n",
       "dtype: bool"
      ]
     },
     "execution_count": 30,
     "metadata": {},
     "output_type": "execute_result"
    }
   ],
   "source": [
    "orders.isnull().any()"
   ]
  },
  {
   "cell_type": "markdown",
   "metadata": {},
   "source": [
    "Antes de realizar el análisis exploratorio y posteriormente el descriptivo, se debe calcluar la distancia entre la dirección del pedido u orden y la locación de la tienda. Nuestro dataset consolidado está constituido por latitudes y longitudes tanto de los pedidos como de las tiendas, estos datos están anonimizados por lo que no se conoce la locación exacta de cada uno, por tal motivo se calculará la distancia entre los 2 puntos por medio de la fórmula `Haversine` y obtener el resultado en __KM__ para trabajar con este resultado.\n",
    "\n",
    "Para hacer el cálculo de la distancia se reviso la documentación de Scikit-Learn, para extraer la fórmula de la distancia y crear una función [Doc Haversine](https://scikit-learn.org/stable/modules/generated/sklearn.metrics.pairwise.haversine_distances.html)\n",
    "\n",
    "![Haversine Formula](https://macalupu.com/wp-content/uploads/2019/03/haversineFormula.png)"
   ]
  },
  {
   "cell_type": "code",
   "execution_count": 31,
   "metadata": {},
   "outputs": [
    {
     "data": {
      "text/html": [
       "<div>\n",
       "<style scoped>\n",
       "    .dataframe tbody tr th:only-of-type {\n",
       "        vertical-align: middle;\n",
       "    }\n",
       "\n",
       "    .dataframe tbody tr th {\n",
       "        vertical-align: top;\n",
       "    }\n",
       "\n",
       "    .dataframe thead th {\n",
       "        text-align: right;\n",
       "    }\n",
       "</style>\n",
       "<table border=\"1\" class=\"dataframe\">\n",
       "  <thead>\n",
       "    <tr style=\"text-align: right;\">\n",
       "      <th></th>\n",
       "      <th>order_id</th>\n",
       "      <th>promised_time</th>\n",
       "      <th>on_demand</th>\n",
       "      <th>shopper_id</th>\n",
       "      <th>store_branch_id</th>\n",
       "      <th>total_minutes</th>\n",
       "      <th>to_weigh</th>\n",
       "      <th>no_weigh</th>\n",
       "      <th>total_products</th>\n",
       "      <th>seniority</th>\n",
       "      <th>found_rate</th>\n",
       "      <th>picking_speed</th>\n",
       "      <th>accepted_rate</th>\n",
       "      <th>rating</th>\n",
       "      <th>store_id</th>\n",
       "      <th>distance</th>\n",
       "    </tr>\n",
       "  </thead>\n",
       "  <tbody>\n",
       "    <tr>\n",
       "      <th>0</th>\n",
       "      <td>e750294655c2c7c34d83cc3181c09de4</td>\n",
       "      <td>2019-10-18 20:48:00+00:00</td>\n",
       "      <td>True</td>\n",
       "      <td>e63bc83a1a952fa2b3cc9d558fb943cf</td>\n",
       "      <td>65ded5353c5ee48d0b7d48c591b8f430</td>\n",
       "      <td>67.684264</td>\n",
       "      <td>4</td>\n",
       "      <td>16.0</td>\n",
       "      <td>20.0</td>\n",
       "      <td>ADVANCED</td>\n",
       "      <td>0.9024</td>\n",
       "      <td>1.30</td>\n",
       "      <td>0.92</td>\n",
       "      <td>4.76</td>\n",
       "      <td>c4ca4238a0b923820dcc509a6f75849b</td>\n",
       "      <td>1.823025</td>\n",
       "    </tr>\n",
       "    <tr>\n",
       "      <th>1</th>\n",
       "      <td>3bb5d9adb3ecac1925b60d5d26a510c4</td>\n",
       "      <td>2019-10-19 16:57:00+00:00</td>\n",
       "      <td>True</td>\n",
       "      <td>e63bc83a1a952fa2b3cc9d558fb943cf</td>\n",
       "      <td>65ded5353c5ee48d0b7d48c591b8f430</td>\n",
       "      <td>160.336211</td>\n",
       "      <td>4</td>\n",
       "      <td>63.0</td>\n",
       "      <td>67.0</td>\n",
       "      <td>ADVANCED</td>\n",
       "      <td>0.9024</td>\n",
       "      <td>1.30</td>\n",
       "      <td>0.92</td>\n",
       "      <td>4.76</td>\n",
       "      <td>c4ca4238a0b923820dcc509a6f75849b</td>\n",
       "      <td>0.961905</td>\n",
       "    </tr>\n",
       "    <tr>\n",
       "      <th>2</th>\n",
       "      <td>b838eea64cf24dde0a78ce1feb84ca7c</td>\n",
       "      <td>2019-10-19 16:00:00+00:00</td>\n",
       "      <td>False</td>\n",
       "      <td>cb5ef07d15fb3981eeb6e0011bc80163</td>\n",
       "      <td>65ded5353c5ee48d0b7d48c591b8f430</td>\n",
       "      <td>122.239210</td>\n",
       "      <td>1</td>\n",
       "      <td>155.0</td>\n",
       "      <td>156.0</td>\n",
       "      <td>ADVANCED</td>\n",
       "      <td>0.8909</td>\n",
       "      <td>1.17</td>\n",
       "      <td>0.96</td>\n",
       "      <td>5.00</td>\n",
       "      <td>c4ca4238a0b923820dcc509a6f75849b</td>\n",
       "      <td>1.652014</td>\n",
       "    </tr>\n",
       "    <tr>\n",
       "      <th>3</th>\n",
       "      <td>2c85303190a77493348b0b827232f4d6</td>\n",
       "      <td>2019-10-19 19:00:00+00:00</td>\n",
       "      <td>False</td>\n",
       "      <td>ca54a789a8dc54742710490e25df9844</td>\n",
       "      <td>65ded5353c5ee48d0b7d48c591b8f430</td>\n",
       "      <td>133.113926</td>\n",
       "      <td>8</td>\n",
       "      <td>115.0</td>\n",
       "      <td>123.0</td>\n",
       "      <td>ADVANCED</td>\n",
       "      <td>0.8462</td>\n",
       "      <td>1.11</td>\n",
       "      <td>0.96</td>\n",
       "      <td>4.96</td>\n",
       "      <td>c4ca4238a0b923820dcc509a6f75849b</td>\n",
       "      <td>0.694901</td>\n",
       "    </tr>\n",
       "    <tr>\n",
       "      <th>4</th>\n",
       "      <td>e606cc26b843c312df82a29d1f8d4372</td>\n",
       "      <td>2019-10-19 00:00:00+00:00</td>\n",
       "      <td>False</td>\n",
       "      <td>362e274d254be8fae76396b8f10a7fd5</td>\n",
       "      <td>65ded5353c5ee48d0b7d48c591b8f430</td>\n",
       "      <td>94.734479</td>\n",
       "      <td>3</td>\n",
       "      <td>97.0</td>\n",
       "      <td>100.0</td>\n",
       "      <td>INTERMEDIATE</td>\n",
       "      <td>0.8138</td>\n",
       "      <td>1.89</td>\n",
       "      <td>0.84</td>\n",
       "      <td>4.68</td>\n",
       "      <td>c4ca4238a0b923820dcc509a6f75849b</td>\n",
       "      <td>3.316283</td>\n",
       "    </tr>\n",
       "  </tbody>\n",
       "</table>\n",
       "</div>"
      ],
      "text/plain": [
       "                           order_id              promised_time  on_demand  \\\n",
       "0  e750294655c2c7c34d83cc3181c09de4  2019-10-18 20:48:00+00:00       True   \n",
       "1  3bb5d9adb3ecac1925b60d5d26a510c4  2019-10-19 16:57:00+00:00       True   \n",
       "2  b838eea64cf24dde0a78ce1feb84ca7c  2019-10-19 16:00:00+00:00      False   \n",
       "3  2c85303190a77493348b0b827232f4d6  2019-10-19 19:00:00+00:00      False   \n",
       "4  e606cc26b843c312df82a29d1f8d4372  2019-10-19 00:00:00+00:00      False   \n",
       "\n",
       "                         shopper_id                   store_branch_id  \\\n",
       "0  e63bc83a1a952fa2b3cc9d558fb943cf  65ded5353c5ee48d0b7d48c591b8f430   \n",
       "1  e63bc83a1a952fa2b3cc9d558fb943cf  65ded5353c5ee48d0b7d48c591b8f430   \n",
       "2  cb5ef07d15fb3981eeb6e0011bc80163  65ded5353c5ee48d0b7d48c591b8f430   \n",
       "3  ca54a789a8dc54742710490e25df9844  65ded5353c5ee48d0b7d48c591b8f430   \n",
       "4  362e274d254be8fae76396b8f10a7fd5  65ded5353c5ee48d0b7d48c591b8f430   \n",
       "\n",
       "   total_minutes  to_weigh  no_weigh  total_products     seniority  \\\n",
       "0      67.684264         4      16.0            20.0      ADVANCED   \n",
       "1     160.336211         4      63.0            67.0      ADVANCED   \n",
       "2     122.239210         1     155.0           156.0      ADVANCED   \n",
       "3     133.113926         8     115.0           123.0      ADVANCED   \n",
       "4      94.734479         3      97.0           100.0  INTERMEDIATE   \n",
       "\n",
       "   found_rate  picking_speed  accepted_rate  rating  \\\n",
       "0      0.9024           1.30           0.92    4.76   \n",
       "1      0.9024           1.30           0.92    4.76   \n",
       "2      0.8909           1.17           0.96    5.00   \n",
       "3      0.8462           1.11           0.96    4.96   \n",
       "4      0.8138           1.89           0.84    4.68   \n",
       "\n",
       "                           store_id  distance  \n",
       "0  c4ca4238a0b923820dcc509a6f75849b  1.823025  \n",
       "1  c4ca4238a0b923820dcc509a6f75849b  0.961905  \n",
       "2  c4ca4238a0b923820dcc509a6f75849b  1.652014  \n",
       "3  c4ca4238a0b923820dcc509a6f75849b  0.694901  \n",
       "4  c4ca4238a0b923820dcc509a6f75849b  3.316283  "
      ]
     },
     "execution_count": 31,
     "metadata": {},
     "output_type": "execute_result"
    }
   ],
   "source": [
    "# Calculating distance between order and store location\n",
    "orders['distance'] = orders.apply(lambda x: haversine(x['lat'], x['lng'], x['store_lat'], x['store_lng']), axis=1)\n",
    "\n",
    "# Dropping lat and lng columns\n",
    "orders.drop(columns=['lat', 'lng', 'store_lat', 'store_lng'], inplace=True)\n",
    "orders.head()"
   ]
  },
  {
   "cell_type": "markdown",
   "metadata": {},
   "source": [
    "Recodifico la columna `on_demand`, ya que es booleana y la convierto en númerica para modelar los datos eventualmente. "
   ]
  },
  {
   "cell_type": "code",
   "execution_count": 32,
   "metadata": {},
   "outputs": [],
   "source": [
    "# Recoding on_demand column, when 1 is equal False and 0 is True\n",
    "orders['on_demand'] = np.where(orders['on_demand'] == False, 1, 0)"
   ]
  },
  {
   "cell_type": "code",
   "execution_count": 33,
   "metadata": {},
   "outputs": [
    {
     "data": {
      "text/html": [
       "<div>\n",
       "<style scoped>\n",
       "    .dataframe tbody tr th:only-of-type {\n",
       "        vertical-align: middle;\n",
       "    }\n",
       "\n",
       "    .dataframe tbody tr th {\n",
       "        vertical-align: top;\n",
       "    }\n",
       "\n",
       "    .dataframe thead th {\n",
       "        text-align: right;\n",
       "    }\n",
       "</style>\n",
       "<table border=\"1\" class=\"dataframe\">\n",
       "  <thead>\n",
       "    <tr style=\"text-align: right;\">\n",
       "      <th></th>\n",
       "      <th>Total</th>\n",
       "      <th>Percent(%)</th>\n",
       "    </tr>\n",
       "  </thead>\n",
       "  <tbody>\n",
       "    <tr>\n",
       "      <th>total_minutes</th>\n",
       "      <td>1995</td>\n",
       "      <td>19.993987</td>\n",
       "    </tr>\n",
       "    <tr>\n",
       "      <th>found_rate</th>\n",
       "      <td>199</td>\n",
       "      <td>1.994388</td>\n",
       "    </tr>\n",
       "    <tr>\n",
       "      <th>rating</th>\n",
       "      <td>162</td>\n",
       "      <td>1.623572</td>\n",
       "    </tr>\n",
       "    <tr>\n",
       "      <th>accepted_rate</th>\n",
       "      <td>46</td>\n",
       "      <td>0.461014</td>\n",
       "    </tr>\n",
       "    <tr>\n",
       "      <th>distance</th>\n",
       "      <td>0</td>\n",
       "      <td>0.000000</td>\n",
       "    </tr>\n",
       "  </tbody>\n",
       "</table>\n",
       "</div>"
      ],
      "text/plain": [
       "               Total  Percent(%)\n",
       "total_minutes   1995   19.993987\n",
       "found_rate       199    1.994388\n",
       "rating           162    1.623572\n",
       "accepted_rate     46    0.461014\n",
       "distance           0    0.000000"
      ]
     },
     "execution_count": 33,
     "metadata": {},
     "output_type": "execute_result"
    }
   ],
   "source": [
    "# Missig Values Table\n",
    "total = orders.isnull().sum().sort_values(ascending=False)\n",
    "percent = (orders.isnull().sum() / orders.isnull().count() * 100).sort_values(ascending=False)\n",
    "missing_values = pd.concat([total, percent], axis=1, keys=['Total', 'Percent(%)'])\n",
    "missing_values.head()"
   ]
  },
  {
   "cell_type": "markdown",
   "metadata": {},
   "source": [
    "Para enriquecer más los datos y posteriormente hacer análisis descriptivos con mayor profundidad, tomé `promised_time` y lo separé por `hora`, `día`, `mes` y `weekday`, con el objetivo de entender mucho más la entrega de la orden de compra."
   ]
  },
  {
   "cell_type": "code",
   "execution_count": 34,
   "metadata": {},
   "outputs": [],
   "source": [
    "orders['timestamp'] = orders['promised_time'].apply(lambda x: pd.to_datetime(x.split('+')[0]))\n",
    "orders['hour'] = orders['timestamp'].apply(lambda x: x.hour)\n",
    "orders['day'] = orders['timestamp'].apply(lambda x: x.day)\n",
    "orders['month'] = orders['timestamp'].apply(lambda x: x.month)\n",
    "orders['weekday'] = orders['timestamp'].apply(lambda x: x.weekday())"
   ]
  },
  {
   "cell_type": "markdown",
   "metadata": {},
   "source": [
    "Elimino algunos atributos, no los considero importante al momento de modelar, en esta ocasión no me quiero enfocar en datos como la cantidad de entregas por shopper y/o la cantidad de tiendas que haya en el dataset. "
   ]
  },
  {
   "cell_type": "code",
   "execution_count": 35,
   "metadata": {},
   "outputs": [],
   "source": [
    "# Removing some columns that irrelevant, ''\n",
    "orders.drop(columns=['shopper_id', 'store_branch_id', \n",
    "                     'store_id', 'timestamp'], inplace=True)"
   ]
  },
  {
   "cell_type": "markdown",
   "metadata": {},
   "source": [
    "Antes de modelar los datos voy a dejar la data total en un dataframe que no contendrá ningún tipo de imputación y otro donde si tendrá imputaciones con respecto a los atributos antes mencionados. Esto con el objetivo de modelar de 2 maneras para saber que tan bien se comportan los datos al momento de implementar los algoritmos de `Machine Learning`.\n",
    "\n",
    "__Nota:__ El atributo `total_minutes` no será imputado, este es el vector objetivo a predecir."
   ]
  },
  {
   "cell_type": "code",
   "execution_count": 36,
   "metadata": {},
   "outputs": [],
   "source": [
    "# Total datafame without imputation\n",
    "orders_no_imp = orders.copy()"
   ]
  },
  {
   "cell_type": "markdown",
   "metadata": {},
   "source": [
    "__Analizamos los atributos a imputar__\n",
    "\n",
    "Aislaré los `NaN` de cada uno de los atributos a imputar `found_rate`, `accepted_rate` y `rating`. El objetivo es tener la media del atributo que tiene los valores perdidos, estos valores se obtendrán agrupando `seniority` del shopper y que realice el cálculo correspondiente."
   ]
  },
  {
   "cell_type": "code",
   "execution_count": 37,
   "metadata": {},
   "outputs": [],
   "source": [
    "# Orders imputation Dataframe\n",
    "orders_imp = orders.copy()"
   ]
  },
  {
   "cell_type": "code",
   "execution_count": 38,
   "metadata": {},
   "outputs": [],
   "source": [
    "# Missing Values Dataframes\n",
    "mv_df_fr = orders_imp[orders_imp['found_rate'].isnull()]\n",
    "mv_df_ar = orders_imp[orders_imp['accepted_rate'].isnull()]\n",
    "mv_df_ra = orders_imp[orders_imp['rating'].isnull()]"
   ]
  },
  {
   "cell_type": "markdown",
   "metadata": {},
   "source": [
    "Las categorías del shopper que se encuentran en los dataframes con valores perdidos son `REVIEW`, `INTERMEDIATE` y ` BEGINNER` para `found_rate`, para `accepted_rate` están `REVIEW`, `INTERMEDIATE` y para `rating` están `REVIEW`, `INTERMEDIATE`, ` BEGINNER` y `ADVANCED`. Se obtiene la media de cada atributo con valores perdido por medio de la agrupación `seniority`, con el objetivo de posteriormente hacer una imputación en cuanto a la media por categoría del shopper y no imputar por la media del atributo de manera global."
   ]
  },
  {
   "cell_type": "code",
   "execution_count": 39,
   "metadata": {},
   "outputs": [
    {
     "data": {
      "text/plain": [
       "REVIEW          102\n",
       "INTERMEDIATE     72\n",
       "BEGINNER         25\n",
       "Name: seniority, dtype: int64"
      ]
     },
     "execution_count": 39,
     "metadata": {},
     "output_type": "execute_result"
    }
   ],
   "source": [
    "mv_df_fr['seniority'].value_counts()"
   ]
  },
  {
   "cell_type": "code",
   "execution_count": 40,
   "metadata": {},
   "outputs": [
    {
     "data": {
      "text/plain": [
       "REVIEW          38\n",
       "INTERMEDIATE     8\n",
       "Name: seniority, dtype: int64"
      ]
     },
     "execution_count": 40,
     "metadata": {},
     "output_type": "execute_result"
    }
   ],
   "source": [
    "mv_df_ar['seniority'].value_counts()"
   ]
  },
  {
   "cell_type": "code",
   "execution_count": 41,
   "metadata": {},
   "outputs": [
    {
     "data": {
      "text/plain": [
       "REVIEW          95\n",
       "INTERMEDIATE    62\n",
       "BEGINNER         3\n",
       "ADVANCED         2\n",
       "Name: seniority, dtype: int64"
      ]
     },
     "execution_count": 41,
     "metadata": {},
     "output_type": "execute_result"
    }
   ],
   "source": [
    "mv_df_ra['seniority'].value_counts()"
   ]
  },
  {
   "cell_type": "code",
   "execution_count": 42,
   "metadata": {},
   "outputs": [
    {
     "data": {
      "text/plain": [
       "seniority\n",
       "ADVANCED        0.871571\n",
       "BEGINNER        0.847772\n",
       "INTERMEDIATE    0.850373\n",
       "REVIEW          0.848467\n",
       "Name: found_rate, dtype: float64"
      ]
     },
     "execution_count": 42,
     "metadata": {},
     "output_type": "execute_result"
    }
   ],
   "source": [
    "# Calculating mean found_rate\n",
    "mean_found_rate = orders_imp.groupby('seniority')['found_rate'].mean()\n",
    "mean_found_rate"
   ]
  },
  {
   "cell_type": "code",
   "execution_count": 43,
   "metadata": {},
   "outputs": [
    {
     "data": {
      "text/plain": [
       "seniority\n",
       "ADVANCED        0.957517\n",
       "BEGINNER        0.939649\n",
       "INTERMEDIATE    0.792811\n",
       "REVIEW          0.787455\n",
       "Name: accepted_rate, dtype: float64"
      ]
     },
     "execution_count": 43,
     "metadata": {},
     "output_type": "execute_result"
    }
   ],
   "source": [
    "# Calculating mean accepted_rate\n",
    "mean_accepted_rate = orders_imp.groupby('seniority')['accepted_rate'].mean()\n",
    "mean_accepted_rate"
   ]
  },
  {
   "cell_type": "code",
   "execution_count": 44,
   "metadata": {},
   "outputs": [
    {
     "data": {
      "text/plain": [
       "seniority\n",
       "ADVANCED        4.846534\n",
       "BEGINNER        4.867109\n",
       "INTERMEDIATE    4.844785\n",
       "REVIEW          4.868636\n",
       "Name: rating, dtype: float64"
      ]
     },
     "execution_count": 44,
     "metadata": {},
     "output_type": "execute_result"
    }
   ],
   "source": [
    "# Calculating mean rating\n",
    "mean_rating = orders_imp.groupby('seniority')['rating'].mean()\n",
    "mean_rating"
   ]
  },
  {
   "cell_type": "code",
   "execution_count": 45,
   "metadata": {},
   "outputs": [],
   "source": [
    "# Imputating missing values per columns \n",
    "\n",
    "# Found Rate\n",
    "orders_imp['found_rate'] = np.where((orders_imp['seniority'] == 'INTERMEDIATE') & \n",
    "                                      (orders_imp['found_rate'].isnull()), 0.850373, orders_imp['found_rate'])\n",
    "\n",
    "orders_imp['found_rate'] = np.where((orders_imp['seniority'] == 'REVIEW') & \n",
    "                                      (orders_imp['found_rate'].isnull()), 0.848467, orders_imp['found_rate'])\n",
    "\n",
    "orders_imp['found_rate'] = np.where((orders_imp['seniority'] == 'BEGINNER') & \n",
    "                                      (orders_imp['found_rate'].isnull()), 0.847772, orders_imp['found_rate'])\n",
    "\n",
    "# Accepted Rate\n",
    "orders_imp['accepted_rate'] = np.where((orders_imp['seniority'] == 'INTERMEDIATE') & \n",
    "                                      (orders_imp['accepted_rate'].isnull()), 0.792811, orders_imp['accepted_rate'])\n",
    "\n",
    "orders_imp['accepted_rate'] = np.where((orders_imp['seniority'] == 'REVIEW') & \n",
    "                                      (orders_imp['accepted_rate'].isnull()), 0.787455, orders_imp['accepted_rate'])\n",
    "\n",
    "\n",
    "# Rating\n",
    "orders_imp['rating'] = np.where((orders_imp['seniority'] == 'INTERMEDIATE') & \n",
    "                                      (orders_imp['rating'].isnull()), 4.844785, orders_imp['rating'])\n",
    "\n",
    "orders_imp['rating'] = np.where((orders_imp['seniority'] == 'REVIEW') & \n",
    "                                      (orders_imp['rating'].isnull()), 4.868636, orders_imp['rating'])\n",
    "\n",
    "orders_imp['rating'] = np.where((orders_imp['seniority'] == 'BEGINNER') & \n",
    "                                      (orders_imp['rating'].isnull()), 4.867109, orders_imp['rating'])\n",
    "\n",
    "orders_imp['rating'] = np.where((orders_imp['seniority'] == 'ADVANCED') & \n",
    "                                      (orders_imp['rating'].isnull()), 4.846534, orders_imp['rating'])"
   ]
  },
  {
   "cell_type": "markdown",
   "metadata": {},
   "source": [
    "Aplicando `One Hot Encoding` a dos atributos `seniority` y `weekday`, estos atributos no son ordinales por lo que aplico esta técnica para evitar una relación ordinal en dichos atributos, mantendré la columna `day` para más adelante realizar el análisis exploratoria, en este proceso de binarización o `dummy_variables` elimino la primera columna que se genera, para evitar la colinealidad, es decir, que un atributo sea la combinación líneal de otro. \n",
    "\n",
    "Renombro los días que están dentro del atributo `weekday`, cabe mencionar que de acuerdo a la documentación de la función, los días de la semana están comprendido de la siguiente manera:\n",
    "\n",
    "| Integer Value | Day of the week |\n",
    "| -- | -- |\n",
    "| 0 | Monday |\n",
    "| 1 | Tuesday |\n",
    "| 2 | Wendsday |\n",
    "| 3 | Thursday |\n",
    "| 4 | Friday |\n",
    "| 5 | Saturday |\n",
    "| 6 | Sunday |\n",
    "\n",
    "Los pedidos se realizar mayormente los sábados, seguido de los viernes y un solo pedido realizado el día domingo, en el análisis explorattorio se indagará más."
   ]
  },
  {
   "cell_type": "code",
   "execution_count": 46,
   "metadata": {},
   "outputs": [
    {
     "data": {
      "text/plain": [
       "5    7076\n",
       "4    2901\n",
       "6       1\n",
       "Name: weekday, dtype: int64"
      ]
     },
     "execution_count": 46,
     "metadata": {},
     "output_type": "execute_result"
    }
   ],
   "source": [
    "orders_imp['weekday'].value_counts()"
   ]
  },
  {
   "cell_type": "code",
   "execution_count": 47,
   "metadata": {},
   "outputs": [],
   "source": [
    "orders_imp['weekday2'] = orders_imp['weekday'] # temporal column\n",
    "orders_imp = pd.get_dummies(orders_imp, columns=['weekday'],\n",
    "                            prefix=['weekday'], prefix_sep='_', drop_first=False)\n",
    "\n",
    "orders_imp.rename(columns=({'weekday_4':'friday', 'weekday_5':'saturday', 'weekday_6':'sunday'}), inplace=True)\n",
    "orders_imp.drop(columns=['sunday'], inplace=True, axis=1)\n",
    "\n",
    "\n",
    "orders_no_imp['weekday2'] = orders_no_imp['weekday'] # temporal column\n",
    "orders_no_imp = pd.get_dummies(orders_no_imp, columns=['weekday'],\n",
    "                            prefix=['weekday'], prefix_sep='_', drop_first=False)\n",
    "\n",
    "orders_no_imp.rename(columns=({'weekday_4':'friday', 'weekday_5':'saturday', 'weekday_6':'sunday'}), inplace=True)\n",
    "orders_no_imp.drop(columns=['sunday'], inplace=True, axis=1)"
   ]
  },
  {
   "cell_type": "code",
   "execution_count": 48,
   "metadata": {},
   "outputs": [
    {
     "data": {
      "text/html": [
       "<div>\n",
       "<style scoped>\n",
       "    .dataframe tbody tr th:only-of-type {\n",
       "        vertical-align: middle;\n",
       "    }\n",
       "\n",
       "    .dataframe tbody tr th {\n",
       "        vertical-align: top;\n",
       "    }\n",
       "\n",
       "    .dataframe thead th {\n",
       "        text-align: right;\n",
       "    }\n",
       "</style>\n",
       "<table border=\"1\" class=\"dataframe\">\n",
       "  <thead>\n",
       "    <tr style=\"text-align: right;\">\n",
       "      <th></th>\n",
       "      <th>order_id</th>\n",
       "      <th>promised_time</th>\n",
       "      <th>on_demand</th>\n",
       "      <th>total_minutes</th>\n",
       "      <th>to_weigh</th>\n",
       "      <th>no_weigh</th>\n",
       "      <th>total_products</th>\n",
       "      <th>seniority</th>\n",
       "      <th>found_rate</th>\n",
       "      <th>picking_speed</th>\n",
       "      <th>accepted_rate</th>\n",
       "      <th>rating</th>\n",
       "      <th>distance</th>\n",
       "      <th>hour</th>\n",
       "      <th>day</th>\n",
       "      <th>month</th>\n",
       "      <th>weekday2</th>\n",
       "      <th>friday</th>\n",
       "      <th>saturday</th>\n",
       "    </tr>\n",
       "  </thead>\n",
       "  <tbody>\n",
       "    <tr>\n",
       "      <th>0</th>\n",
       "      <td>e750294655c2c7c34d83cc3181c09de4</td>\n",
       "      <td>2019-10-18 20:48:00+00:00</td>\n",
       "      <td>0</td>\n",
       "      <td>67.684264</td>\n",
       "      <td>4</td>\n",
       "      <td>16.0</td>\n",
       "      <td>20.0</td>\n",
       "      <td>ADVANCED</td>\n",
       "      <td>0.9024</td>\n",
       "      <td>1.30</td>\n",
       "      <td>0.92</td>\n",
       "      <td>4.76</td>\n",
       "      <td>1.823025</td>\n",
       "      <td>20</td>\n",
       "      <td>18</td>\n",
       "      <td>10</td>\n",
       "      <td>4</td>\n",
       "      <td>1</td>\n",
       "      <td>0</td>\n",
       "    </tr>\n",
       "    <tr>\n",
       "      <th>1</th>\n",
       "      <td>3bb5d9adb3ecac1925b60d5d26a510c4</td>\n",
       "      <td>2019-10-19 16:57:00+00:00</td>\n",
       "      <td>0</td>\n",
       "      <td>160.336211</td>\n",
       "      <td>4</td>\n",
       "      <td>63.0</td>\n",
       "      <td>67.0</td>\n",
       "      <td>ADVANCED</td>\n",
       "      <td>0.9024</td>\n",
       "      <td>1.30</td>\n",
       "      <td>0.92</td>\n",
       "      <td>4.76</td>\n",
       "      <td>0.961905</td>\n",
       "      <td>16</td>\n",
       "      <td>19</td>\n",
       "      <td>10</td>\n",
       "      <td>5</td>\n",
       "      <td>0</td>\n",
       "      <td>1</td>\n",
       "    </tr>\n",
       "    <tr>\n",
       "      <th>2</th>\n",
       "      <td>b838eea64cf24dde0a78ce1feb84ca7c</td>\n",
       "      <td>2019-10-19 16:00:00+00:00</td>\n",
       "      <td>1</td>\n",
       "      <td>122.239210</td>\n",
       "      <td>1</td>\n",
       "      <td>155.0</td>\n",
       "      <td>156.0</td>\n",
       "      <td>ADVANCED</td>\n",
       "      <td>0.8909</td>\n",
       "      <td>1.17</td>\n",
       "      <td>0.96</td>\n",
       "      <td>5.00</td>\n",
       "      <td>1.652014</td>\n",
       "      <td>16</td>\n",
       "      <td>19</td>\n",
       "      <td>10</td>\n",
       "      <td>5</td>\n",
       "      <td>0</td>\n",
       "      <td>1</td>\n",
       "    </tr>\n",
       "    <tr>\n",
       "      <th>3</th>\n",
       "      <td>2c85303190a77493348b0b827232f4d6</td>\n",
       "      <td>2019-10-19 19:00:00+00:00</td>\n",
       "      <td>1</td>\n",
       "      <td>133.113926</td>\n",
       "      <td>8</td>\n",
       "      <td>115.0</td>\n",
       "      <td>123.0</td>\n",
       "      <td>ADVANCED</td>\n",
       "      <td>0.8462</td>\n",
       "      <td>1.11</td>\n",
       "      <td>0.96</td>\n",
       "      <td>4.96</td>\n",
       "      <td>0.694901</td>\n",
       "      <td>19</td>\n",
       "      <td>19</td>\n",
       "      <td>10</td>\n",
       "      <td>5</td>\n",
       "      <td>0</td>\n",
       "      <td>1</td>\n",
       "    </tr>\n",
       "    <tr>\n",
       "      <th>4</th>\n",
       "      <td>e606cc26b843c312df82a29d1f8d4372</td>\n",
       "      <td>2019-10-19 00:00:00+00:00</td>\n",
       "      <td>1</td>\n",
       "      <td>94.734479</td>\n",
       "      <td>3</td>\n",
       "      <td>97.0</td>\n",
       "      <td>100.0</td>\n",
       "      <td>INTERMEDIATE</td>\n",
       "      <td>0.8138</td>\n",
       "      <td>1.89</td>\n",
       "      <td>0.84</td>\n",
       "      <td>4.68</td>\n",
       "      <td>3.316283</td>\n",
       "      <td>0</td>\n",
       "      <td>19</td>\n",
       "      <td>10</td>\n",
       "      <td>5</td>\n",
       "      <td>0</td>\n",
       "      <td>1</td>\n",
       "    </tr>\n",
       "  </tbody>\n",
       "</table>\n",
       "</div>"
      ],
      "text/plain": [
       "                           order_id              promised_time  on_demand  \\\n",
       "0  e750294655c2c7c34d83cc3181c09de4  2019-10-18 20:48:00+00:00          0   \n",
       "1  3bb5d9adb3ecac1925b60d5d26a510c4  2019-10-19 16:57:00+00:00          0   \n",
       "2  b838eea64cf24dde0a78ce1feb84ca7c  2019-10-19 16:00:00+00:00          1   \n",
       "3  2c85303190a77493348b0b827232f4d6  2019-10-19 19:00:00+00:00          1   \n",
       "4  e606cc26b843c312df82a29d1f8d4372  2019-10-19 00:00:00+00:00          1   \n",
       "\n",
       "   total_minutes  to_weigh  no_weigh  total_products     seniority  \\\n",
       "0      67.684264         4      16.0            20.0      ADVANCED   \n",
       "1     160.336211         4      63.0            67.0      ADVANCED   \n",
       "2     122.239210         1     155.0           156.0      ADVANCED   \n",
       "3     133.113926         8     115.0           123.0      ADVANCED   \n",
       "4      94.734479         3      97.0           100.0  INTERMEDIATE   \n",
       "\n",
       "   found_rate  picking_speed  accepted_rate  rating  distance  hour  day  \\\n",
       "0      0.9024           1.30           0.92    4.76  1.823025    20   18   \n",
       "1      0.9024           1.30           0.92    4.76  0.961905    16   19   \n",
       "2      0.8909           1.17           0.96    5.00  1.652014    16   19   \n",
       "3      0.8462           1.11           0.96    4.96  0.694901    19   19   \n",
       "4      0.8138           1.89           0.84    4.68  3.316283     0   19   \n",
       "\n",
       "   month  weekday2  friday  saturday  \n",
       "0     10         4       1         0  \n",
       "1     10         5       0         1  \n",
       "2     10         5       0         1  \n",
       "3     10         5       0         1  \n",
       "4     10         5       0         1  "
      ]
     },
     "execution_count": 48,
     "metadata": {},
     "output_type": "execute_result"
    }
   ],
   "source": [
    "orders_imp.head()"
   ]
  },
  {
   "cell_type": "markdown",
   "metadata": {},
   "source": [
    "Una vez imputados todos los atributos no tenemos valores perdidos a excepción de `total_minutes` que es el tiempo que se buscar predecir para esas ordenes."
   ]
  },
  {
   "cell_type": "code",
   "execution_count": 49,
   "metadata": {},
   "outputs": [
    {
     "data": {
      "text/plain": [
       "order_id          False\n",
       "promised_time     False\n",
       "on_demand         False\n",
       "total_minutes      True\n",
       "to_weigh          False\n",
       "no_weigh          False\n",
       "total_products    False\n",
       "seniority         False\n",
       "found_rate        False\n",
       "picking_speed     False\n",
       "accepted_rate     False\n",
       "rating            False\n",
       "distance          False\n",
       "hour              False\n",
       "day               False\n",
       "month             False\n",
       "weekday2          False\n",
       "friday            False\n",
       "saturday          False\n",
       "dtype: bool"
      ]
     },
     "execution_count": 49,
     "metadata": {},
     "output_type": "execute_result"
    }
   ],
   "source": [
    "orders_imp.isnull().any()"
   ]
  },
  {
   "cell_type": "markdown",
   "metadata": {},
   "source": [
    "## 3. Exploratory Data Analisis (EDA)"
   ]
  },
  {
   "cell_type": "markdown",
   "metadata": {},
   "source": [
    "Creo nuevos dataframes con respecto al atributo `on_demand`, sabemos que `Cornershop` cumple con __45%__ al momento de entregar los pedidos de acuerdo al tiempo estimado, dejando un __55%__ de incumplimiento. El objetivo de esta segmentación es conocer la distribución del tiempo cuando `Cornershop` se compremete con el tiempo estimado y cumple con esto."
   ]
  },
  {
   "cell_type": "code",
   "execution_count": 50,
   "metadata": {},
   "outputs": [],
   "source": [
    "df_eda = orders_no_imp[orders_no_imp[['total_minutes', 'found_rate', 'accepted_rate', 'rating']].notnull().all(1)]"
   ]
  },
  {
   "cell_type": "code",
   "execution_count": 51,
   "metadata": {},
   "outputs": [],
   "source": [
    "on_demand_true = df_eda[df_eda['on_demand'] == 0]\n",
    "on_demand_false = df_eda[df_eda['on_demand'] == 1]"
   ]
  },
  {
   "cell_type": "code",
   "execution_count": 52,
   "metadata": {},
   "outputs": [
    {
     "data": {
      "text/html": [
       "<div>\n",
       "<style scoped>\n",
       "    .dataframe tbody tr th:only-of-type {\n",
       "        vertical-align: middle;\n",
       "    }\n",
       "\n",
       "    .dataframe tbody tr th {\n",
       "        vertical-align: top;\n",
       "    }\n",
       "\n",
       "    .dataframe thead th {\n",
       "        text-align: right;\n",
       "    }\n",
       "</style>\n",
       "<table border=\"1\" class=\"dataframe\">\n",
       "  <thead>\n",
       "    <tr style=\"text-align: right;\">\n",
       "      <th></th>\n",
       "      <th>on_demand</th>\n",
       "      <th>total_minutes</th>\n",
       "      <th>to_weigh</th>\n",
       "      <th>no_weigh</th>\n",
       "      <th>total_products</th>\n",
       "      <th>found_rate</th>\n",
       "      <th>picking_speed</th>\n",
       "      <th>accepted_rate</th>\n",
       "      <th>rating</th>\n",
       "      <th>distance</th>\n",
       "      <th>hour</th>\n",
       "      <th>day</th>\n",
       "      <th>month</th>\n",
       "      <th>weekday2</th>\n",
       "      <th>friday</th>\n",
       "      <th>saturday</th>\n",
       "    </tr>\n",
       "  </thead>\n",
       "  <tbody>\n",
       "    <tr>\n",
       "      <th>count</th>\n",
       "      <td>3521.0</td>\n",
       "      <td>3521.000000</td>\n",
       "      <td>3521.000000</td>\n",
       "      <td>3521.000000</td>\n",
       "      <td>3521.000000</td>\n",
       "      <td>3521.000000</td>\n",
       "      <td>3521.000000</td>\n",
       "      <td>3521.000000</td>\n",
       "      <td>3521.000000</td>\n",
       "      <td>3521.000000</td>\n",
       "      <td>3521.000000</td>\n",
       "      <td>3521.000000</td>\n",
       "      <td>3521.0</td>\n",
       "      <td>3521.000000</td>\n",
       "      <td>3521.000000</td>\n",
       "      <td>3521.000000</td>\n",
       "    </tr>\n",
       "    <tr>\n",
       "      <th>mean</th>\n",
       "      <td>0.0</td>\n",
       "      <td>71.141581</td>\n",
       "      <td>1.467481</td>\n",
       "      <td>28.238001</td>\n",
       "      <td>29.705481</td>\n",
       "      <td>0.864447</td>\n",
       "      <td>1.718108</td>\n",
       "      <td>0.916791</td>\n",
       "      <td>4.849324</td>\n",
       "      <td>2.887048</td>\n",
       "      <td>17.275490</td>\n",
       "      <td>18.454700</td>\n",
       "      <td>10.0</td>\n",
       "      <td>4.454700</td>\n",
       "      <td>0.545300</td>\n",
       "      <td>0.454700</td>\n",
       "    </tr>\n",
       "    <tr>\n",
       "      <th>std</th>\n",
       "      <td>0.0</td>\n",
       "      <td>28.578123</td>\n",
       "      <td>1.780938</td>\n",
       "      <td>26.073501</td>\n",
       "      <td>26.791342</td>\n",
       "      <td>0.030504</td>\n",
       "      <td>0.665791</td>\n",
       "      <td>0.094617</td>\n",
       "      <td>0.127708</td>\n",
       "      <td>2.024430</td>\n",
       "      <td>6.364559</td>\n",
       "      <td>0.498014</td>\n",
       "      <td>0.0</td>\n",
       "      <td>0.498014</td>\n",
       "      <td>0.498014</td>\n",
       "      <td>0.498014</td>\n",
       "    </tr>\n",
       "    <tr>\n",
       "      <th>min</th>\n",
       "      <td>0.0</td>\n",
       "      <td>18.192689</td>\n",
       "      <td>0.000000</td>\n",
       "      <td>0.000000</td>\n",
       "      <td>1.000000</td>\n",
       "      <td>0.737300</td>\n",
       "      <td>0.730000</td>\n",
       "      <td>0.280000</td>\n",
       "      <td>3.880000</td>\n",
       "      <td>0.076491</td>\n",
       "      <td>0.000000</td>\n",
       "      <td>18.000000</td>\n",
       "      <td>10.0</td>\n",
       "      <td>4.000000</td>\n",
       "      <td>0.000000</td>\n",
       "      <td>0.000000</td>\n",
       "    </tr>\n",
       "    <tr>\n",
       "      <th>25%</th>\n",
       "      <td>0.0</td>\n",
       "      <td>50.744762</td>\n",
       "      <td>0.000000</td>\n",
       "      <td>9.000000</td>\n",
       "      <td>10.000000</td>\n",
       "      <td>0.846900</td>\n",
       "      <td>1.250000</td>\n",
       "      <td>0.880000</td>\n",
       "      <td>4.800000</td>\n",
       "      <td>1.483329</td>\n",
       "      <td>16.000000</td>\n",
       "      <td>18.000000</td>\n",
       "      <td>10.0</td>\n",
       "      <td>4.000000</td>\n",
       "      <td>0.000000</td>\n",
       "      <td>0.000000</td>\n",
       "    </tr>\n",
       "    <tr>\n",
       "      <th>50%</th>\n",
       "      <td>0.0</td>\n",
       "      <td>66.709362</td>\n",
       "      <td>1.000000</td>\n",
       "      <td>21.000000</td>\n",
       "      <td>22.000000</td>\n",
       "      <td>0.867700</td>\n",
       "      <td>1.550000</td>\n",
       "      <td>0.960000</td>\n",
       "      <td>4.880000</td>\n",
       "      <td>2.429380</td>\n",
       "      <td>20.000000</td>\n",
       "      <td>18.000000</td>\n",
       "      <td>10.0</td>\n",
       "      <td>4.000000</td>\n",
       "      <td>1.000000</td>\n",
       "      <td>0.000000</td>\n",
       "    </tr>\n",
       "    <tr>\n",
       "      <th>75%</th>\n",
       "      <td>0.0</td>\n",
       "      <td>85.814803</td>\n",
       "      <td>2.000000</td>\n",
       "      <td>39.000000</td>\n",
       "      <td>41.000000</td>\n",
       "      <td>0.884900</td>\n",
       "      <td>2.000000</td>\n",
       "      <td>1.000000</td>\n",
       "      <td>4.960000</td>\n",
       "      <td>3.850046</td>\n",
       "      <td>21.000000</td>\n",
       "      <td>19.000000</td>\n",
       "      <td>10.0</td>\n",
       "      <td>5.000000</td>\n",
       "      <td>1.000000</td>\n",
       "      <td>1.000000</td>\n",
       "    </tr>\n",
       "    <tr>\n",
       "      <th>max</th>\n",
       "      <td>0.0</td>\n",
       "      <td>303.029792</td>\n",
       "      <td>13.000000</td>\n",
       "      <td>286.000000</td>\n",
       "      <td>289.000000</td>\n",
       "      <td>0.964700</td>\n",
       "      <td>5.980000</td>\n",
       "      <td>1.000000</td>\n",
       "      <td>5.000000</td>\n",
       "      <td>16.672771</td>\n",
       "      <td>23.000000</td>\n",
       "      <td>19.000000</td>\n",
       "      <td>10.0</td>\n",
       "      <td>5.000000</td>\n",
       "      <td>1.000000</td>\n",
       "      <td>1.000000</td>\n",
       "    </tr>\n",
       "  </tbody>\n",
       "</table>\n",
       "</div>"
      ],
      "text/plain": [
       "       on_demand  total_minutes     to_weigh     no_weigh  total_products  \\\n",
       "count     3521.0    3521.000000  3521.000000  3521.000000     3521.000000   \n",
       "mean         0.0      71.141581     1.467481    28.238001       29.705481   \n",
       "std          0.0      28.578123     1.780938    26.073501       26.791342   \n",
       "min          0.0      18.192689     0.000000     0.000000        1.000000   \n",
       "25%          0.0      50.744762     0.000000     9.000000       10.000000   \n",
       "50%          0.0      66.709362     1.000000    21.000000       22.000000   \n",
       "75%          0.0      85.814803     2.000000    39.000000       41.000000   \n",
       "max          0.0     303.029792    13.000000   286.000000      289.000000   \n",
       "\n",
       "        found_rate  picking_speed  accepted_rate       rating     distance  \\\n",
       "count  3521.000000    3521.000000    3521.000000  3521.000000  3521.000000   \n",
       "mean      0.864447       1.718108       0.916791     4.849324     2.887048   \n",
       "std       0.030504       0.665791       0.094617     0.127708     2.024430   \n",
       "min       0.737300       0.730000       0.280000     3.880000     0.076491   \n",
       "25%       0.846900       1.250000       0.880000     4.800000     1.483329   \n",
       "50%       0.867700       1.550000       0.960000     4.880000     2.429380   \n",
       "75%       0.884900       2.000000       1.000000     4.960000     3.850046   \n",
       "max       0.964700       5.980000       1.000000     5.000000    16.672771   \n",
       "\n",
       "              hour          day   month     weekday2       friday     saturday  \n",
       "count  3521.000000  3521.000000  3521.0  3521.000000  3521.000000  3521.000000  \n",
       "mean     17.275490    18.454700    10.0     4.454700     0.545300     0.454700  \n",
       "std       6.364559     0.498014     0.0     0.498014     0.498014     0.498014  \n",
       "min       0.000000    18.000000    10.0     4.000000     0.000000     0.000000  \n",
       "25%      16.000000    18.000000    10.0     4.000000     0.000000     0.000000  \n",
       "50%      20.000000    18.000000    10.0     4.000000     1.000000     0.000000  \n",
       "75%      21.000000    19.000000    10.0     5.000000     1.000000     1.000000  \n",
       "max      23.000000    19.000000    10.0     5.000000     1.000000     1.000000  "
      ]
     },
     "execution_count": 52,
     "metadata": {},
     "output_type": "execute_result"
    }
   ],
   "source": [
    "on_demand_true.describe()"
   ]
  },
  {
   "cell_type": "code",
   "execution_count": 53,
   "metadata": {},
   "outputs": [
    {
     "data": {
      "text/html": [
       "<div>\n",
       "<style scoped>\n",
       "    .dataframe tbody tr th:only-of-type {\n",
       "        vertical-align: middle;\n",
       "    }\n",
       "\n",
       "    .dataframe tbody tr th {\n",
       "        vertical-align: top;\n",
       "    }\n",
       "\n",
       "    .dataframe thead th {\n",
       "        text-align: right;\n",
       "    }\n",
       "</style>\n",
       "<table border=\"1\" class=\"dataframe\">\n",
       "  <thead>\n",
       "    <tr style=\"text-align: right;\">\n",
       "      <th></th>\n",
       "      <th>on_demand</th>\n",
       "      <th>total_minutes</th>\n",
       "      <th>to_weigh</th>\n",
       "      <th>no_weigh</th>\n",
       "      <th>total_products</th>\n",
       "      <th>found_rate</th>\n",
       "      <th>picking_speed</th>\n",
       "      <th>accepted_rate</th>\n",
       "      <th>rating</th>\n",
       "      <th>distance</th>\n",
       "      <th>hour</th>\n",
       "      <th>day</th>\n",
       "      <th>month</th>\n",
       "      <th>weekday2</th>\n",
       "      <th>friday</th>\n",
       "      <th>saturday</th>\n",
       "    </tr>\n",
       "  </thead>\n",
       "  <tbody>\n",
       "    <tr>\n",
       "      <th>count</th>\n",
       "      <td>4281.0</td>\n",
       "      <td>4281.000000</td>\n",
       "      <td>4281.000000</td>\n",
       "      <td>4281.000000</td>\n",
       "      <td>4281.000000</td>\n",
       "      <td>4281.000000</td>\n",
       "      <td>4281.000000</td>\n",
       "      <td>4281.000000</td>\n",
       "      <td>4281.000000</td>\n",
       "      <td>4281.000000</td>\n",
       "      <td>4281.000000</td>\n",
       "      <td>4281.000000</td>\n",
       "      <td>4281.0</td>\n",
       "      <td>4281.000000</td>\n",
       "      <td>4281.000000</td>\n",
       "      <td>4281.000000</td>\n",
       "    </tr>\n",
       "    <tr>\n",
       "      <th>mean</th>\n",
       "      <td>1.0</td>\n",
       "      <td>89.338376</td>\n",
       "      <td>2.065639</td>\n",
       "      <td>40.129876</td>\n",
       "      <td>42.195515</td>\n",
       "      <td>0.862669</td>\n",
       "      <td>1.642621</td>\n",
       "      <td>0.920562</td>\n",
       "      <td>4.851710</td>\n",
       "      <td>2.882062</td>\n",
       "      <td>14.871993</td>\n",
       "      <td>18.923616</td>\n",
       "      <td>10.0</td>\n",
       "      <td>4.923616</td>\n",
       "      <td>0.076618</td>\n",
       "      <td>0.923149</td>\n",
       "    </tr>\n",
       "    <tr>\n",
       "      <th>std</th>\n",
       "      <td>0.0</td>\n",
       "      <td>36.889648</td>\n",
       "      <td>2.297019</td>\n",
       "      <td>37.211839</td>\n",
       "      <td>38.201793</td>\n",
       "      <td>0.029154</td>\n",
       "      <td>0.596775</td>\n",
       "      <td>0.091247</td>\n",
       "      <td>0.126588</td>\n",
       "      <td>1.638559</td>\n",
       "      <td>6.365133</td>\n",
       "      <td>0.266521</td>\n",
       "      <td>0.0</td>\n",
       "      <td>0.266521</td>\n",
       "      <td>0.266015</td>\n",
       "      <td>0.266386</td>\n",
       "    </tr>\n",
       "    <tr>\n",
       "      <th>min</th>\n",
       "      <td>1.0</td>\n",
       "      <td>11.969489</td>\n",
       "      <td>0.000000</td>\n",
       "      <td>0.000000</td>\n",
       "      <td>1.000000</td>\n",
       "      <td>0.742900</td>\n",
       "      <td>0.650000</td>\n",
       "      <td>0.240000</td>\n",
       "      <td>3.880000</td>\n",
       "      <td>0.080963</td>\n",
       "      <td>0.000000</td>\n",
       "      <td>18.000000</td>\n",
       "      <td>10.0</td>\n",
       "      <td>4.000000</td>\n",
       "      <td>0.000000</td>\n",
       "      <td>0.000000</td>\n",
       "    </tr>\n",
       "    <tr>\n",
       "      <th>25%</th>\n",
       "      <td>1.0</td>\n",
       "      <td>61.571741</td>\n",
       "      <td>0.000000</td>\n",
       "      <td>13.000000</td>\n",
       "      <td>14.000000</td>\n",
       "      <td>0.845900</td>\n",
       "      <td>1.250000</td>\n",
       "      <td>0.880000</td>\n",
       "      <td>4.800000</td>\n",
       "      <td>1.677679</td>\n",
       "      <td>14.000000</td>\n",
       "      <td>19.000000</td>\n",
       "      <td>10.0</td>\n",
       "      <td>5.000000</td>\n",
       "      <td>0.000000</td>\n",
       "      <td>1.000000</td>\n",
       "    </tr>\n",
       "    <tr>\n",
       "      <th>50%</th>\n",
       "      <td>1.0</td>\n",
       "      <td>84.389768</td>\n",
       "      <td>1.000000</td>\n",
       "      <td>31.000000</td>\n",
       "      <td>33.000000</td>\n",
       "      <td>0.864900</td>\n",
       "      <td>1.490000</td>\n",
       "      <td>0.960000</td>\n",
       "      <td>4.880000</td>\n",
       "      <td>2.580974</td>\n",
       "      <td>17.000000</td>\n",
       "      <td>19.000000</td>\n",
       "      <td>10.0</td>\n",
       "      <td>5.000000</td>\n",
       "      <td>0.000000</td>\n",
       "      <td>1.000000</td>\n",
       "    </tr>\n",
       "    <tr>\n",
       "      <th>75%</th>\n",
       "      <td>1.0</td>\n",
       "      <td>112.003251</td>\n",
       "      <td>3.000000</td>\n",
       "      <td>56.000000</td>\n",
       "      <td>59.000000</td>\n",
       "      <td>0.882400</td>\n",
       "      <td>1.870000</td>\n",
       "      <td>1.000000</td>\n",
       "      <td>4.960000</td>\n",
       "      <td>3.934550</td>\n",
       "      <td>19.000000</td>\n",
       "      <td>19.000000</td>\n",
       "      <td>10.0</td>\n",
       "      <td>5.000000</td>\n",
       "      <td>0.000000</td>\n",
       "      <td>1.000000</td>\n",
       "    </tr>\n",
       "    <tr>\n",
       "      <th>max</th>\n",
       "      <td>1.0</td>\n",
       "      <td>304.190303</td>\n",
       "      <td>16.000000</td>\n",
       "      <td>317.000000</td>\n",
       "      <td>319.000000</td>\n",
       "      <td>0.971000</td>\n",
       "      <td>7.040000</td>\n",
       "      <td>1.000000</td>\n",
       "      <td>5.000000</td>\n",
       "      <td>16.347413</td>\n",
       "      <td>23.000000</td>\n",
       "      <td>20.000000</td>\n",
       "      <td>10.0</td>\n",
       "      <td>6.000000</td>\n",
       "      <td>1.000000</td>\n",
       "      <td>1.000000</td>\n",
       "    </tr>\n",
       "  </tbody>\n",
       "</table>\n",
       "</div>"
      ],
      "text/plain": [
       "       on_demand  total_minutes     to_weigh     no_weigh  total_products  \\\n",
       "count     4281.0    4281.000000  4281.000000  4281.000000     4281.000000   \n",
       "mean         1.0      89.338376     2.065639    40.129876       42.195515   \n",
       "std          0.0      36.889648     2.297019    37.211839       38.201793   \n",
       "min          1.0      11.969489     0.000000     0.000000        1.000000   \n",
       "25%          1.0      61.571741     0.000000    13.000000       14.000000   \n",
       "50%          1.0      84.389768     1.000000    31.000000       33.000000   \n",
       "75%          1.0     112.003251     3.000000    56.000000       59.000000   \n",
       "max          1.0     304.190303    16.000000   317.000000      319.000000   \n",
       "\n",
       "        found_rate  picking_speed  accepted_rate       rating     distance  \\\n",
       "count  4281.000000    4281.000000    4281.000000  4281.000000  4281.000000   \n",
       "mean      0.862669       1.642621       0.920562     4.851710     2.882062   \n",
       "std       0.029154       0.596775       0.091247     0.126588     1.638559   \n",
       "min       0.742900       0.650000       0.240000     3.880000     0.080963   \n",
       "25%       0.845900       1.250000       0.880000     4.800000     1.677679   \n",
       "50%       0.864900       1.490000       0.960000     4.880000     2.580974   \n",
       "75%       0.882400       1.870000       1.000000     4.960000     3.934550   \n",
       "max       0.971000       7.040000       1.000000     5.000000    16.347413   \n",
       "\n",
       "              hour          day   month     weekday2       friday     saturday  \n",
       "count  4281.000000  4281.000000  4281.0  4281.000000  4281.000000  4281.000000  \n",
       "mean     14.871993    18.923616    10.0     4.923616     0.076618     0.923149  \n",
       "std       6.365133     0.266521     0.0     0.266521     0.266015     0.266386  \n",
       "min       0.000000    18.000000    10.0     4.000000     0.000000     0.000000  \n",
       "25%      14.000000    19.000000    10.0     5.000000     0.000000     1.000000  \n",
       "50%      17.000000    19.000000    10.0     5.000000     0.000000     1.000000  \n",
       "75%      19.000000    19.000000    10.0     5.000000     0.000000     1.000000  \n",
       "max      23.000000    20.000000    10.0     6.000000     1.000000     1.000000  "
      ]
     },
     "execution_count": 53,
     "metadata": {},
     "output_type": "execute_result"
    }
   ],
   "source": [
    "on_demand_false.describe()"
   ]
  },
  {
   "cell_type": "markdown",
   "metadata": {},
   "source": [
    "El siguiente gráfico muestra la distribución con respecto al promedio de minutos cuando `Cornershop` estima un tiempo de entrega y lo cumple, teniendo como resultado el promedio de pedidos entregados con __71min__.\n",
    "\n",
    "Tenemos algunos casos anomalos que salen un poco de como está distribuido el tiempo con respecto a las ordenes, se aprecia en el gráfico como hay una cola hacia la derecha cuando es mayor a __200min__, con un total de 5 observaciones y en porcentaje es de __0.001%__."
   ]
  },
  {
   "cell_type": "code",
   "execution_count": 54,
   "metadata": {},
   "outputs": [
    {
     "name": "stdout",
     "output_type": "stream",
     "text": [
      "Cantidad de entregas que se cumplen mayor a 200 minutos:  5\n",
      "Porcentaje de entregas que se cumplen mayor a 200 minutos:  0.0014200511218403862\n"
     ]
    }
   ],
   "source": [
    "a_ondemand_true = on_demand_true[on_demand_true['total_minutes'] > 200]\n",
    "print(\"Cantidad de entregas que se cumplen mayor a 200 minutos: \", a_ondemand_true.shape[0])\n",
    "print(\"Porcentaje de entregas que se cumplen mayor a 200 minutos: \", (a_ondemand_true.shape[0] / on_demand_true.shape[0]))"
   ]
  },
  {
   "cell_type": "code",
   "execution_count": 55,
   "metadata": {},
   "outputs": [
    {
     "name": "stdout",
     "output_type": "stream",
     "text": [
      "Tiempo promedio de entrega:  71.1415805744012\n"
     ]
    }
   ],
   "source": [
    "mean_time_od_true = np.mean(on_demand_true['total_minutes'])\n",
    "print(\"Tiempo promedio de entrega: \", mean_time_od_true)"
   ]
  },
  {
   "cell_type": "code",
   "execution_count": 56,
   "metadata": {},
   "outputs": [
    {
     "data": {
      "image/png": "[encoded data removed]",
      "text/plain": [
       "<Figure size 576x396 with 1 Axes>"
      ]
     },
     "metadata": {},
     "output_type": "display_data"
    }
   ],
   "source": [
    "sns.distplot(on_demand_true['total_minutes'], kde=True)\n",
    "plt.axvline(np.mean(on_demand_true['total_minutes']), \n",
    "            color='tomato', ls='--',\n",
    "            label=\"Promedio de entrega cuando cumple: {0} min\".format(round(mean_time_od_true)))\n",
    "plt.xlabel(\"Total Minutes\")\n",
    "plt.title(\"Total Minutes Distribution when on_demand is True\")\n",
    "plt.legend();"
   ]
  },
  {
   "cell_type": "markdown",
   "metadata": {},
   "source": [
    "Cuando `Cornershop` estima un tiempo y no cumple tenemos un promedio de __89min__, era de esperarse, por como está distribuido el atributo `on_demand`con el __55%__ de incumplimiento, también se logra apreciar como existen algunos pedidos que se incumplen mayor a __200min__, saliendo un poco de la distribución normal de los datos con respecto a `total_minutes`, esto se representa en 28 entregas incumplidas que equivalen a un __0.06%__.\n",
    "\n",
    "Ahora bien, como se conoce el promedio de tiempo cuando cumplimos con la entrega en el tiempo estimado y también conocemos el promedio de enrega cuando incumplimos con dicho tiempo, se puede considrear un __benchmark__ en tiempo(minutos) para el atributo `on_demand`, es decir, de que cuando este sea `True` la entrega se realizará en menos de __90min__, ¿por qué 90 minutos? esto se debe a como dije anteriormente el promedio de incumplimiento al entregar es de __89min__, entonces, redondeo esta cantidad de minutos para tener un tiempo más afable al momento de notificar al cliente por la app, este tiempo se puede expresar en horas que serían `1,5hrs`.\n",
    "\n",
    "__Nota:__ Cuando el cliente en la app elija `on_demand` este tiempo de entrega será de __90min__ y por otra parte sino toma `on_demand`, se puede clasificar como un pedido dentro de una franja horaria."
   ]
  },
  {
   "cell_type": "code",
   "execution_count": 57,
   "metadata": {},
   "outputs": [
    {
     "name": "stdout",
     "output_type": "stream",
     "text": [
      "Cantidad de entregas que se incumplen mayor a 200 minutos:  27\n",
      "Porcentaje de entregas que se incumplen mayor a 200 minutos:  0.006306937631394534\n"
     ]
    }
   ],
   "source": [
    "a_ondemand_false = on_demand_false[on_demand_false['total_minutes'] > 200]\n",
    "print(\"Cantidad de entregas que se incumplen mayor a 200 minutos: \", a_ondemand_false.shape[0])\n",
    "print(\"Porcentaje de entregas que se incumplen mayor a 200 minutos: \", (a_ondemand_false.shape[0] / on_demand_false.shape[0]))"
   ]
  },
  {
   "cell_type": "code",
   "execution_count": 58,
   "metadata": {},
   "outputs": [
    {
     "name": "stdout",
     "output_type": "stream",
     "text": [
      "Tiempo promedio de incumplimiento de entrega:  89.33837601668223\n"
     ]
    }
   ],
   "source": [
    "mean_time_od_false = np.mean(on_demand_false['total_minutes'])\n",
    "print(\"Tiempo promedio de incumplimiento de entrega: \", mean_time_od_false)"
   ]
  },
  {
   "cell_type": "code",
   "execution_count": 59,
   "metadata": {},
   "outputs": [
    {
     "data": {
      "image/png": "[encoded data removed]",
      "text/plain": [
       "<Figure size 576x396 with 1 Axes>"
      ]
     },
     "metadata": {},
     "output_type": "display_data"
    }
   ],
   "source": [
    "sns.distplot(on_demand_false['total_minutes'])\n",
    "plt.axvline(mean_time_od_false,\n",
    "            color='tomato', ls='--',\n",
    "            label='Promedio de entrega cuando incumple: {0} min'.format(round(mean_time_od_false)))\n",
    "plt.xlabel(\"Total Minutes\")\n",
    "plt.title(\"Total Minutes Distribution when on_demand is False\")\n",
    "plt.legend();"
   ]
  },
  {
   "cell_type": "markdown",
   "metadata": {},
   "source": [
    "#### Distribución de los KMs"
   ]
  },
  {
   "cell_type": "markdown",
   "metadata": {},
   "source": [
    "El promedio de KMs para hacer una entrega de una orden es de `2.88KM` de manera global, la distancia está distribuida en su mayoría de 0 a 5KM, hay algunos outliers como se aprecian en el gráfico, estos están después de 7.5KM"
   ]
  },
  {
   "cell_type": "code",
   "execution_count": 60,
   "metadata": {},
   "outputs": [],
   "source": [
    "mean_km = np.mean(df_eda['distance'])"
   ]
  },
  {
   "cell_type": "code",
   "execution_count": 61,
   "metadata": {},
   "outputs": [
    {
     "data": {
      "image/png": "[encoded data removed]",
      "text/plain": [
       "<Figure size 576x396 with 1 Axes>"
      ]
     },
     "metadata": {},
     "output_type": "display_data"
    }
   ],
   "source": [
    "sns.distplot(df_eda['distance'])\n",
    "plt.axvline(mean_km, color='tomato', ls='--', label='Promedio KM de entrega: {0}'.format(round((mean_km), 2)))\n",
    "plt.xlabel(\"Distance\")\n",
    "plt.title(\"Distance Distribution in orders\")\n",
    "plt.legend();"
   ]
  },
  {
   "cell_type": "markdown",
   "metadata": {},
   "source": [
    "En el siguiente gráfico se aprecia como existe una leve correlación positiva entre la distancia y el total de minutos, se observa que a mayor distancia el tiempo crece, veamos si otros atributos tienen un mayor impacto."
   ]
  },
  {
   "cell_type": "code",
   "execution_count": 62,
   "metadata": {
    "scrolled": false
   },
   "outputs": [
    {
     "name": "stdout",
     "output_type": "stream",
     "text": [
      "Distance Vs Total Minutes\n"
     ]
    },
    {
     "data": {
      "image/png": "[encoded data removed]",
      "text/plain": [
       "<Figure size 432x432 with 3 Axes>"
      ]
     },
     "metadata": {},
     "output_type": "display_data"
    }
   ],
   "source": [
    "print(\"Distance Vs Total Minutes\")\n",
    "sns.jointplot(y='total_minutes', x='distance', data=df_eda, kind=\"reg\")\n",
    "plt.xlabel(\"Distance\")\n",
    "plt.ylabel(\"Total Minutes\");"
   ]
  },
  {
   "cell_type": "markdown",
   "metadata": {},
   "source": [
    "A diferencia del gráfico anterior, se puede apreciar como la relación entre ambos atributos tiende a una regresión lineal mucho más marcada, claramente, se observa que a medida que la persona compre más productos el tiempo aumenta considerablemente."
   ]
  },
  {
   "cell_type": "code",
   "execution_count": 63,
   "metadata": {
    "scrolled": false
   },
   "outputs": [
    {
     "data": {
      "image/png": "[encoded data removed]",
      "text/plain": [
       "<Figure size 432x432 with 3 Axes>"
      ]
     },
     "metadata": {},
     "output_type": "display_data"
    }
   ],
   "source": [
    "sns.jointplot(y='total_minutes', x='total_products', data=df_eda, kind=\"reg\")\n",
    "plt.xlabel(\"Total Products\")\n",
    "plt.ylabel(\"Total Minutes\");"
   ]
  },
  {
   "cell_type": "markdown",
   "metadata": {},
   "source": [
    "A diferencia de los 2 gráficos anteriores, existe una leve regresión que tiende hacer negativa, se observa que el `rating` del shopper no influye mucho, se puede deducir que los shopper independientemente de su `rating` están trabajando arduamente con cada pedido."
   ]
  },
  {
   "cell_type": "code",
   "execution_count": 64,
   "metadata": {
    "scrolled": false
   },
   "outputs": [
    {
     "data": {
      "image/png": "[encoded data removed]",
      "text/plain": [
       "<Figure size 432x432 with 3 Axes>"
      ]
     },
     "metadata": {},
     "output_type": "display_data"
    }
   ],
   "source": [
    "sns.jointplot(y='total_minutes', x='rating', data=df_eda, kind='reg')\n",
    "plt.xlabel(\"Shopper Rating\")\n",
    "plt.ylabel(\"Total Minutes\");"
   ]
  },
  {
   "cell_type": "markdown",
   "metadata": {},
   "source": [
    "El promedio `rating` de los shoppers es de __4.85__, muy bueno en relación a la escala (1-5) que son  evaluados por los clientes, se puede apreciar la dedicación y esfuerzo que tienen para entregar un pedido en el tiempo estimado, a pesar de que haya una tasa de incumpliento del __55%__. Importante mencionar que el rating más bajo es de __3.8__."
   ]
  },
  {
   "cell_type": "code",
   "execution_count": 65,
   "metadata": {},
   "outputs": [
    {
     "data": {
      "image/png": "[encoded data removed]",
      "text/plain": [
       "<Figure size 576x396 with 1 Axes>"
      ]
     },
     "metadata": {},
     "output_type": "display_data"
    }
   ],
   "source": [
    "sns.distplot(df_eda['rating'])\n",
    "plt.axvline(np.mean(df_eda['rating']), color='tomato', ls='--',\n",
    "            label='Promedio rating del shopper: {0}'.format(round(np.mean(df_eda['rating']), 2)))\n",
    "plt.xlabel(\"Rating\")\n",
    "plt.title(\"Rating Shopper Distribution\")\n",
    "plt.legend();"
   ]
  },
  {
   "cell_type": "markdown",
   "metadata": {},
   "source": [
    "El promedio total de productos por orden es de aproximada 37 productos, no es una cantidad tan bajo con respecto a la distribución del atributo, este número es importante para tener en cuenta al momento de realizar estrategias."
   ]
  },
  {
   "cell_type": "code",
   "execution_count": 66,
   "metadata": {},
   "outputs": [
    {
     "data": {
      "image/png": "[encoded data removed]",
      "text/plain": [
       "<Figure size 576x396 with 1 Axes>"
      ]
     },
     "metadata": {},
     "output_type": "display_data"
    }
   ],
   "source": [
    "sns.distplot(df_eda['total_products'])\n",
    "plt.axvline(np.mean(df_eda['total_products']), color='tomato', ls='--',\n",
    "            label='Promedio total de productos: {0}'.format(round(np.mean(df_eda['total_products']), 2)))\n",
    "plt.xlabel(\"Total Products\")\n",
    "plt.title(\"Total Products Distribution\")\n",
    "plt.legend();"
   ]
  },
  {
   "cell_type": "markdown",
   "metadata": {},
   "source": [
    "Los clientes en sus ordenes de compra o pedidos mayormente el tipo de producto que compra son lo que se requieren pesar con __64%__ por orden y un __36%__ corresponden aquellos productos que se venden por unidad. Los datos del atributo `type_product` corresponde a __1: requiere pesar (KG)__ y __0: no requiere pesar (UN)__.\n",
    "\n",
    "Teniendo en cuenta esta información se aprecia que las personas tienden a comprar más productos como frutas, verduras y proteínas, por lo que es un dato relevante para compartir con las empresas suscritas en `Cornershop`, a este nivel de información pueden realizar más estrategias digitales para ofertas o promociones a los clientes, donde eventualmente se podría tener una segmentación de clientes y analizar su comportamiento y extraer patrones. Cabe destacar, que los tipos de producto que se necesitan nombrados anteriormente es una hipótesis, ya que conocemos el código del producto pero que para mi conocimiento este es anonimizado, lo que significa que eventualmente podría hacer un cruce de información donde estén los nombres de los productos."
   ]
  },
  {
   "cell_type": "code",
   "execution_count": 67,
   "metadata": {},
   "outputs": [
    {
     "data": {
      "text/plain": [
       "1    0.636375\n",
       "0    0.363625\n",
       "Name: type_product, dtype: float64"
      ]
     },
     "execution_count": 67,
     "metadata": {},
     "output_type": "execute_result"
    }
   ],
   "source": [
    "df_eda['type_product'] = np.where(df_eda['to_weigh'] >=1, 1, 0)\n",
    "df_eda['type_product'].value_counts('%')"
   ]
  },
  {
   "cell_type": "code",
   "execution_count": 68,
   "metadata": {},
   "outputs": [
    {
     "data": {
      "image/png": "[encoded data removed]",
      "text/plain": [
       "<Figure size 576x396 with 1 Axes>"
      ]
     },
     "metadata": {},
     "output_type": "display_data"
    }
   ],
   "source": [
    "sns.countplot(df_eda['type_product'])\n",
    "plt.xlabel(\"Type Product\")\n",
    "plt.ylabel(\"Count\")\n",
    "plt.title(\"Type Product per Orden\");"
   ]
  },
  {
   "cell_type": "markdown",
   "metadata": {},
   "source": [
    "El gráfico ademas nos muestra que aquellas compras que tienen productos que se deben pesar, tienen una distribución diferente a aquellos en los que no se pide ningun producto de pesaje, siendo su promedio mayor en aquellos que deben ser pesados. Se logra apreciar que en las compras con una cantidad hasta 10 productos, predomina los productos que no se pesan, es decir, estas compras chicas mayormente son productos por unidad, por otra parte, a medida que la cantidad de productos de una orden aumenta, los productos por unidad empiezan a decrecer y aumentan los productos que deben ser pesados."
   ]
  },
  {
   "cell_type": "code",
   "execution_count": 69,
   "metadata": {},
   "outputs": [
    {
     "data": {
      "text/plain": [
       "<Figure size 864x504 with 0 Axes>"
      ]
     },
     "metadata": {},
     "output_type": "display_data"
    },
    {
     "data": {
      "image/png": "[encoded data removed]",
      "text/plain": [
       "<Figure size 493.875x288 with 1 Axes>"
      ]
     },
     "metadata": {},
     "output_type": "display_data"
    }
   ],
   "source": [
    "plt.figure(figsize=(12, 7))\n",
    "g = sns.FacetGrid(df_eda, hue=\"type_product\", size=4, aspect=1.5)\n",
    "g = g.map(sns.distplot, \"total_products\")\n",
    "g.add_legend()\n",
    "plt.xlabel(\"Total Products\")\n",
    "plt.title(\"Type Product Distribution per Order\");"
   ]
  },
  {
   "cell_type": "code",
   "execution_count": 70,
   "metadata": {},
   "outputs": [
    {
     "name": "stdout",
     "output_type": "stream",
     "text": [
      "Promedio de productos por orden que requieren ser pesados:  46.26\n",
      "Promedio de productos por orden que no requieren ser pesados:  19.58\n"
     ]
    }
   ],
   "source": [
    "print(\"Promedio de productos por orden que requieren ser pesados: \", \n",
    "      round(df_eda.query(\"type_product==1\")['total_products'].mean(), 2))\n",
    "\n",
    "print(\"Promedio de productos por orden que no requieren ser pesados: \", \n",
    "      round(df_eda.query(\"type_product==0\")['total_products'].mean(), 2))"
   ]
  },
  {
   "cell_type": "markdown",
   "metadata": {},
   "source": [
    "Aquí podemos apreciar las horas en que `Cornershop` se comprometió a entregar el pedido de acuerdo al tiempo estimado al usuario, siendo las __20 HRS__ donde más se entregaron dichos pedidos, con un porcentaje de entrega del __11%__, por otra parte, se observa un rango en el cual se han hecho la entrega, claramente, desde las __14 y  23 horas__."
   ]
  },
  {
   "cell_type": "code",
   "execution_count": 71,
   "metadata": {},
   "outputs": [
    {
     "data": {
      "image/png": "[encoded data removed]",
      "text/plain": [
       "<Figure size 576x396 with 1 Axes>"
      ]
     },
     "metadata": {},
     "output_type": "display_data"
    }
   ],
   "source": [
    "sns.countplot(df_eda['hour'])\n",
    "plt.xlabel(\"Hour\")\n",
    "plt.ylabel(\"Count\")\n",
    "plt.title(\"Delivered Hour per Order\");"
   ]
  },
  {
   "cell_type": "code",
   "execution_count": 72,
   "metadata": {},
   "outputs": [
    {
     "data": {
      "text/plain": [
       "20    0.110741\n",
       "16    0.096898\n",
       "21    0.092412\n",
       "17    0.089977\n",
       "19    0.089336\n",
       "14    0.078826\n",
       "15    0.076134\n",
       "18    0.074340\n",
       "22    0.072417\n",
       "0     0.068957\n",
       "23    0.059087\n",
       "1     0.046783\n",
       "13    0.027301\n",
       "2     0.011407\n",
       "12    0.005255\n",
       "3     0.000128\n",
       "Name: hour, dtype: float64"
      ]
     },
     "execution_count": 72,
     "metadata": {},
     "output_type": "execute_result"
    }
   ],
   "source": [
    "df_eda['hour'].value_counts('%')"
   ]
  },
  {
   "cell_type": "markdown",
   "metadata": {},
   "source": [
    "Con respecto a los días de entrega, el dataset contiene solamente 2 días, como fecha mínima \"2019-10-18 19:01:00\" y como fecha máxima \"2019-10-20 00:00:00\". Posterior a este gráfico veremos a que días de la semana correspondeme cada uno de ellos."
   ]
  },
  {
   "cell_type": "code",
   "execution_count": 73,
   "metadata": {},
   "outputs": [
    {
     "data": {
      "text/plain": [
       "('2019-10-18 19:01:00+00:00', '2019-10-20 00:00:00+00:00')"
      ]
     },
     "execution_count": 73,
     "metadata": {},
     "output_type": "execute_result"
    }
   ],
   "source": [
    "min(df_eda['promised_time']), max(df_eda['promised_time'])"
   ]
  },
  {
   "cell_type": "code",
   "execution_count": 74,
   "metadata": {},
   "outputs": [
    {
     "data": {
      "image/png": "[encoded data removed]",
      "text/plain": [
       "<Figure size 576x396 with 1 Axes>"
      ]
     },
     "metadata": {},
     "output_type": "display_data"
    }
   ],
   "source": [
    "sns.countplot(x='day', data=df_eda, order=df_eda['day'].value_counts().index)\n",
    "plt.xlabel(\"Day\")\n",
    "plt.ylabel(\"Count\")\n",
    "plt.title(\"Delivery day per Order\");"
   ]
  },
  {
   "cell_type": "markdown",
   "metadata": {},
   "source": [
    "En el siguiente gráfico podemos apreciar los días de la semana en que se hicieron entrega de los pedidos, para este dataset solo tenemos días __viernes, sábado y domingo__, un alto porcentaje de entrega para el día sábado con un __71%__, y para el día domingo donde se entregó menos pedidos este corresponde a un __0.001%__ equivalente a 1 solo pedido entregado. De seguro las personas hicieron más pedidos el sábado por ser fin de semana y tienen más tiempo, mientras que por ser día viernes, empezaron a realizar pedidos una vez que llegaron a casa después de la jornada laboral. "
   ]
  },
  {
   "cell_type": "code",
   "execution_count": 75,
   "metadata": {},
   "outputs": [],
   "source": [
    "day = {4:'friday', 5:'saturday', 6:'sunday'}\n",
    "df_eda['weekday2'] = df_eda['weekday2'].map(day)"
   ]
  },
  {
   "cell_type": "code",
   "execution_count": 76,
   "metadata": {},
   "outputs": [
    {
     "data": {
      "text/plain": [
       "saturday    0.711741\n",
       "friday      0.288131\n",
       "sunday      0.000128\n",
       "Name: weekday2, dtype: float64"
      ]
     },
     "execution_count": 76,
     "metadata": {},
     "output_type": "execute_result"
    }
   ],
   "source": [
    "df_eda['weekday2'].value_counts('%')"
   ]
  },
  {
   "cell_type": "code",
   "execution_count": 77,
   "metadata": {},
   "outputs": [
    {
     "data": {
      "image/png": "[encoded data removed]",
      "text/plain": [
       "<Figure size 576x396 with 1 Axes>"
      ]
     },
     "metadata": {},
     "output_type": "display_data"
    }
   ],
   "source": [
    "sns.countplot(x='weekday2', data=df_eda, order=df_eda['weekday2'].value_counts().index)\n",
    "plt.xlabel(\"Weekday\")\n",
    "plt.ylabel(\"Count\")\n",
    "plt.title(\"Delivered Day per Order\");"
   ]
  },
  {
   "cell_type": "markdown",
   "metadata": {},
   "source": [
    "Otro punto importante a mencionar, el promedio de entrega (minutos) en los días __viernes y sábado__ son de __76% y 83%__ respectivamente, en comparación, si bien existe un __8%__ de diferencia entre ellos se debe también a la diferencia de las ordenes entregadas por día, sábado tiene una cantidad de __5553__ ordenes o pedidos y viernes tiene __2248__, es decir, la differencia entre ellos es de más de __3000__ ordenes, por último, domingo tiene un alto promedio de __117%__ pero se debe a que es una sola orden que se entregó ese día."
   ]
  },
  {
   "cell_type": "code",
   "execution_count": 78,
   "metadata": {},
   "outputs": [
    {
     "data": {
      "text/plain": [
       "weekday2\n",
       "friday       75.638289\n",
       "saturday     83.341390\n",
       "sunday      117.480189\n",
       "Name: total_minutes, dtype: float64"
      ]
     },
     "execution_count": 78,
     "metadata": {},
     "output_type": "execute_result"
    }
   ],
   "source": [
    "df_eda.groupby('weekday2')['total_minutes'].mean()"
   ]
  },
  {
   "cell_type": "code",
   "execution_count": 79,
   "metadata": {},
   "outputs": [
    {
     "data": {
      "image/png": "[encoded data removed]",
      "text/plain": [
       "<Figure size 576x396 with 1 Axes>"
      ]
     },
     "metadata": {},
     "output_type": "display_data"
    }
   ],
   "source": [
    "plt.plot(df_eda.groupby('weekday2').mean()['total_minutes'])\n",
    "plt.title('Weekday vs Total Minutes')\n",
    "plt.xlabel(\"Day\")\n",
    "plt.ylabel(\"Total Minutes\");"
   ]
  },
  {
   "cell_type": "markdown",
   "metadata": {},
   "source": [
    "En esta tabla se puede apreciar el promedio de entrega `total_minutes` en cada hora por el día que se hicieron los delivery, para el día viernes entre las __22 y 23 horas__ fueron donde se hicieron más entregas, también se puede observar que el rango horario de entrega es entre las __19 y 23 horas__, donde las 19 tiene el menor promedio, se puede concluir que las personas tienden a comprar generalmente después de salir del trabajo.\n",
    "\n",
    "Para el día sábado ocurre todo lo contrario con respecto a los otros días, aquí las entregas se realizan en más horas del día, se puede notar como en el rango entre las __20 y 23 horas__ es donde existe un alto promedio con más del __90%__ a excepción de las __22 horas__ donde cae un poco, claramente, las personas tienden a realizar más pedidos en este rango de tiempo debido a que pueden estar en compañía con amigos y/o familiares, por otra parte, en el rango entre las __0 y 2 horas__ el promedio es más del __80%__, esto puede ser ya que las personas tienden a soliciar más o tienden a estar más tiempo despierto debido a que es my probable que no tengan que trabajar el sábado.\n",
    "\n",
    "Por último, el día domingo la única entrega que se realizó fue a las __00:00 horas__, es muy probable que se pedido haya sido para las __23 horas__ del sábado y se retrasó lo que quedo como incumplimiento del tiempo estimado por parte de `Cornershop`. Otro punto a resaltar de este dataset es que el domingo no se hizo ninguna entrega en otras horas, cuando por lo general las personas tienden a no cocinar ese día y comprar a tiendas."
   ]
  },
  {
   "cell_type": "code",
   "execution_count": 80,
   "metadata": {},
   "outputs": [],
   "source": [
    "table = pd.pivot_table(df_eda, columns='weekday2', index='hour', values='total_minutes', aggfunc='mean')"
   ]
  },
  {
   "cell_type": "code",
   "execution_count": 81,
   "metadata": {},
   "outputs": [
    {
     "data": {
      "image/png": "[encoded data removed]",
      "text/plain": [
       "<Figure size 864x504 with 2 Axes>"
      ]
     },
     "metadata": {},
     "output_type": "display_data"
    }
   ],
   "source": [
    "plt.figure(figsize=(12, 7))\n",
    "sns.heatmap(table, cmap='coolwarm', annot=True, fmt='.2f')\n",
    "plt.xlabel(\"Weekday\")\n",
    "plt.ylabel(\"Hour\")\n",
    "plt.title(\"Average Total Minutes in hour per day\");"
   ]
  },
  {
   "cell_type": "markdown",
   "metadata": {},
   "source": [
    "No se aprecia una alta correlación entre el vector objetivo `total_minutes` con respecto a los demás atributos, en cuanto, a los atributos independiente entre sí, se puede notar como `friday` y `saturday` presentan una alta correlación con `day` de manera negativa y positiva respectivamente, es de esperarse, ya que es la variable binarizada, antes de modelar se eliminarán atributos irrelevantes."
   ]
  },
  {
   "cell_type": "code",
   "execution_count": 82,
   "metadata": {},
   "outputs": [],
   "source": [
    "df_corr = df_eda.corr()"
   ]
  },
  {
   "cell_type": "code",
   "execution_count": 83,
   "metadata": {},
   "outputs": [
    {
     "data": {
      "image/png": "[encoded data removed]",
      "text/plain": [
       "<Figure size 576x396 with 2 Axes>"
      ]
     },
     "metadata": {},
     "output_type": "display_data"
    }
   ],
   "source": [
    "sns.heatmap(df_corr,  cmap='coolwarm', fmt='.2f');"
   ]
  },
  {
   "cell_type": "markdown",
   "metadata": {},
   "source": [
    "Se borraron atributos que se consideran irrelevantes como `promised_time`, `day` y `weekday2`, además, se aplicó una binarización al atributo `seniority` con la técnica de __OneHotEncoding__ para evitar algún tipo de orden al modelar los datos por medio del algoritmo de Machine Learning, ya que es un atributo nominal. "
   ]
  },
  {
   "cell_type": "code",
   "execution_count": 84,
   "metadata": {},
   "outputs": [],
   "source": [
    "# Removing irrelevant columns\n",
    "orders_imp = orders_imp.drop(columns=['promised_time', 'day', 'weekday2'])\n",
    "\n",
    "orders_no_imp = orders_no_imp.drop(columns=['promised_time', 'day', 'weekday2'])\n",
    "\n",
    "# One Hot Encoding\n",
    "orders_imp = pd.get_dummies(orders_imp, columns=['seniority'], \n",
    "                            prefix='seniority', prefix_sep='_', drop_first='True')\n",
    "\n",
    "orders_no_imp = pd.get_dummies(orders_no_imp, columns=['seniority'], \n",
    "                            prefix='seniority', prefix_sep='_', drop_first='True')"
   ]
  },
  {
   "cell_type": "markdown",
   "metadata": {},
   "source": [
    "En esta ocasión antes de pasar a la etapa de modelación se terminará de ajustar el dataframe, se aplica una binarización al atributo `seniority` y se aislan los datos que no presentan `total_minutes`, es importante recordar que se aplica a los dataframes con datos imputados y sin imputar, donde para los datos imputados mantenemos un total de __9978__ observaciones, donde solo __1995__ observaciones corresponden a aquellas que no tienen un tiempo de entrega, representando el __20%__ de la data total. \n",
    "\n",
    "Para el dataframe que no se aplicó imputaciones, y fueron borradas las observaciones de los atributos `found_rate`, `accepted_rate` y `rating` este quedó con un total de __9762__ y con una cantidad de __1960__ como datos a predecir, representando el también el __20%__ de la data.\n",
    "\n",
    "__Nota:__ Se hace exportación de los data test de los dataframes con y sin imputaciones."
   ]
  },
  {
   "cell_type": "code",
   "execution_count": 85,
   "metadata": {},
   "outputs": [
    {
     "data": {
      "text/html": [
       "<div>\n",
       "<style scoped>\n",
       "    .dataframe tbody tr th:only-of-type {\n",
       "        vertical-align: middle;\n",
       "    }\n",
       "\n",
       "    .dataframe tbody tr th {\n",
       "        vertical-align: top;\n",
       "    }\n",
       "\n",
       "    .dataframe thead th {\n",
       "        text-align: right;\n",
       "    }\n",
       "</style>\n",
       "<table border=\"1\" class=\"dataframe\">\n",
       "  <thead>\n",
       "    <tr style=\"text-align: right;\">\n",
       "      <th></th>\n",
       "      <th>Total</th>\n",
       "      <th>Percent(%)</th>\n",
       "    </tr>\n",
       "  </thead>\n",
       "  <tbody>\n",
       "    <tr>\n",
       "      <th>total_minutes</th>\n",
       "      <td>1995</td>\n",
       "      <td>19.993987</td>\n",
       "    </tr>\n",
       "    <tr>\n",
       "      <th>seniority_REVIEW</th>\n",
       "      <td>0</td>\n",
       "      <td>0.000000</td>\n",
       "    </tr>\n",
       "    <tr>\n",
       "      <th>seniority_INTERMEDIATE</th>\n",
       "      <td>0</td>\n",
       "      <td>0.000000</td>\n",
       "    </tr>\n",
       "    <tr>\n",
       "      <th>on_demand</th>\n",
       "      <td>0</td>\n",
       "      <td>0.000000</td>\n",
       "    </tr>\n",
       "    <tr>\n",
       "      <th>to_weigh</th>\n",
       "      <td>0</td>\n",
       "      <td>0.000000</td>\n",
       "    </tr>\n",
       "  </tbody>\n",
       "</table>\n",
       "</div>"
      ],
      "text/plain": [
       "                        Total  Percent(%)\n",
       "total_minutes            1995   19.993987\n",
       "seniority_REVIEW            0    0.000000\n",
       "seniority_INTERMEDIATE      0    0.000000\n",
       "on_demand                   0    0.000000\n",
       "to_weigh                    0    0.000000"
      ]
     },
     "execution_count": 85,
     "metadata": {},
     "output_type": "execute_result"
    }
   ],
   "source": [
    "# Missig Values Table, imputaded dataframe\n",
    "total = orders_imp.isnull().sum().sort_values(ascending=False)\n",
    "percent = (orders_imp.isnull().sum() / orders_imp.isnull().count() * 100).sort_values(ascending=False)\n",
    "missing_values = pd.concat([total, percent], axis=1, keys=['Total', 'Percent(%)'])\n",
    "missing_values.head()"
   ]
  },
  {
   "cell_type": "code",
   "execution_count": 86,
   "metadata": {},
   "outputs": [],
   "source": [
    "orders_imp_data_test = orders_imp[orders_imp['total_minutes'].isnull()]"
   ]
  },
  {
   "cell_type": "code",
   "execution_count": 87,
   "metadata": {},
   "outputs": [],
   "source": [
    "orders_imp = orders_imp[orders_imp['total_minutes'].notnull()]"
   ]
  },
  {
   "cell_type": "code",
   "execution_count": 88,
   "metadata": {},
   "outputs": [
    {
     "data": {
      "text/html": [
       "<div>\n",
       "<style scoped>\n",
       "    .dataframe tbody tr th:only-of-type {\n",
       "        vertical-align: middle;\n",
       "    }\n",
       "\n",
       "    .dataframe tbody tr th {\n",
       "        vertical-align: top;\n",
       "    }\n",
       "\n",
       "    .dataframe thead th {\n",
       "        text-align: right;\n",
       "    }\n",
       "</style>\n",
       "<table border=\"1\" class=\"dataframe\">\n",
       "  <thead>\n",
       "    <tr style=\"text-align: right;\">\n",
       "      <th></th>\n",
       "      <th>Total</th>\n",
       "      <th>Percent(%)</th>\n",
       "    </tr>\n",
       "  </thead>\n",
       "  <tbody>\n",
       "    <tr>\n",
       "      <th>total_minutes</th>\n",
       "      <td>1995</td>\n",
       "      <td>19.993987</td>\n",
       "    </tr>\n",
       "    <tr>\n",
       "      <th>found_rate</th>\n",
       "      <td>199</td>\n",
       "      <td>1.994388</td>\n",
       "    </tr>\n",
       "    <tr>\n",
       "      <th>rating</th>\n",
       "      <td>162</td>\n",
       "      <td>1.623572</td>\n",
       "    </tr>\n",
       "    <tr>\n",
       "      <th>accepted_rate</th>\n",
       "      <td>46</td>\n",
       "      <td>0.461014</td>\n",
       "    </tr>\n",
       "    <tr>\n",
       "      <th>picking_speed</th>\n",
       "      <td>0</td>\n",
       "      <td>0.000000</td>\n",
       "    </tr>\n",
       "  </tbody>\n",
       "</table>\n",
       "</div>"
      ],
      "text/plain": [
       "               Total  Percent(%)\n",
       "total_minutes   1995   19.993987\n",
       "found_rate       199    1.994388\n",
       "rating           162    1.623572\n",
       "accepted_rate     46    0.461014\n",
       "picking_speed      0    0.000000"
      ]
     },
     "execution_count": 88,
     "metadata": {},
     "output_type": "execute_result"
    }
   ],
   "source": [
    "# Missig Values Table, no imputation\n",
    "total = orders_no_imp.isnull().sum().sort_values(ascending=False)\n",
    "percent = (orders_no_imp.isnull().sum() / orders_no_imp.isnull().count() * 100).sort_values(ascending=False)\n",
    "missing_values = pd.concat([total, percent], axis=1, keys=['Total', 'Percent(%)'])\n",
    "missing_values.head()"
   ]
  },
  {
   "cell_type": "code",
   "execution_count": 89,
   "metadata": {},
   "outputs": [],
   "source": [
    "orders_no_imp = orders_no_imp.dropna(subset=['found_rate', 'rating', 'accepted_rate'])"
   ]
  },
  {
   "cell_type": "code",
   "execution_count": 90,
   "metadata": {},
   "outputs": [
    {
     "data": {
      "text/html": [
       "<div>\n",
       "<style scoped>\n",
       "    .dataframe tbody tr th:only-of-type {\n",
       "        vertical-align: middle;\n",
       "    }\n",
       "\n",
       "    .dataframe tbody tr th {\n",
       "        vertical-align: top;\n",
       "    }\n",
       "\n",
       "    .dataframe thead th {\n",
       "        text-align: right;\n",
       "    }\n",
       "</style>\n",
       "<table border=\"1\" class=\"dataframe\">\n",
       "  <thead>\n",
       "    <tr style=\"text-align: right;\">\n",
       "      <th></th>\n",
       "      <th>Total</th>\n",
       "      <th>Percent(%)</th>\n",
       "    </tr>\n",
       "  </thead>\n",
       "  <tbody>\n",
       "    <tr>\n",
       "      <th>total_minutes</th>\n",
       "      <td>1960</td>\n",
       "      <td>20.077853</td>\n",
       "    </tr>\n",
       "    <tr>\n",
       "      <th>seniority_REVIEW</th>\n",
       "      <td>0</td>\n",
       "      <td>0.000000</td>\n",
       "    </tr>\n",
       "    <tr>\n",
       "      <th>seniority_INTERMEDIATE</th>\n",
       "      <td>0</td>\n",
       "      <td>0.000000</td>\n",
       "    </tr>\n",
       "    <tr>\n",
       "      <th>on_demand</th>\n",
       "      <td>0</td>\n",
       "      <td>0.000000</td>\n",
       "    </tr>\n",
       "    <tr>\n",
       "      <th>to_weigh</th>\n",
       "      <td>0</td>\n",
       "      <td>0.000000</td>\n",
       "    </tr>\n",
       "  </tbody>\n",
       "</table>\n",
       "</div>"
      ],
      "text/plain": [
       "                        Total  Percent(%)\n",
       "total_minutes            1960   20.077853\n",
       "seniority_REVIEW            0    0.000000\n",
       "seniority_INTERMEDIATE      0    0.000000\n",
       "on_demand                   0    0.000000\n",
       "to_weigh                    0    0.000000"
      ]
     },
     "execution_count": 90,
     "metadata": {},
     "output_type": "execute_result"
    }
   ],
   "source": [
    "# Missig Values Table, no imputation\n",
    "total = orders_no_imp.isnull().sum().sort_values(ascending=False)\n",
    "percent = (orders_no_imp.isnull().sum() / orders_no_imp.isnull().count() * 100).sort_values(ascending=False)\n",
    "missing_values = pd.concat([total, percent], axis=1, keys=['Total', 'Percent(%)'])\n",
    "missing_values.head()"
   ]
  },
  {
   "cell_type": "code",
   "execution_count": 91,
   "metadata": {},
   "outputs": [],
   "source": [
    "orders_no_imp_data_test = orders_no_imp[orders_no_imp['total_minutes'].isnull()]"
   ]
  },
  {
   "cell_type": "code",
   "execution_count": 92,
   "metadata": {},
   "outputs": [],
   "source": [
    "orders_no_imp = orders_no_imp[orders_no_imp['total_minutes'].notnull()]"
   ]
  },
  {
   "cell_type": "code",
   "execution_count": 93,
   "metadata": {},
   "outputs": [],
   "source": [
    "# Exporting datatest\n",
    "orders_imp_data_test.to_csv('data/orders_imp_data_test.csv', header=True, index=False)\n",
    "orders_no_imp_data_test.to_csv('data/orders_no_imp_data_test.csv', header=True, index=False)"
   ]
  },
  {
   "cell_type": "markdown",
   "metadata": {},
   "source": [
    "## 4. Predictive Models"
   ]
  },
  {
   "cell_type": "markdown",
   "metadata": {},
   "source": [
    "Antes de modelar los datos estos serán estandarizados, y posteriorente se crearán los modelos predictivos, con los  siguientes algoritmos de Machine Learning:\n",
    "* LinearRegression\n",
    "* XGBoostRegressor\n",
    "* RandomForestRegressor\n",
    "* SVR\n",
    "* LinearGAM\n",
    "\n",
    "__Modelos:__ Se crearán modelos con los 2 dataframes (imputado, no imputado) creados, los modelos a crear estarán segmentados cuando el atributo `on_demand` es __True o False__ para este caso serán los valores __0 y 1__ respectivamente. También se harán ajustes de hiperparámetros para intentar buscar mejorar el performance de los modelos después de haberse hecho una implementación `vanilla` (valores por defecto), debido a que a veces los hiperparámetros que tienen por defecto los algoritmos hacen que se tengan un mejor resultado. \n",
    "\n",
    "Se tomará como base line el resultado de `LinearRegressor`, a partir de ahí se busca mejorar ese valor con la implementación de otros algoritmos de __ML__.\n",
    "\n",
    "__Criterio de evaluación:__ Para esta problemática estaré tomando como criterio de evaluación `MAE` y `RMSE`, donde finalmente me fijaré en los resultados que arroje `MAE`, esto se debe a que principalmente es más robusta a datasets cuando presentan outliers que es lo que tenemos actualmente."
   ]
  },
  {
   "cell_type": "code",
   "execution_count": 94,
   "metadata": {},
   "outputs": [
    {
     "data": {
      "text/plain": [
       "(7983, 18)"
      ]
     },
     "execution_count": 94,
     "metadata": {},
     "output_type": "execute_result"
    }
   ],
   "source": [
    "orders_imp.shape"
   ]
  },
  {
   "cell_type": "code",
   "execution_count": 95,
   "metadata": {},
   "outputs": [
    {
     "data": {
      "text/plain": [
       "(7802, 18)"
      ]
     },
     "execution_count": 95,
     "metadata": {},
     "output_type": "execute_result"
    }
   ],
   "source": [
    "orders_no_imp.shape"
   ]
  },
  {
   "cell_type": "code",
   "execution_count": 96,
   "metadata": {},
   "outputs": [],
   "source": [
    "orders_imp_0 = orders_imp[orders_imp['on_demand'] == 0] # True\n",
    "orders_imp_1 = orders_imp[orders_imp['on_demand'] == 1] # False\n",
    "\n",
    "orders_no_imp_0 = orders_no_imp[orders_no_imp['on_demand'] == 0] # True\n",
    "orders_no_imp_1 = orders_no_imp[orders_no_imp['on_demand'] == 1] # False"
   ]
  },
  {
   "cell_type": "code",
   "execution_count": 97,
   "metadata": {},
   "outputs": [],
   "source": [
    "# Splitting data in training and test\n",
    "# dataframe imputaed\n",
    "X_imp_0 = orders_imp_0.drop(columns=['total_minutes', 'order_id']) # remove order_id column and target\n",
    "y_imp_0 = orders_imp_0['total_minutes']\n",
    "\n",
    "X_train_imp_0, X_test_imp_0, y_train_imp_0, y_test_imp_0 = train_test_split(X_imp_0, \n",
    "                                                                            y_imp_0, \n",
    "                                                                            test_size=.20, \n",
    "                                                                            random_state=123)\n",
    "\n",
    "X_imp_1 = orders_imp_1.drop(columns=['total_minutes', 'order_id']) # remove order_id column \n",
    "y_imp_1 = orders_imp_1['total_minutes']\n",
    "\n",
    "X_train_imp_1, X_test_imp_1, y_train_imp_1, y_test_imp_1 = train_test_split(X_imp_1, \n",
    "                                                                            y_imp_1, \n",
    "                                                                            test_size=.20, \n",
    "                                                                            random_state=123)\n",
    "\n",
    "# dataframe no imputaed\n",
    "X_no_imp_0 = orders_no_imp_0.drop(columns=['total_minutes', 'order_id']) # remove order_id column and target\n",
    "y_no_imp_0 = orders_no_imp_0['total_minutes']\n",
    "\n",
    "X_train_no_imp_0, X_test_no_imp_0, y_train_no_imp_0, y_test_no_imp_0 = train_test_split(X_no_imp_0,\n",
    "                                                                                        y_no_imp_0,\n",
    "                                                                                        test_size=.20,\n",
    "                                                                                        random_state=123)\n",
    "\n",
    "X_no_imp_1 = orders_no_imp_1.drop(columns=['total_minutes', 'order_id']) # remove order_id column and target\n",
    "y_no_imp_1 = orders_no_imp_1['total_minutes']\n",
    "\n",
    "X_train_no_imp_1, X_test_no_imp_1, y_train_no_imp_1, y_test_no_imp_1 = train_test_split(X_no_imp_1,\n",
    "                                                                                        y_no_imp_1,\n",
    "                                                                                        test_size=.20,\n",
    "                                                                                        random_state=123)"
   ]
  },
  {
   "cell_type": "code",
   "execution_count": 98,
   "metadata": {},
   "outputs": [],
   "source": [
    "# Standarization\n",
    "# dataframe imputaed\n",
    "scaled_imp_0 = StandardScaler().fit(X_train_imp_0)\n",
    "\n",
    "X_train_imp_0_scaled = scaled_imp_0.transform(X_train_imp_0)\n",
    "X_test_imp_0_scaled = scaled_imp_0.transform(X_test_imp_0)\n",
    "\n",
    "scaled_imp_1 = StandardScaler().fit(X_train_imp_1)\n",
    "\n",
    "X_train_imp_1_scaled = scaled_imp_1.transform(X_train_imp_1)\n",
    "X_test_imp_1_scaled = scaled_imp_1.transform(X_test_imp_1)\n",
    "\n",
    "# dataframe no imputaed\n",
    "scaled_no_imp_0 = StandardScaler().fit(X_train_no_imp_0)\n",
    "X_train_no_imp_0_scaled = scaled_no_imp_0.transform(X_train_no_imp_0)\n",
    "X_test_no_imp_0_scaled = scaled_no_imp_0.transform(X_test_no_imp_0)\n",
    "\n",
    "scaled_no_imp_1 = StandardScaler().fit(X_train_no_imp_1)\n",
    "X_train_no_imp_1_scaled = scaled_no_imp_1.transform(X_train_no_imp_1)\n",
    "X_test_no_imp_1_scaled = scaled_no_imp_1.transform(X_test_no_imp_1)"
   ]
  },
  {
   "cell_type": "markdown",
   "metadata": {},
   "source": [
    "### Dataframe Imputaed\n",
    "#### LinearRegression\n",
    "#### LinearRegression (on_demand=0)"
   ]
  },
  {
   "cell_type": "code",
   "execution_count": 99,
   "metadata": {},
   "outputs": [],
   "source": [
    "lr_model_imp_0 = LinearRegression(fit_intercept=True, normalize=False)\n",
    "lr_model_imp_0.fit(X_train_imp_0_scaled, y_train_imp_0)\n",
    "\n",
    "# Predictions\n",
    "lr_model_imp_0_pred = lr_model_imp_0.predict(X_test_imp_0_scaled)"
   ]
  },
  {
   "cell_type": "code",
   "execution_count": 100,
   "metadata": {},
   "outputs": [],
   "source": [
    "mae_lr_imp_0 = mean_absolute_error(y_test_imp_0, lr_model_imp_0_pred)\n",
    "rmse_lr_imp_0 = np.sqrt(mean_squared_error(y_test_imp_0, lr_model_imp_0_pred))"
   ]
  },
  {
   "cell_type": "code",
   "execution_count": 101,
   "metadata": {},
   "outputs": [
    {
     "name": "stdout",
     "output_type": "stream",
     "text": [
      "MAE LR IMP0:  17.94788242077604\n",
      "RMSE LR IMP0:  25.059216363085245\n"
     ]
    }
   ],
   "source": [
    "print(\"MAE LR IMP0: \", mae_lr_imp_0)\n",
    "print(\"RMSE LR IMP0: \", rmse_lr_imp_0)"
   ]
  },
  {
   "cell_type": "markdown",
   "metadata": {},
   "source": [
    "#### LinearRegression (on_demand=1)"
   ]
  },
  {
   "cell_type": "code",
   "execution_count": 102,
   "metadata": {},
   "outputs": [],
   "source": [
    "lr_model_imp_1 = LinearRegression(fit_intercept=True, normalize=False)\n",
    "lr_model_imp_1.fit(X_train_imp_1_scaled, y_train_imp_1)\n",
    "\n",
    "# Predictions\n",
    "lr_model_imp_1_pred = lr_model_imp_1.predict(X_test_imp_1_scaled)"
   ]
  },
  {
   "cell_type": "code",
   "execution_count": 103,
   "metadata": {},
   "outputs": [],
   "source": [
    "mae_lr_imp_1 = mean_absolute_error(y_test_imp_1, lr_model_imp_1_pred)\n",
    "rmse_lr_imp_1 = np.sqrt(mean_squared_error(y_test_imp_1, lr_model_imp_1_pred))"
   ]
  },
  {
   "cell_type": "code",
   "execution_count": 104,
   "metadata": {},
   "outputs": [
    {
     "name": "stdout",
     "output_type": "stream",
     "text": [
      "MAE LR IMP1:  21.76951898079709\n",
      "RMSE LR IMP1:  27.784052728915654\n"
     ]
    }
   ],
   "source": [
    "print(\"MAE LR IMP1: \", mae_lr_imp_1)\n",
    "print(\"RMSE LR IMP1: \", rmse_lr_imp_1)"
   ]
  },
  {
   "cell_type": "markdown",
   "metadata": {},
   "source": [
    "#### XGBoostRegressor\n",
    "#### XGBoostRegressor (on_demand=0)"
   ]
  },
  {
   "cell_type": "code",
   "execution_count": 105,
   "metadata": {},
   "outputs": [],
   "source": [
    "xgb_model_imp_0 = XGBRegressor()\n",
    "xgb_model_imp_0.fit(X_train_imp_0_scaled, y_train_imp_0)\n",
    "\n",
    "# Predictions\n",
    "xgb_model_imp_0_pred = xgb_model_imp_0.predict(X_test_imp_0_scaled)"
   ]
  },
  {
   "cell_type": "code",
   "execution_count": 106,
   "metadata": {},
   "outputs": [],
   "source": [
    "mae_xgb_imp_0 = mean_absolute_error(y_test_imp_0, xgb_model_imp_0_pred)\n",
    "rmse_xgb_imp_0 = np.sqrt(mean_squared_error(y_test_imp_0, xgb_model_imp_0_pred))"
   ]
  },
  {
   "cell_type": "code",
   "execution_count": 107,
   "metadata": {},
   "outputs": [
    {
     "name": "stdout",
     "output_type": "stream",
     "text": [
      "MAE XGB IMP0:  17.48256971971035\n",
      "RMSE XGB IMP0:  24.461746319883368\n"
     ]
    }
   ],
   "source": [
    "print(\"MAE XGB IMP0: \", mae_xgb_imp_0)\n",
    "print(\"RMSE XGB IMP0: \", rmse_xgb_imp_0)"
   ]
  },
  {
   "cell_type": "markdown",
   "metadata": {},
   "source": [
    "Aplico `GridSearchCV` para encontrar valores óptimos de los hiperparámetros y mejorar el performance del modelo."
   ]
  },
  {
   "cell_type": "code",
   "execution_count": 108,
   "metadata": {},
   "outputs": [
    {
     "name": "stdout",
     "output_type": "stream",
     "text": [
      "XGB Best Score:  0.3022212365024277\n",
      "XGB Best Params:  {'learning_rate': 0.01, 'max_depth': 4, 'n_estimators': 500, 'subsample': 0.6}\n"
     ]
    }
   ],
   "source": [
    "# Grid Search\n",
    "n_estimators = [50, 100, 150, 200, 500]\n",
    "max_depth = [2, 4, 6, 8]\n",
    "learning_rate = [0.0001, 0.001, 0.01, 0.1, 0.2, 0.3]\n",
    "subsample = [i/10.0 for i in range(6,11)]\n",
    "param_grid = dict(n_estimators=n_estimators, max_depth=max_depth, learning_rate=learning_rate, subsample=subsample)\n",
    "grid_search = GridSearchCV(XGBRegressor(), param_grid=param_grid, cv=5, n_jobs=-1, verbose=False)\n",
    "result_xgb = grid_search.fit(X_train_imp_0_scaled, y_train_imp_0)\n",
    "\n",
    "print('XGB Best Score: ', result_xgb.best_score_)\n",
    "print('XGB Best Params: ', result_xgb.best_params_)"
   ]
  },
  {
   "cell_type": "code",
   "execution_count": 109,
   "metadata": {},
   "outputs": [],
   "source": [
    "# Predictions\n",
    "bst_xgb_model_imp_0_pred = result_xgb.best_estimator_.predict(X_test_imp_0_scaled)"
   ]
  },
  {
   "cell_type": "code",
   "execution_count": 110,
   "metadata": {},
   "outputs": [],
   "source": [
    "bst_mae_xgb_imp_0 = mean_absolute_error(y_test_imp_0, bst_xgb_model_imp_0_pred)\n",
    "bst_rmse_xgb_imp_0 = np.sqrt(mean_squared_error(y_test_imp_0, bst_xgb_model_imp_0_pred))"
   ]
  },
  {
   "cell_type": "code",
   "execution_count": 111,
   "metadata": {},
   "outputs": [
    {
     "name": "stdout",
     "output_type": "stream",
     "text": [
      "Best MAE XGB IMP0:  17.22650098575476\n",
      "Best RMSE XGB IMP0:  24.207890444768566\n"
     ]
    }
   ],
   "source": [
    "print(\"Best MAE XGB IMP0: \", bst_mae_xgb_imp_0)\n",
    "print(\"Best RMSE XGB IMP0: \", bst_rmse_xgb_imp_0)"
   ]
  },
  {
   "cell_type": "markdown",
   "metadata": {},
   "source": [
    "#### XGBoostRegressor (on_demand=1)"
   ]
  },
  {
   "cell_type": "code",
   "execution_count": 112,
   "metadata": {},
   "outputs": [],
   "source": [
    "xgb_model_imp_1 = XGBRegressor()\n",
    "xgb_model_imp_1.fit(X_train_imp_1_scaled, y_train_imp_1)\n",
    "\n",
    "# Predictions\n",
    "xgb_model_imp_1_pred = xgb_model_imp_1.predict(X_test_imp_1_scaled)"
   ]
  },
  {
   "cell_type": "code",
   "execution_count": 113,
   "metadata": {},
   "outputs": [],
   "source": [
    "mae_xgb_imp_1 = mean_absolute_error(y_test_imp_1, xgb_model_imp_1_pred)\n",
    "rmse_xgb_imp_1 = np.sqrt(mean_squared_error(y_test_imp_1, xgb_model_imp_1_pred))"
   ]
  },
  {
   "cell_type": "code",
   "execution_count": 114,
   "metadata": {},
   "outputs": [
    {
     "name": "stdout",
     "output_type": "stream",
     "text": [
      "MAE XGB IMP1:  20.143996177185144\n",
      "RMSE XGB IMP1:  25.984217520830484\n"
     ]
    }
   ],
   "source": [
    "print(\"MAE XGB IMP1: \", mae_xgb_imp_1)\n",
    "print(\"RMSE XGB IMP1: \", rmse_xgb_imp_1)"
   ]
  },
  {
   "cell_type": "markdown",
   "metadata": {},
   "source": [
    "Aplico `GridSearchCV` para encontrar valores óptimos de los hiperparámetros y mejorar el performance del modelo."
   ]
  },
  {
   "cell_type": "code",
   "execution_count": 115,
   "metadata": {},
   "outputs": [
    {
     "name": "stdout",
     "output_type": "stream",
     "text": [
      "XGB Best Score:  0.47488502010503064\n",
      "XGB Best Params:  {'learning_rate': 0.01, 'max_depth': 6, 'n_estimators': 500, 'subsample': 0.6}\n"
     ]
    }
   ],
   "source": [
    "# Grid Search\n",
    "n_estimators = [50, 100, 150, 200, 500]\n",
    "max_depth = [2, 4, 6, 8]\n",
    "learning_rate = [0.0001, 0.001, 0.01, 0.1, 0.2, 0.3]\n",
    "subsample = [i/10.0 for i in range(6,11)]\n",
    "param_grid = dict(n_estimators=n_estimators, max_depth=max_depth, learning_rate=learning_rate, subsample=subsample)\n",
    "grid_search = GridSearchCV(XGBRegressor(), param_grid=param_grid, cv=5, n_jobs=-1, verbose=False)\n",
    "result_xgb2 = grid_search.fit(X_train_imp_1_scaled, y_train_imp_1)\n",
    "\n",
    "print('XGB Best Score: ', result_xgb2.best_score_)\n",
    "print('XGB Best Params: ', result_xgb2.best_params_)"
   ]
  },
  {
   "cell_type": "code",
   "execution_count": 116,
   "metadata": {},
   "outputs": [],
   "source": [
    "# Predictions\n",
    "bst_xgb_model_imp_1_pred = result_xgb2.best_estimator_.predict(X_test_imp_1_scaled)"
   ]
  },
  {
   "cell_type": "code",
   "execution_count": 117,
   "metadata": {},
   "outputs": [],
   "source": [
    "bst_mae_xgb_imp_1 = mean_absolute_error(y_test_imp_1, bst_xgb_model_imp_1_pred)\n",
    "bst_rmse_xgb_imp_1 = np.sqrt(mean_squared_error(y_test_imp_1, bst_xgb_model_imp_1_pred))"
   ]
  },
  {
   "cell_type": "code",
   "execution_count": 118,
   "metadata": {},
   "outputs": [
    {
     "name": "stdout",
     "output_type": "stream",
     "text": [
      "Best MAE XGB IMP1:  20.273258173589753\n",
      "Best RMSE XGB IMP1:  26.133764537272683\n"
     ]
    }
   ],
   "source": [
    "print(\"Best MAE XGB IMP1: \", bst_mae_xgb_imp_1)\n",
    "print(\"Best RMSE XGB IMP1: \", bst_rmse_xgb_imp_1)"
   ]
  },
  {
   "cell_type": "markdown",
   "metadata": {},
   "source": [
    "#### RandomForest\n",
    "#### RandomForest (on_demand=0)"
   ]
  },
  {
   "cell_type": "code",
   "execution_count": 119,
   "metadata": {},
   "outputs": [],
   "source": [
    "rf_model_imp_0 = RandomForestRegressor()\n",
    "rf_model_imp_0.fit(X_train_imp_0_scaled, y_train_imp_0)\n",
    "\n",
    "rf_model_imp_0_pred = rf_model_imp_0.predict(X_test_imp_0_scaled)"
   ]
  },
  {
   "cell_type": "code",
   "execution_count": 120,
   "metadata": {},
   "outputs": [],
   "source": [
    "mae_rf_imp_0 = mean_absolute_error(y_test_imp_0, rf_model_imp_0_pred)\n",
    "rmse_rf_imp_0 = np.sqrt(mean_squared_error(y_test_imp_0, rf_model_imp_0_pred))"
   ]
  },
  {
   "cell_type": "code",
   "execution_count": 121,
   "metadata": {},
   "outputs": [
    {
     "name": "stdout",
     "output_type": "stream",
     "text": [
      "MAE RF IMP0:  17.352098914318162\n",
      "RMSE RF IMP0:  24.448494892147274\n"
     ]
    }
   ],
   "source": [
    "print(\"MAE RF IMP0: \", mae_rf_imp_0)\n",
    "print(\"RMSE RF IMP0: \", rmse_rf_imp_0)"
   ]
  },
  {
   "cell_type": "markdown",
   "metadata": {},
   "source": [
    "Ajustando Hiperparametros"
   ]
  },
  {
   "cell_type": "code",
   "execution_count": 122,
   "metadata": {},
   "outputs": [],
   "source": [
    "#Listas para guardar los valores temporales\n",
    "tmp_oob_none, tmp_oob_sqrt, tmp_oob_log2 = [], [], []\n",
    "n_estimators = range(5, 1000, 20)"
   ]
  },
  {
   "cell_type": "code",
   "execution_count": 123,
   "metadata": {},
   "outputs": [],
   "source": [
    "#Evaluación de los n_estimators\n",
    "for i in n_estimators:\n",
    "    #Implementamos una variante con todos los atributos\n",
    "    rf_none = RandomForestRegressor(n_estimators=i, max_features=None,\n",
    "                                     oob_score=True,\n",
    "                                     random_state=123).fit(X_train_imp_0_scaled, y_train_imp_0)\n",
    "    \n",
    "    #Implementamos una variante donde los atributos se escogen con sqrt\n",
    "    rf_sqrt = RandomForestRegressor(n_estimators=i, max_features='sqrt',\n",
    "                                     warm_start=True,\n",
    "                                     oob_score=True,\n",
    "                                     random_state=123).fit(X_train_imp_0_scaled, y_train_imp_0)\n",
    "    \n",
    "    #Implementamos una variante donde los atributos se escogen con log2\n",
    "    rf_log = RandomForestRegressor(n_estimators=i, max_features='log2',\n",
    "                                    warm_start=True,\n",
    "                                    oob_score=True,\n",
    "                                   random_state=123).fit(X_train_imp_0_scaled, y_train_imp_0)\n",
    "    \n",
    "    tmp_oob_none.append(1 - rf_none.oob_score)\n",
    "    tmp_oob_sqrt.append(1 - rf_sqrt.oob_score)\n",
    "    tmp_oob_log2.append(1 - rf_log.oob_score)"
   ]
  },
  {
   "cell_type": "code",
   "execution_count": 124,
   "metadata": {},
   "outputs": [
    {
     "data": {
      "image/png": "[encoded data removed]",
      "text/plain": [
       "<Figure size 720x432 with 3 Axes>"
      ]
     },
     "metadata": {},
     "output_type": "display_data"
    }
   ],
   "source": [
    "#Graficamos el comportamiento de cada variable\n",
    "fig, axs = plt.subplots(1, 3, figsize=(10, 6), sharex=True, sharey=True)\n",
    "\n",
    "ax1 = axs[0]\n",
    "ax1.plot(tmp_oob_none, '.-', color='slategrey', label='OOB None')\n",
    "ax1.set_title(\"None\")\n",
    "\n",
    "ax2 = axs[1]\n",
    "ax2.plot(tmp_oob_sqrt, \".-\", color='slategrey', label='OOB sqrt')\n",
    "ax2.set_title(\"sqrt\")\n",
    "\n",
    "ax3 = axs[2]\n",
    "ax3.plot(tmp_oob_log2, \".-\", color='slategrey', label=\"OOB log2\")\n",
    "ax3.set_title(\"log2\")\n",
    "\n",
    "fig.suptitle(\"Comportamiento de cada variable para el error\");"
   ]
  },
  {
   "cell_type": "code",
   "execution_count": 125,
   "metadata": {},
   "outputs": [],
   "source": [
    "rf_model2_imp_0 = RandomForestRegressor(max_features='log2',n_estimators=5, n_jobs=-1, random_state=5, verbose=False)\n",
    "rf_model2_imp_0.fit(X_train_imp_0_scaled, y_train_imp_0)\n",
    "\n",
    "# Predictions\n",
    "rf_model2_imp_0_pred = rf_model2_imp_0.predict(X_test_imp_0_scaled)"
   ]
  },
  {
   "cell_type": "code",
   "execution_count": 126,
   "metadata": {},
   "outputs": [],
   "source": [
    "mae_rf2_imp_0 = mean_absolute_error(y_test_imp_0, rf_model2_imp_0_pred)\n",
    "rmse_rf2_imp_0 = np.sqrt(mean_squared_error(y_test_imp_0, rf_model2_imp_0_pred))"
   ]
  },
  {
   "cell_type": "code",
   "execution_count": 127,
   "metadata": {},
   "outputs": [
    {
     "name": "stdout",
     "output_type": "stream",
     "text": [
      "MAE RF2 IMP0:  19.866935090013765\n",
      "RMSE RF2 IMP0:  26.98612620218555\n"
     ]
    }
   ],
   "source": [
    "print(\"MAE RF2 IMP0: \", mae_rf2_imp_0)\n",
    "print(\"RMSE RF2 IMP0: \", rmse_rf2_imp_0)"
   ]
  },
  {
   "cell_type": "markdown",
   "metadata": {},
   "source": [
    "#### RandomForest (on_demand=1)"
   ]
  },
  {
   "cell_type": "code",
   "execution_count": 128,
   "metadata": {},
   "outputs": [],
   "source": [
    "rf_model_imp_1 = RandomForestRegressor()\n",
    "rf_model_imp_1.fit(X_train_imp_1_scaled, y_train_imp_1)\n",
    "\n",
    "# Predictions\n",
    "rf_model_imp_1_pred = rf_model_imp_1.predict(X_test_imp_1_scaled)"
   ]
  },
  {
   "cell_type": "code",
   "execution_count": 129,
   "metadata": {},
   "outputs": [],
   "source": [
    "mae_rf_imp_1 = mean_absolute_error(y_test_imp_1, rf_model_imp_1_pred)\n",
    "rmse_rf_imp_1 = np.sqrt(mean_squared_error(y_test_imp_1, rf_model_imp_1_pred))"
   ]
  },
  {
   "cell_type": "code",
   "execution_count": 130,
   "metadata": {},
   "outputs": [
    {
     "name": "stdout",
     "output_type": "stream",
     "text": [
      "MAE RF IMP1:  21.119577763759175\n",
      "RMSE RF IMP1:  26.835458278634537\n"
     ]
    }
   ],
   "source": [
    "print(\"MAE RF IMP1: \", mae_rf_imp_1)\n",
    "print(\"RMSE RF IMP1: \", rmse_rf_imp_1)"
   ]
  },
  {
   "cell_type": "markdown",
   "metadata": {},
   "source": [
    "Ajustando Hiperparametros"
   ]
  },
  {
   "cell_type": "code",
   "execution_count": 131,
   "metadata": {},
   "outputs": [],
   "source": [
    "rf_model2_imp_1 = RandomForestRegressor(max_features='log2',n_estimators=5, n_jobs=-1, random_state=5, verbose=False)\n",
    "rf_model2_imp_1.fit(X_train_imp_1_scaled, y_train_imp_1)\n",
    "\n",
    "rf_model2_imp_1_pred = rf_model2_imp_1.predict(X_test_imp_1_scaled)"
   ]
  },
  {
   "cell_type": "code",
   "execution_count": 132,
   "metadata": {},
   "outputs": [],
   "source": [
    "mae_rf2_imp_1 = mean_absolute_error(y_test_imp_1, rf_model2_imp_1_pred)\n",
    "rmse_rf2_imp_1 = np.sqrt(mean_squared_error(y_test_imp_1, rf_model2_imp_1_pred))"
   ]
  },
  {
   "cell_type": "code",
   "execution_count": 133,
   "metadata": {},
   "outputs": [
    {
     "name": "stdout",
     "output_type": "stream",
     "text": [
      "MAE RF2 IMP1:  22.643938284270956\n",
      "RMSE RF2 IMP1:  29.209518992735596\n"
     ]
    }
   ],
   "source": [
    "print(\"MAE RF2 IMP1: \", mae_rf2_imp_1)\n",
    "print(\"RMSE RF2 IMP1: \", rmse_rf2_imp_1)"
   ]
  },
  {
   "cell_type": "markdown",
   "metadata": {},
   "source": [
    "#### SVR\n",
    "#### SVR (on_demand=0)"
   ]
  },
  {
   "cell_type": "code",
   "execution_count": 134,
   "metadata": {},
   "outputs": [],
   "source": [
    "svr_model_imp_0 = SVR()\n",
    "svr_model_imp_0.fit(X_train_imp_0_scaled, y_train_imp_0)\n",
    "\n",
    "# Predictions\n",
    "svr_model_imp_0_pred = svr_model_imp_0.predict(X_test_imp_0_scaled)"
   ]
  },
  {
   "cell_type": "code",
   "execution_count": 135,
   "metadata": {},
   "outputs": [],
   "source": [
    "mae_svr_imp_0 = mean_absolute_error(y_test_imp_0, svr_model_imp_0_pred)\n",
    "rmse_svr_imp_0 = np.sqrt(mean_squared_error(y_test_imp_0, svr_model_imp_0_pred))"
   ]
  },
  {
   "cell_type": "code",
   "execution_count": 136,
   "metadata": {},
   "outputs": [
    {
     "name": "stdout",
     "output_type": "stream",
     "text": [
      "MAE SVR IMP0:  17.98283179808305\n",
      "RMSE SVR IMP0:  26.367266325276077\n"
     ]
    }
   ],
   "source": [
    "print(\"MAE SVR IMP0: \", mae_svr_imp_0)\n",
    "print(\"RMSE SVR IMP0: \", rmse_svr_imp_0)"
   ]
  },
  {
   "cell_type": "markdown",
   "metadata": {},
   "source": [
    "Ajustando Hiperparámetros"
   ]
  },
  {
   "cell_type": "code",
   "execution_count": 137,
   "metadata": {},
   "outputs": [
    {
     "name": "stdout",
     "output_type": "stream",
     "text": [
      "SVR Best Score:  0.26630186423959923\n",
      "SVR Best Params:  {'C': 100, 'gamma': 0.01}\n"
     ]
    }
   ],
   "source": [
    "C = [0.0001, 0.001, 0.01, 0.1, 1, 10, 100, 1000]\n",
    "gamma = [0.0000001, 0.0001, 0.001, 0.01, 0.1, 1, 10]\n",
    "param_grid = dict(C=C, gamma=gamma)\n",
    "grid_search_svr = GridSearchCV(SVR(), param_grid=param_grid, cv=5, n_jobs=-1, verbose=False)\n",
    "result_svr = grid_search_svr.fit(X_train_imp_0_scaled, y_train_imp_0)\n",
    "\n",
    "print('SVR Best Score: ', result_svr.best_score_)\n",
    "print('SVR Best Params: ', result_svr.best_params_)"
   ]
  },
  {
   "cell_type": "code",
   "execution_count": 138,
   "metadata": {},
   "outputs": [],
   "source": [
    "# Predictions\n",
    "bst_svr_model_imp_0_pred = result_svr.best_estimator_.predict(X_test_imp_0_scaled)"
   ]
  },
  {
   "cell_type": "code",
   "execution_count": 139,
   "metadata": {},
   "outputs": [],
   "source": [
    "bst_mae_svr_imp_0 = mean_absolute_error(y_test_imp_0, bst_svr_model_imp_0_pred)\n",
    "bst_rmse_svr_imp_0 = np.sqrt(mean_squared_error(y_test_imp_0, bst_svr_model_imp_0_pred))"
   ]
  },
  {
   "cell_type": "code",
   "execution_count": 140,
   "metadata": {},
   "outputs": [
    {
     "name": "stdout",
     "output_type": "stream",
     "text": [
      "BEST MAE SVR IMP0:  16.79983061767892\n",
      "BEST RMSE SVR IMP0:  25.162645351538018\n"
     ]
    }
   ],
   "source": [
    "print(\"BEST MAE SVR IMP0: \", bst_mae_svr_imp_0)\n",
    "print(\"BEST RMSE SVR IMP0: \", bst_rmse_svr_imp_0)"
   ]
  },
  {
   "cell_type": "markdown",
   "metadata": {},
   "source": [
    "#### SVR (on_demand=1)"
   ]
  },
  {
   "cell_type": "code",
   "execution_count": 141,
   "metadata": {},
   "outputs": [],
   "source": [
    "svr_model_imp_1 = SVR()\n",
    "svr_model_imp_1.fit(X_train_imp_1_scaled, y_train_imp_1)\n",
    "\n",
    "# Predictions\n",
    "svr_model_imp_1_pred = svr_model_imp_1.predict(X_test_imp_1_scaled)"
   ]
  },
  {
   "cell_type": "code",
   "execution_count": 142,
   "metadata": {},
   "outputs": [],
   "source": [
    "mae_svr_imp_1 = mean_absolute_error(y_test_imp_1, svr_model_imp_1_pred)\n",
    "rmse_svr_imp_1 = np.sqrt(mean_squared_error(y_test_imp_1, svr_model_imp_1_pred))"
   ]
  },
  {
   "cell_type": "code",
   "execution_count": 143,
   "metadata": {},
   "outputs": [
    {
     "name": "stdout",
     "output_type": "stream",
     "text": [
      "MAE SVR IMP1:  21.710517002863813\n",
      "RMSE SVR IMP1:  28.872473551119278\n"
     ]
    }
   ],
   "source": [
    "print(\"MAE SVR IMP1: \", mae_svr_imp_1)\n",
    "print(\"RMSE SVR IMP1: \", rmse_svr_imp_1)"
   ]
  },
  {
   "cell_type": "markdown",
   "metadata": {},
   "source": [
    "Ajusto Hiperparámetros"
   ]
  },
  {
   "cell_type": "code",
   "execution_count": 144,
   "metadata": {},
   "outputs": [
    {
     "name": "stdout",
     "output_type": "stream",
     "text": [
      "SVR Best Score:  0.43200593672235127\n",
      "SVR Best Params:  {'C': 1000, 'gamma': 0.01}\n"
     ]
    }
   ],
   "source": [
    "C = [0.0001, 0.001, 0.01, 0.1, 1, 10, 100, 1000]\n",
    "gamma = [0.0000001, 0.0001, 0.001, 0.01, 0.1, 1, 10]\n",
    "param_grid = dict(C=C, gamma=gamma)\n",
    "grid_search_svr2 = GridSearchCV(SVR(), param_grid=param_grid, cv=5, n_jobs=-1, verbose=False)\n",
    "result_svr2 = grid_search_svr2.fit(X_train_imp_1_scaled, y_train_imp_1)\n",
    "\n",
    "print('SVR Best Score: ', result_svr2.best_score_)\n",
    "print('SVR Best Params: ', result_svr2.best_params_)"
   ]
  },
  {
   "cell_type": "code",
   "execution_count": 145,
   "metadata": {},
   "outputs": [],
   "source": [
    "# Predictions\n",
    "bst_svr_model_imp_1_pred = result_svr2.best_estimator_.predict(X_test_imp_1_scaled)"
   ]
  },
  {
   "cell_type": "code",
   "execution_count": 146,
   "metadata": {},
   "outputs": [],
   "source": [
    "bst_mae_svr_imp_1 = mean_absolute_error(y_test_imp_1, bst_svr_model_imp_1_pred)\n",
    "bst_rmse_svr_imp_1 = np.sqrt(mean_squared_error(y_test_imp_1, bst_svr_model_imp_1_pred))"
   ]
  },
  {
   "cell_type": "code",
   "execution_count": 147,
   "metadata": {},
   "outputs": [
    {
     "name": "stdout",
     "output_type": "stream",
     "text": [
      "BEST MAE SVR IMP1:  20.69473319035351\n",
      "BEST RMSE SVR IMP1:  27.44632179338217\n"
     ]
    }
   ],
   "source": [
    "print(\"BEST MAE SVR IMP1: \", bst_mae_svr_imp_1)\n",
    "print(\"BEST RMSE SVR IMP1: \", bst_rmse_svr_imp_1)"
   ]
  },
  {
   "cell_type": "markdown",
   "metadata": {},
   "source": [
    "#### LinearGAM\n",
    "#### LinearGAM (on_demand=0)"
   ]
  },
  {
   "cell_type": "code",
   "execution_count": 148,
   "metadata": {},
   "outputs": [],
   "source": [
    "lgam_model_imp_0 = LinearGAM()\n",
    "lgam_model_imp_0.fit(X_train_imp_0_scaled, y_train_imp_0)\n",
    "\n",
    "# Predictions\n",
    "lgam_model_imp_0_pred = lgam_model_imp_0.predict(X_test_imp_0_scaled)"
   ]
  },
  {
   "cell_type": "code",
   "execution_count": 149,
   "metadata": {},
   "outputs": [],
   "source": [
    "mae_lgam_imp_0 = mean_absolute_error(y_test_imp_0, lgam_model_imp_0_pred)\n",
    "rmse_lgam_imp_0 = np.sqrt(mean_squared_error(y_test_imp_0, lgam_model_imp_0_pred))"
   ]
  },
  {
   "cell_type": "code",
   "execution_count": 150,
   "metadata": {},
   "outputs": [
    {
     "name": "stdout",
     "output_type": "stream",
     "text": [
      "MAE LGAM IMP0:  17.945388714266482\n",
      "RMSE LGAM IMP0:  26.37758312331905\n"
     ]
    }
   ],
   "source": [
    "print(\"MAE LGAM IMP0: \", mae_lgam_imp_0)\n",
    "print(\"RMSE LGAM IMP0: \", rmse_lgam_imp_0)"
   ]
  },
  {
   "cell_type": "markdown",
   "metadata": {},
   "source": [
    "Ajusto hiperparàmetros"
   ]
  },
  {
   "cell_type": "code",
   "execution_count": 151,
   "metadata": {},
   "outputs": [
    {
     "name": "stderr",
     "output_type": "stream",
     "text": [
      "100% (11 of 11) |########################| Elapsed Time: 0:00:07 Time:  0:00:07\n"
     ]
    }
   ],
   "source": [
    "# Rango del hiperparametro\n",
    "param_grids = {'lam': np.logspace(-3, 3, 11)}\n",
    "\n",
    "lgam_model2_imp_0 = LinearGAM().gridsearch(X_train_imp_0_scaled, y_train_imp_0, **param_grids)"
   ]
  },
  {
   "cell_type": "code",
   "execution_count": 152,
   "metadata": {},
   "outputs": [],
   "source": [
    "# Predictions\n",
    "lgam_model2_imp_0_pred = lgam_model2_imp_0.predict(X_test_imp_0_scaled)"
   ]
  },
  {
   "cell_type": "code",
   "execution_count": 153,
   "metadata": {},
   "outputs": [],
   "source": [
    "mae_lgam2_imp_0 = mean_absolute_error(y_test_imp_0, lgam_model2_imp_0_pred)\n",
    "rmse_lgam2_imp_0 = np.sqrt(mean_squared_error(y_test_imp_0, lgam_model2_imp_0_pred))"
   ]
  },
  {
   "cell_type": "code",
   "execution_count": 154,
   "metadata": {},
   "outputs": [
    {
     "name": "stdout",
     "output_type": "stream",
     "text": [
      "MAE LGAM2 IMP0:  17.579219206951784\n",
      "RMSE LGAM2 IMP0:  24.528165201885162\n"
     ]
    }
   ],
   "source": [
    "print(\"MAE LGAM2 IMP0: \", mae_lgam2_imp_0)\n",
    "print(\"RMSE LGAM2 IMP0: \", rmse_lgam2_imp_0)"
   ]
  },
  {
   "cell_type": "markdown",
   "metadata": {},
   "source": [
    "#### LinearGAM (on_demand=1)"
   ]
  },
  {
   "cell_type": "code",
   "execution_count": 155,
   "metadata": {},
   "outputs": [],
   "source": [
    "lgam_model_imp_1 = LinearGAM()\n",
    "lgam_model_imp_1.fit(X_train_imp_1_scaled, y_train_imp_1)\n",
    "\n",
    "# Predictions\n",
    "lgam_model_imp_1_pred = lgam_model_imp_1.predict(X_test_imp_1_scaled)"
   ]
  },
  {
   "cell_type": "code",
   "execution_count": 156,
   "metadata": {},
   "outputs": [],
   "source": [
    "mae_lgam_imp_1 = mean_absolute_error(y_test_imp_1, lgam_model_imp_1_pred)\n",
    "rmse_lgam_imp_1 = np.sqrt(mean_squared_error(y_test_imp_1, lgam_model_imp_1_pred))"
   ]
  },
  {
   "cell_type": "code",
   "execution_count": 157,
   "metadata": {},
   "outputs": [
    {
     "name": "stdout",
     "output_type": "stream",
     "text": [
      "MAE LGAM IMP1:  20.54134619071606\n",
      "RMSE LGAM IMP1:  26.388077720670445\n"
     ]
    }
   ],
   "source": [
    "print(\"MAE LGAM IMP1: \", mae_lgam_imp_1)\n",
    "print(\"RMSE LGAM IMP1: \", rmse_lgam_imp_1)"
   ]
  },
  {
   "cell_type": "markdown",
   "metadata": {},
   "source": [
    "Ajusto Hiperparámetros"
   ]
  },
  {
   "cell_type": "code",
   "execution_count": 158,
   "metadata": {},
   "outputs": [
    {
     "name": "stderr",
     "output_type": "stream",
     "text": [
      "100% (11 of 11) |########################| Elapsed Time: 0:00:08 Time:  0:00:08\n"
     ]
    }
   ],
   "source": [
    "# Rango del hiperparametro\n",
    "param_grids = {'lam': np.logspace(-3, 3, 11)}\n",
    "\n",
    "lgam_model2_imp_1 = LinearGAM().gridsearch(X_train_imp_1_scaled, y_train_imp_1, **param_grids)"
   ]
  },
  {
   "cell_type": "code",
   "execution_count": 159,
   "metadata": {},
   "outputs": [],
   "source": [
    "# Predictions\n",
    "lgam_model2_imp_1_pred = lgam_model2_imp_1.predict(X_test_imp_1_scaled)"
   ]
  },
  {
   "cell_type": "code",
   "execution_count": 160,
   "metadata": {},
   "outputs": [],
   "source": [
    "mae_lgam2_imp_1 = mean_absolute_error(y_test_imp_1, lgam_model2_imp_1_pred)\n",
    "rmse_lgam2_imp_1 = np.sqrt(mean_squared_error(y_test_imp_1, lgam_model2_imp_1_pred))"
   ]
  },
  {
   "cell_type": "code",
   "execution_count": 161,
   "metadata": {},
   "outputs": [
    {
     "name": "stdout",
     "output_type": "stream",
     "text": [
      "MAE LGAM2 IMP1:  20.58597947524234\n",
      "RMSE LGAM2 IMP1:  26.42804565553862\n"
     ]
    }
   ],
   "source": [
    "print(\"MAE LGAM2 IMP1: \", mae_lgam2_imp_1)\n",
    "print(\"RMSE LGAM2 IMP1: \", rmse_lgam2_imp_1)"
   ]
  },
  {
   "cell_type": "markdown",
   "metadata": {},
   "source": [
    "### Dataframe No Imputaed\n",
    "#### LinearRegression\n",
    "#### LinearRegression (on_demand=0)"
   ]
  },
  {
   "cell_type": "code",
   "execution_count": 162,
   "metadata": {},
   "outputs": [
    {
     "name": "stdout",
     "output_type": "stream",
     "text": [
      "MAE LR NO IMP0:  18.385414279081303\n",
      "RMSE LR NO IMP0:  25.85150884587999\n"
     ]
    }
   ],
   "source": [
    "lr_model_no_imp_0 = LinearRegression(fit_intercept=True, normalize=False)\n",
    "lr_model_no_imp_0.fit(X_train_no_imp_0_scaled, y_train_no_imp_0)\n",
    "\n",
    "# Predictions\n",
    "lr_model_no_imp_0_pred = lr_model_no_imp_0.predict(X_test_no_imp_0_scaled)\n",
    "\n",
    "mae_lr_no_imp_0 = mean_absolute_error(y_test_no_imp_0, lr_model_no_imp_0_pred)\n",
    "rmse_lr_no_imp_0 = np.sqrt(mean_squared_error(y_test_no_imp_0, lr_model_no_imp_0_pred))  \n",
    "\n",
    "print(\"MAE LR NO IMP0: \", mae_lr_no_imp_0)\n",
    "print(\"RMSE LR NO IMP0: \", rmse_lr_no_imp_0)"
   ]
  },
  {
   "cell_type": "markdown",
   "metadata": {},
   "source": [
    "#### LinearRegression (on_demand=1)"
   ]
  },
  {
   "cell_type": "code",
   "execution_count": 163,
   "metadata": {},
   "outputs": [
    {
     "name": "stdout",
     "output_type": "stream",
     "text": [
      "MAE LR NO IMP1:  21.316139615620806\n",
      "RMSE LR NO IMP1:  27.255742847107115\n"
     ]
    }
   ],
   "source": [
    "lr_model_no_imp_1 = LinearRegression(fit_intercept=True, normalize=False)\n",
    "lr_model_no_imp_1.fit(X_train_no_imp_1_scaled, y_train_no_imp_1)\n",
    "\n",
    "# Predictions\n",
    "lr_model_no_imp_1_pred = lr_model_no_imp_1.predict(X_test_no_imp_1_scaled)\n",
    "\n",
    "mae_lr_no_imp_1 = mean_absolute_error(y_test_no_imp_1, lr_model_no_imp_1_pred)\n",
    "rmse_lr_no_imp_1 = np.sqrt(mean_squared_error(y_test_no_imp_1, lr_model_no_imp_1_pred))\n",
    "\n",
    "print(\"MAE LR NO IMP1: \", mae_lr_no_imp_1)\n",
    "print(\"RMSE LR NO IMP1: \", rmse_lr_no_imp_1)"
   ]
  },
  {
   "cell_type": "markdown",
   "metadata": {},
   "source": [
    "#### XGBoostRegressor\n",
    "#### XGBoostRegressor (on_demand=0)"
   ]
  },
  {
   "cell_type": "code",
   "execution_count": 164,
   "metadata": {},
   "outputs": [
    {
     "name": "stdout",
     "output_type": "stream",
     "text": [
      "MAE XGB NO IMP0:  17.758915098119754\n",
      "RMSE XGB NO IMP0:  24.885509642289282\n"
     ]
    }
   ],
   "source": [
    "xgb_model_no_imp_0 = XGBRegressor()\n",
    "xgb_model_no_imp_0.fit(X_train_no_imp_0_scaled, y_train_no_imp_0)\n",
    "\n",
    "# Predictions\n",
    "xgb_model_no_imp_0_pred = xgb_model_no_imp_0.predict(X_test_no_imp_0_scaled)\n",
    "\n",
    "mae_xgb_no_imp_0 = mean_absolute_error(y_test_no_imp_0, xgb_model_no_imp_0_pred)\n",
    "rmse_xgb_no_imp_0 = np.sqrt(mean_squared_error(y_test_no_imp_0, xgb_model_no_imp_0_pred))\n",
    "\n",
    "print(\"MAE XGB NO IMP0: \", mae_xgb_no_imp_0)\n",
    "print(\"RMSE XGB NO IMP0: \", rmse_xgb_no_imp_0)"
   ]
  },
  {
   "cell_type": "markdown",
   "metadata": {},
   "source": [
    "Ajusto hiperparámetros"
   ]
  },
  {
   "cell_type": "code",
   "execution_count": 165,
   "metadata": {},
   "outputs": [
    {
     "name": "stdout",
     "output_type": "stream",
     "text": [
      "XGB Best Score:  0.3095910226487594\n",
      "XGB Best Params:  {'learning_rate': 0.1, 'max_depth': 2, 'n_estimators': 150, 'subsample': 0.6}\n"
     ]
    }
   ],
   "source": [
    "# Grid Search\n",
    "n_estimators = [50, 100, 150, 200, 500]\n",
    "max_depth = [2, 4, 6, 8]\n",
    "learning_rate = [0.0001, 0.001, 0.01, 0.1, 0.2, 0.3]\n",
    "subsample = [i/10.0 for i in range(6,11)]\n",
    "param_grid = dict(n_estimators=n_estimators, max_depth=max_depth, learning_rate=learning_rate, subsample=subsample)\n",
    "grid_search_no_imp0 = GridSearchCV(XGBRegressor(), param_grid=param_grid, cv=5, n_jobs=-1, verbose=False)\n",
    "result_xgb_no_imp_0 = grid_search_no_imp0.fit(X_train_no_imp_0_scaled, y_train_no_imp_0)\n",
    "\n",
    "print('XGB Best Score: ', result_xgb_no_imp_0.best_score_)\n",
    "print('XGB Best Params: ', result_xgb_no_imp_0.best_params_)"
   ]
  },
  {
   "cell_type": "code",
   "execution_count": 166,
   "metadata": {},
   "outputs": [
    {
     "name": "stdout",
     "output_type": "stream",
     "text": [
      "BEST MAE XGB NO IMP0:  17.649199301729947\n",
      "BEST RMSE XGB NO IMP0:  24.738424431877934\n"
     ]
    }
   ],
   "source": [
    "# Predictions\n",
    "bst_xgb_model_no_imp_0_pred = result_xgb_no_imp_0.best_estimator_.predict(X_test_no_imp_0_scaled)\n",
    "\n",
    "bst_mae_xgb_no_imp_0 = mean_absolute_error(y_test_no_imp_0, bst_xgb_model_no_imp_0_pred)\n",
    "bst_rmse_xgb_no_imp_0 = np.sqrt(mean_squared_error(y_test_no_imp_0, bst_xgb_model_no_imp_0_pred))\n",
    "\n",
    "print(\"BEST MAE XGB NO IMP0: \", bst_mae_xgb_no_imp_0)\n",
    "print(\"BEST RMSE XGB NO IMP0: \", bst_rmse_xgb_no_imp_0)"
   ]
  },
  {
   "cell_type": "markdown",
   "metadata": {},
   "source": [
    "#### XGBoostRegressor (on_demand=1)"
   ]
  },
  {
   "cell_type": "code",
   "execution_count": 167,
   "metadata": {},
   "outputs": [
    {
     "name": "stdout",
     "output_type": "stream",
     "text": [
      "MAE XGB NO IMP1:  19.645469775996908\n",
      "RMSE XGB NO IMP1:  25.089478725513768\n"
     ]
    }
   ],
   "source": [
    "xgb_model_no_imp_1 = XGBRegressor()\n",
    "xgb_model_no_imp_1.fit(X_train_no_imp_1_scaled, y_train_no_imp_1)\n",
    "\n",
    "# Predictions\n",
    "xgb_model_no_imp_1_pred = xgb_model_no_imp_1.predict(X_test_no_imp_1_scaled)\n",
    "\n",
    "mae_xgb_no_imp_1 = mean_absolute_error(y_test_no_imp_1, xgb_model_no_imp_1_pred)\n",
    "rmse_xgb_no_imp_1 = np.sqrt(mean_squared_error(y_test_no_imp_1, xgb_model_no_imp_1_pred))\n",
    "\n",
    "print(\"MAE XGB NO IMP1: \", mae_xgb_no_imp_1)\n",
    "print(\"RMSE XGB NO IMP1: \", rmse_xgb_no_imp_1)"
   ]
  },
  {
   "cell_type": "markdown",
   "metadata": {},
   "source": [
    "Ajusto Hiperparámetros"
   ]
  },
  {
   "cell_type": "code",
   "execution_count": 168,
   "metadata": {},
   "outputs": [
    {
     "name": "stdout",
     "output_type": "stream",
     "text": [
      "XGB Best Score:  0.47452238478580255\n",
      "XGB Best Params:  {'learning_rate': 0.01, 'max_depth': 6, 'n_estimators': 500, 'subsample': 0.6}\n"
     ]
    }
   ],
   "source": [
    "# Grid Search\n",
    "n_estimators = [50, 100, 150, 200, 500]\n",
    "max_depth = [2, 4, 6, 8]\n",
    "learning_rate = [0.0001, 0.001, 0.01, 0.1, 0.2, 0.3]\n",
    "subsample = [i/10.0 for i in range(6,11)]\n",
    "param_grid = dict(n_estimators=n_estimators, max_depth=max_depth, learning_rate=learning_rate, subsample=subsample)\n",
    "grid_search_no_imp1 = GridSearchCV(XGBRegressor(), param_grid=param_grid, cv=5, n_jobs=-1, verbose=False)\n",
    "result_xgb_no_imp_1 = grid_search_no_imp1.fit(X_train_no_imp_1_scaled, y_train_no_imp_1)\n",
    "\n",
    "print('XGB Best Score: ', result_xgb_no_imp_1.best_score_)\n",
    "print('XGB Best Params: ', result_xgb_no_imp_1.best_params_)"
   ]
  },
  {
   "cell_type": "code",
   "execution_count": 169,
   "metadata": {},
   "outputs": [
    {
     "name": "stdout",
     "output_type": "stream",
     "text": [
      "Best MAE XGB NO IMP1:  19.512933503698694\n",
      "Best RMSE XGB NO IMP1:  25.044401706308616\n"
     ]
    }
   ],
   "source": [
    "# Predictions\n",
    "bst_xgb_model_imp_1_pred = result_xgb_no_imp_1.best_estimator_.predict(X_test_no_imp_1_scaled)\n",
    "\n",
    "bst_mae_xgb_no_imp_1 = mean_absolute_error(y_test_no_imp_1, bst_xgb_model_imp_1_pred)\n",
    "bst_rmse_xgb_no_imp_1 = np.sqrt(mean_squared_error(y_test_no_imp_1, bst_xgb_model_imp_1_pred))\n",
    "\n",
    "print(\"Best MAE XGB NO IMP1: \", bst_mae_xgb_no_imp_1)\n",
    "print(\"Best RMSE XGB NO IMP1: \", bst_rmse_xgb_no_imp_1)"
   ]
  },
  {
   "cell_type": "markdown",
   "metadata": {},
   "source": [
    "#### RandomForest\n",
    "#### RandomForest (on_demand=0)"
   ]
  },
  {
   "cell_type": "code",
   "execution_count": 170,
   "metadata": {},
   "outputs": [
    {
     "name": "stdout",
     "output_type": "stream",
     "text": [
      "MAE RF NO IMP0:  18.560706477847344\n",
      "RMSE RF NO IMP0:  25.43725638270399\n"
     ]
    }
   ],
   "source": [
    "rf_model_no_imp_0 = RandomForestRegressor()\n",
    "rf_model_no_imp_0.fit(X_train_no_imp_0_scaled, y_train_no_imp_0)\n",
    "\n",
    "rf_model_no_imp_0_pred = rf_model_no_imp_0.predict(X_test_no_imp_0_scaled)\n",
    "\n",
    "mae_rf_no_imp_0 = mean_absolute_error(y_test_no_imp_0, rf_model_no_imp_0_pred)\n",
    "rmse_rf_no_imp_0 = np.sqrt(mean_squared_error(y_test_no_imp_0, rf_model_no_imp_0_pred))\n",
    "\n",
    "print(\"MAE RF NO IMP0: \", mae_rf_no_imp_0)\n",
    "print(\"RMSE RF NO IMP0: \", rmse_rf_no_imp_0)"
   ]
  },
  {
   "cell_type": "markdown",
   "metadata": {},
   "source": [
    "Ajusto Hiperparámetros"
   ]
  },
  {
   "cell_type": "code",
   "execution_count": 171,
   "metadata": {},
   "outputs": [
    {
     "name": "stdout",
     "output_type": "stream",
     "text": [
      "MAE RF2 NO IMP0:  20.217026421683208\n",
      "RMSE RF2 NO IMP0:  27.660101406843385\n"
     ]
    }
   ],
   "source": [
    "rf_model2_no_imp_0 = RandomForestRegressor(max_features='log2',n_estimators=5, n_jobs=-1, random_state=5, verbose=False)\n",
    "rf_model2_no_imp_0.fit(X_train_no_imp_0_scaled, y_train_no_imp_0)\n",
    "\n",
    "rf_model2_no_imp_0_pred = rf_model2_no_imp_0.predict(X_test_no_imp_0_scaled)\n",
    "mae_rf2_no_imp_0 = mean_absolute_error(y_test_no_imp_0, rf_model2_no_imp_0_pred)\n",
    "rmse_rf2_no_imp_0 = np.sqrt(mean_squared_error(y_test_no_imp_0, rf_model2_no_imp_0_pred))\n",
    "\n",
    "print(\"MAE RF2 NO IMP0: \", mae_rf2_no_imp_0)\n",
    "print(\"RMSE RF2 NO IMP0: \", rmse_rf2_no_imp_0)"
   ]
  },
  {
   "cell_type": "markdown",
   "metadata": {},
   "source": [
    "#### RandomForest (on_demand=1)"
   ]
  },
  {
   "cell_type": "code",
   "execution_count": 172,
   "metadata": {},
   "outputs": [
    {
     "name": "stdout",
     "output_type": "stream",
     "text": [
      "MAE RF NO IMP1:  20.439023537116576\n",
      "RMSE RF NO IMP1:  25.904194488791944\n"
     ]
    }
   ],
   "source": [
    "rf_model_no_imp_1 = RandomForestRegressor()\n",
    "rf_model_no_imp_1.fit(X_train_no_imp_1_scaled, y_train_no_imp_1)\n",
    "\n",
    "# Predictions\n",
    "rf_model_no_imp_1_pred = rf_model_no_imp_1.predict(X_test_no_imp_1_scaled)\n",
    "\n",
    "mae_rf_no_imp_1 = mean_absolute_error(y_test_no_imp_1, rf_model_no_imp_1_pred)\n",
    "rmse_rf_no_imp_1 = np.sqrt(mean_squared_error(y_test_no_imp_1, rf_model_no_imp_1_pred))\n",
    "\n",
    "print(\"MAE RF NO IMP1: \", mae_rf_no_imp_1)\n",
    "print(\"RMSE RF NO IMP1: \", rmse_rf_no_imp_1)"
   ]
  },
  {
   "cell_type": "markdown",
   "metadata": {},
   "source": [
    "Ajusto Hiperparámetros"
   ]
  },
  {
   "cell_type": "code",
   "execution_count": 173,
   "metadata": {},
   "outputs": [
    {
     "name": "stdout",
     "output_type": "stream",
     "text": [
      "MAE RF2 NO IMP1:  22.516885368700887\n",
      "RMSE RF2 NO IMP1:  28.78708185728768\n"
     ]
    }
   ],
   "source": [
    "rf_model2_no_imp_1 = RandomForestRegressor(max_features='log2',n_estimators=5, n_jobs=-1, random_state=5, verbose=False)\n",
    "rf_model2_no_imp_1.fit(X_train_no_imp_1_scaled, y_train_no_imp_1)\n",
    "\n",
    "rf_model2_no_imp_1_pred = rf_model2_no_imp_1.predict(X_test_no_imp_1_scaled)\n",
    "\n",
    "mae_rf2_no_imp_1 = mean_absolute_error(y_test_no_imp_1, rf_model2_no_imp_1_pred)\n",
    "rmse_rf2_no_imp_1 = np.sqrt(mean_squared_error(y_test_no_imp_1, rf_model2_no_imp_1_pred))\n",
    "\n",
    "print(\"MAE RF2 NO IMP1: \", mae_rf2_no_imp_1)\n",
    "print(\"RMSE RF2 NO IMP1: \", rmse_rf2_no_imp_1)"
   ]
  },
  {
   "cell_type": "markdown",
   "metadata": {},
   "source": [
    "#### SVR\n",
    "#### SVR (on_demand=0)"
   ]
  },
  {
   "cell_type": "code",
   "execution_count": 174,
   "metadata": {},
   "outputs": [
    {
     "name": "stdout",
     "output_type": "stream",
     "text": [
      "MAE SVR NO IMP0:  18.476299852535995\n",
      "RMSE SVR NO IMP0:  26.950034049478074\n"
     ]
    }
   ],
   "source": [
    "svr_model_no_imp_0 = SVR()\n",
    "svr_model_no_imp_0.fit(X_train_no_imp_0_scaled, y_train_no_imp_0)\n",
    "\n",
    "# Predictions\n",
    "svr_model_no_imp_0_pred = svr_model_no_imp_0.predict(X_test_no_imp_0_scaled)\n",
    "\n",
    "mae_svr_no_imp_0 = mean_absolute_error(y_test_no_imp_0, svr_model_no_imp_0_pred)\n",
    "rmse_svr_no_imp_0 = np.sqrt(mean_squared_error(y_test_no_imp_0, svr_model_no_imp_0_pred))\n",
    "\n",
    "print(\"MAE SVR NO IMP0: \", mae_svr_no_imp_0)\n",
    "print(\"RMSE SVR NO IMP0: \", rmse_svr_no_imp_0)"
   ]
  },
  {
   "cell_type": "markdown",
   "metadata": {},
   "source": [
    "Ajusto Hiperparámetros"
   ]
  },
  {
   "cell_type": "code",
   "execution_count": 175,
   "metadata": {},
   "outputs": [
    {
     "name": "stdout",
     "output_type": "stream",
     "text": [
      "SVR Best Score:  0.27346418825605384\n",
      "SVR Best Params:  {'C': 100, 'gamma': 0.01}\n"
     ]
    }
   ],
   "source": [
    "C = [0.0001, 0.001, 0.01, 0.1, 1, 10, 100, 1000]\n",
    "gamma = [0.0000001, 0.0001, 0.001, 0.01, 0.1, 1, 10]\n",
    "param_grid = dict(C=C, gamma=gamma)\n",
    "grid_search_svr_no_imp0 = GridSearchCV(SVR(), param_grid=param_grid, cv=5, n_jobs=-1, verbose=False)\n",
    "result_svr_no_imp_0 = grid_search_svr_no_imp0.fit(X_train_no_imp_0_scaled, y_train_no_imp_0)\n",
    "\n",
    "print('SVR Best Score: ', result_svr_no_imp_0.best_score_)\n",
    "print('SVR Best Params: ', result_svr_no_imp_0.best_params_)"
   ]
  },
  {
   "cell_type": "code",
   "execution_count": 176,
   "metadata": {},
   "outputs": [
    {
     "name": "stdout",
     "output_type": "stream",
     "text": [
      "BEST MAE SVR NO IMP0:  17.75310701620005\n",
      "BEST RMSE SVR NO IMP0:  25.955109597592685\n"
     ]
    }
   ],
   "source": [
    "# Predictions\n",
    "bst_svr_model_no_imp_0_pred = result_svr_no_imp_0.best_estimator_.predict(X_test_no_imp_0_scaled)\n",
    "\n",
    "bst_mae_svr_no_imp_0 = mean_absolute_error(y_test_no_imp_0, bst_svr_model_no_imp_0_pred)\n",
    "bst_rmse_svr_no_imp_0 = np.sqrt(mean_squared_error(y_test_no_imp_0, bst_svr_model_no_imp_0_pred))\n",
    "\n",
    "print(\"BEST MAE SVR NO IMP0: \", bst_mae_svr_no_imp_0)\n",
    "print(\"BEST RMSE SVR NO IMP0: \", bst_rmse_svr_no_imp_0)"
   ]
  },
  {
   "cell_type": "markdown",
   "metadata": {},
   "source": [
    "#### SVR (on_demand=1)"
   ]
  },
  {
   "cell_type": "code",
   "execution_count": 177,
   "metadata": {},
   "outputs": [
    {
     "name": "stdout",
     "output_type": "stream",
     "text": [
      "MAE SVR NO IMP1:  21.534144286482352\n",
      "RMSE SVR NO IMP1:  28.199979332818472\n"
     ]
    }
   ],
   "source": [
    "svr_model_no_imp_1 = SVR()\n",
    "svr_model_no_imp_1.fit(X_train_no_imp_1_scaled, y_train_no_imp_1)\n",
    "\n",
    "# Predictions\n",
    "svr_model_no_imp_1_pred = svr_model_no_imp_1.predict(X_test_no_imp_1_scaled)\n",
    "\n",
    "mae_svr_no_imp_1 = mean_absolute_error(y_test_no_imp_1, svr_model_no_imp_1_pred)\n",
    "rmse_svr_no_imp_1 = np.sqrt(mean_squared_error(y_test_no_imp_1, svr_model_no_imp_1_pred))\n",
    "\n",
    "print(\"MAE SVR NO IMP1: \", mae_svr_no_imp_1)\n",
    "print(\"RMSE SVR NO IMP1: \", rmse_svr_no_imp_1)"
   ]
  },
  {
   "cell_type": "markdown",
   "metadata": {},
   "source": [
    "Ajusto Hiperparaámetros"
   ]
  },
  {
   "cell_type": "code",
   "execution_count": 178,
   "metadata": {},
   "outputs": [
    {
     "name": "stdout",
     "output_type": "stream",
     "text": [
      "SVR Best Score:  0.4223947586447192\n",
      "SVR Best Params:  {'C': 100, 'gamma': 0.01}\n"
     ]
    }
   ],
   "source": [
    "# Hiper\n",
    "C = [0.0001, 0.001, 0.01, 0.1, 1, 10, 100, 1000]\n",
    "gamma = [0.0000001, 0.0001, 0.001, 0.01, 0.1, 1, 10]\n",
    "param_grid = dict(C=C, gamma=gamma)\n",
    "grid_search_svr_no_imp1 = GridSearchCV(SVR(), param_grid=param_grid, cv=5, n_jobs=-1, verbose=False)\n",
    "result_svr_no_imp1 = grid_search_svr_no_imp1.fit(X_train_no_imp_1_scaled, y_train_no_imp_1)\n",
    "\n",
    "print('SVR Best Score: ', result_svr_no_imp1.best_score_)\n",
    "print('SVR Best Params: ', result_svr_no_imp1.best_params_)\n"
   ]
  },
  {
   "cell_type": "code",
   "execution_count": 179,
   "metadata": {},
   "outputs": [
    {
     "name": "stdout",
     "output_type": "stream",
     "text": [
      "BEST MAE SVR NO IMP1:  20.05805381105003\n",
      "BEST RMSE SVR NO IMP1:  26.25603049699747\n"
     ]
    }
   ],
   "source": [
    "# Predictions\n",
    "bst_svr_model_no_imp_1_pred = result_svr_no_imp1.best_estimator_.predict(X_test_no_imp_1_scaled)\n",
    "\n",
    "bst_mae_svr_no_imp_1 = mean_absolute_error(y_test_no_imp_1, bst_svr_model_no_imp_1_pred)\n",
    "bst_rmse_svr_no_imp_1 = np.sqrt(mean_squared_error(y_test_no_imp_1, bst_svr_model_no_imp_1_pred))\n",
    "\n",
    "print(\"BEST MAE SVR NO IMP1: \", bst_mae_svr_no_imp_1)\n",
    "print(\"BEST RMSE SVR NO IMP1: \", bst_rmse_svr_no_imp_1)"
   ]
  },
  {
   "cell_type": "markdown",
   "metadata": {},
   "source": [
    "#### LinearGAM\n",
    "#### LinearGAM (on_demand=0)"
   ]
  },
  {
   "cell_type": "code",
   "execution_count": 180,
   "metadata": {},
   "outputs": [
    {
     "name": "stdout",
     "output_type": "stream",
     "text": [
      "MAE LGAM NO IMP0:  18.259205226849147\n",
      "RMSE LGAM NO IMP0:  26.028063217058893\n"
     ]
    }
   ],
   "source": [
    "lgam_model_no_imp_0 = LinearGAM()\n",
    "lgam_model_no_imp_0.fit(X_train_no_imp_0_scaled, y_train_no_imp_0)\n",
    "\n",
    "# Predictions\n",
    "lgam_model_no_imp_0_pred = lgam_model_no_imp_0.predict(X_test_no_imp_0_scaled)\n",
    "\n",
    "mae_lgam_no_imp_0 = mean_absolute_error(y_test_no_imp_0, lgam_model_no_imp_0_pred)\n",
    "rmse_lgam_no_imp_0 = np.sqrt(mean_squared_error(y_test_no_imp_0, lgam_model_no_imp_0_pred))\n",
    "\n",
    "print(\"MAE LGAM NO IMP0: \", mae_lgam_no_imp_0)\n",
    "print(\"RMSE LGAM NO IMP0: \", rmse_lgam_no_imp_0)"
   ]
  },
  {
   "cell_type": "code",
   "execution_count": 181,
   "metadata": {},
   "outputs": [
    {
     "name": "stderr",
     "output_type": "stream",
     "text": [
      "100% (11 of 11) |########################| Elapsed Time: 0:00:07 Time:  0:00:07\n"
     ]
    },
    {
     "name": "stdout",
     "output_type": "stream",
     "text": [
      "MAE LGAM2 NO IMP0:  18.079218025655262\n",
      "RMSE LGAM2 NO IMP0:  25.366362288973527\n"
     ]
    }
   ],
   "source": [
    "# Rango del hiperparametro\n",
    "param_grids = {'lam': np.logspace(-3, 3, 11)}\n",
    "\n",
    "lgam_model2_no_imp_0 = LinearGAM().gridsearch(X_train_no_imp_0_scaled, y_train_no_imp_0, **param_grids)\n",
    "\n",
    "# Predictions\n",
    "lgam_model2_no_imp_0_pred = lgam_model2_no_imp_0.predict(X_test_no_imp_0_scaled)\n",
    "\n",
    "mae_lgam2_no_imp_0 = mean_absolute_error(y_test_no_imp_0, lgam_model2_no_imp_0_pred)\n",
    "rmse_lgam2_no_imp_0 = np.sqrt(mean_squared_error(y_test_no_imp_0, lgam_model2_no_imp_0_pred))\n",
    "\n",
    "print(\"MAE LGAM2 NO IMP0: \", mae_lgam2_no_imp_0)\n",
    "print(\"RMSE LGAM2 NO IMP0: \", rmse_lgam2_no_imp_0)"
   ]
  },
  {
   "cell_type": "markdown",
   "metadata": {},
   "source": [
    "#### LinearGAM (on_demand=1)"
   ]
  },
  {
   "cell_type": "code",
   "execution_count": 182,
   "metadata": {},
   "outputs": [
    {
     "name": "stdout",
     "output_type": "stream",
     "text": [
      "MAE LGAM NO IMP1:  19.70993737124305\n",
      "RMSE LGAM NO IMP1:  25.3813661243385\n"
     ]
    }
   ],
   "source": [
    "lgam_model_no_imp_1 = LinearGAM()\n",
    "lgam_model_no_imp_1.fit(X_train_no_imp_1_scaled, y_train_no_imp_1)\n",
    "\n",
    "# Predictions\n",
    "lgam_model_no_imp_1_pred = lgam_model_no_imp_1.predict(X_test_no_imp_1_scaled)\n",
    "\n",
    "mae_lgam_no_imp_1 = mean_absolute_error(y_test_no_imp_1, lgam_model_no_imp_1_pred)\n",
    "rmse_lgam_no_imp_1 = np.sqrt(mean_squared_error(y_test_no_imp_1, lgam_model_no_imp_1_pred))\n",
    "\n",
    "print(\"MAE LGAM NO IMP1: \", mae_lgam_no_imp_1)\n",
    "print(\"RMSE LGAM NO IMP1: \", rmse_lgam_no_imp_1)"
   ]
  },
  {
   "cell_type": "code",
   "execution_count": 183,
   "metadata": {},
   "outputs": [
    {
     "name": "stderr",
     "output_type": "stream",
     "text": [
      "100% (11 of 11) |########################| Elapsed Time: 0:00:08 Time:  0:00:08\n"
     ]
    },
    {
     "name": "stdout",
     "output_type": "stream",
     "text": [
      "MAE LGAM2 NO IMP1:  19.700224323063008\n",
      "RMSE LGAM2 NO IMP1:  25.297353543609418\n"
     ]
    }
   ],
   "source": [
    "# Rango del hiperparametro\n",
    "param_grids = {'lam': np.logspace(-3, 3, 11)}\n",
    "\n",
    "lgam_model2_no_imp_1 = LinearGAM().gridsearch(X_train_no_imp_1_scaled, y_train_no_imp_1, **param_grids)\n",
    "\n",
    "# Predictions\n",
    "lgam_model2_no_imp_1_pred = lgam_model2_no_imp_1.predict(X_test_no_imp_1_scaled)\n",
    "\n",
    "mae_lgam2_no_imp_1 = mean_absolute_error(y_test_no_imp_1, lgam_model2_no_imp_1_pred)\n",
    "rmse_lgam2_no_imp_1 = np.sqrt(mean_squared_error(y_test_no_imp_1, lgam_model2_no_imp_1_pred))\n",
    "\n",
    "print(\"MAE LGAM2 NO IMP1: \", mae_lgam2_no_imp_1)\n",
    "print(\"RMSE LGAM2 NO IMP1: \", rmse_lgam2_no_imp_1)"
   ]
  },
  {
   "cell_type": "code",
   "execution_count": 184,
   "metadata": {},
   "outputs": [],
   "source": [
    "# Best Results of MAE\n",
    "metrics_imp = np.array([[mae_lr_imp_0, mae_lr_no_imp_0], \n",
    "                        [bst_mae_xgb_imp_0, bst_mae_xgb_no_imp_0], \n",
    "                        [mae_rf_imp_0, mae_rf_no_imp_0], \n",
    "                        [bst_mae_svr_imp_0, bst_mae_svr_no_imp_0],\n",
    "                        [mae_lgam2_imp_0, mae_lgam2_no_imp_0]])\n",
    "\n",
    "# Generamos una lista con los nombres de los modelos\n",
    "models_imp = ['LinearR', 'XGBoostR', 'RandomForestR', 'SVR', 'LinearGAM']\n",
    "\n",
    "\n",
    "\n",
    "metrics_no_imp = np.array([[mae_lr_imp_1, mae_lr_no_imp_1], \n",
    "                           [mae_xgb_imp_1, bst_mae_xgb_no_imp_1], \n",
    "                           [mae_rf_imp_1, mae_rf_no_imp_1], \n",
    "                           [bst_mae_svr_imp_1, bst_mae_svr_no_imp_1],\n",
    "                           [mae_lgam_imp_1, mae_lgam2_no_imp_1]])\n",
    "\n",
    "# Generamos una lista con los nombres de los modelos\n",
    "models_no_imp = ['LinearR', 'XGBoostR', 'RandomForestR', 'SVR', 'LinearGAM']"
   ]
  },
  {
   "cell_type": "markdown",
   "metadata": {},
   "source": [
    "Graficamos los resultados obtenidos de los diferentes modelos implementados, estos resultados se expresan de acuerdo al tiempo estimado por parte de `Cornershop` y si realmente lo cumplió, es decir, cuando el atributo `on_demand` es __0__ cumplió con lo estimado de lo contrario fue un incumplimiento.\n",
    "\n",
    "Se aprecia cuando `on_demand` es igual a cero, el que mejor resultado tiene en los imputados es SVR con un error de __16.79__ y en no imputados es XGBoostR con un __17.64__, para cuando `on_demand` es igual a uno el que presenta mejor resultado en cuanto al error en imputados es XGBoostR con __20.14__ y para no imputados también XGBoostR con un __19.51__.\n",
    "\n",
    "Finalmente el algoritmo a implementar de acuerdo al atributo `on_demand` cuando es cero será el de XGBoost y cuando es uno también con XGBoost y esto se aplicará solo a los dataframes __no imputados__. Ahora, ¿por qué XGBoost en no imputados cuando es cero si SVM tiene un error menor? Mi conclusión es, que si bien SVR presenta un menor valor en la función de error MAE, este contempla datos que fueron manipulados y en alguna parte del modelamiento se ajustaron mejor a los de XGBoost, teniendo un resultado un poco mejor equivalente a un __5%__, si bien, puedo implementar este algoritmo prefiero ocupar el de XGBoost donde contemplan datos que no han sido manipulados y que las observaciones que fueron eliminadas en un principio de este dataframe no repercutó en el porcentaje de datos a predecir, manteniendo un __20%__ y que la diferencia con el dataframe de imputados donde no se eliminaron observaciones es de un __2%__, la diferencia entre ellos no es tanta, lo que significa que eventualmente obteniendo más información podría mejorar mucho más el performance de XGBoost sin necesidad de manipular datos, cabe destacar, que esto sería una hipótesis a corroborar en el tiempo, de lo contrario indagaría más por qué existe un mejor desempeño con SVR.\n",
    "\n",
    "__Nota:__ Los valores en cuanto al error están representados en la misma unidad del vector objetivo a predecir, es decir, en minutos, por ejemplo, para el caso cuando `on_demand` es cero, la predicción tendrá un error hacia arriba o abajo de acuerdo al valor predicho, que para este caso sería de __~18min__ y para uno de __~20min__."
   ]
  },
  {
   "cell_type": "code",
   "execution_count": 185,
   "metadata": {},
   "outputs": [
    {
     "data": {
      "image/png": "[encoded data removed]",
      "text/plain": [
       "<Figure size 576x288 with 1 Axes>"
      ]
     },
     "metadata": {},
     "output_type": "display_data"
    }
   ],
   "source": [
    "plot_metrics(metrics_imp, models_imp, \"MAE When On Demand is 0 (True)\")"
   ]
  },
  {
   "cell_type": "code",
   "execution_count": 186,
   "metadata": {},
   "outputs": [
    {
     "data": {
      "image/png": "[encoded data removed]",
      "text/plain": [
       "<Figure size 576x288 with 1 Axes>"
      ]
     },
     "metadata": {},
     "output_type": "display_data"
    }
   ],
   "source": [
    "plot_metrics(metrics_no_imp, models_no_imp, \"MAE When On Demand is 1 (False)\")"
   ]
  },
  {
   "cell_type": "markdown",
   "metadata": {},
   "source": [
    "Finalmente, se muestran 2 gráficos más, donde se aprecia la importancia de los atributos (feature importance) para el modelo. Para el caso que `on_demand` es cero (True), se observa que XGBoost tomó dentro de los 5 primeros a los atributos: `picking_speed`, `distance`, `found_rate`, `rating` y `total_products`, para el caso cuando `on_demand` es uno (False), los primeros 5 atributos más relavente para el modelo son: `found_rate`, `distance`, `picking_speed`, `no_weigh` y `hour`. Eventualmente, se puede hacer un análisis más exhaustivo sobre algunos de estos atributos, sobre todo en los que tienen una correlación más positiva como son `distance` y `total_products`."
   ]
  },
  {
   "cell_type": "code",
   "execution_count": 189,
   "metadata": {},
   "outputs": [
    {
     "name": "stdout",
     "output_type": "stream",
     "text": [
      "On Demand is Zero (True)\n"
     ]
    },
    {
     "data": {
      "image/png": "[encoded data removed]",
      "text/plain": [
       "<Figure size 720x360 with 1 Axes>"
      ]
     },
     "metadata": {},
     "output_type": "display_data"
    }
   ],
   "source": [
    "print(\"On Demand is Zero (True)\")\n",
    "plot_feature_importance(result_xgb_no_imp_0.best_estimator_, X_no_imp_0.columns)"
   ]
  },
  {
   "cell_type": "code",
   "execution_count": 190,
   "metadata": {},
   "outputs": [
    {
     "name": "stdout",
     "output_type": "stream",
     "text": [
      "On Demand is One (False)\n"
     ]
    },
    {
     "data": {
      "image/png": "[encoded data removed]",
      "text/plain": [
       "<Figure size 720x360 with 1 Axes>"
      ]
     },
     "metadata": {},
     "output_type": "display_data"
    }
   ],
   "source": [
    "print(\"On Demand is One (False)\")\n",
    "plot_feature_importance(result_xgb_no_imp_1.best_estimator_, X_no_imp_0.columns)"
   ]
  },
  {
   "cell_type": "markdown",
   "metadata": {},
   "source": [
    "## 5. Predictions (Results)"
   ]
  },
  {
   "cell_type": "markdown",
   "metadata": {},
   "source": [
    "En esta última etapa de la prueba se realizan las predicciones en el dataset de los datos no imputados, llamado `orders_no_imp_data_test`, se separa la data en cuanto al atributo `on_demand` (0, 1), luego, se estandariza la data con el `scaled` creado para el entrenamiento y validación, se cargan los modelos antes mencionados para su eventual `predict` sobre los dataframes, se hace una copia de cada dataframe con respecto a `on_demand` para mantener el atributo `order_id` y así asociar la predicción por orden de compra, finalmente se exportan los resultados en un archivo `csv` el cual contiene las predicciones en la columna `total_minutes_pred` y una última columna donde simplemente se redonde el valor de la predicción llamada `total_minutes_rounded`. \n",
    "\n",
    "__Nota:__ Las predicciones están comprendidas en 2 archivos, debido a que realicé las predicciones de acuerdo al atributo `on_demand` con relación al `total_minutes`, estos archivos tienen los sguientes nombres, para los pedidos que tienen el atributo `on_demand` igual a cero (True) este es llamado `predictions_orders_on_demand_0.csv` para los que tienen `on_demand` igual a cero (False) se llama `predictions_orders_on_demand_1.csv`, estos los pondrán encontrar en la carpeta llamada `data`."
   ]
  },
  {
   "cell_type": "markdown",
   "metadata": {},
   "source": [
    "### On Demand is 0 (True)"
   ]
  },
  {
   "cell_type": "code",
   "execution_count": 191,
   "metadata": {},
   "outputs": [],
   "source": [
    "# Best Models from XGBoost\n",
    "model_xgb_0 = result_xgb_no_imp_0.best_estimator_\n",
    "model_xgb_1 = result_xgb_no_imp_1.best_estimator_"
   ]
  },
  {
   "cell_type": "code",
   "execution_count": 192,
   "metadata": {},
   "outputs": [],
   "source": [
    "# Loading dataset no imputaded\n",
    "orders_datatest = pd.read_csv('data/orders_no_imp_data_test.csv') "
   ]
  },
  {
   "cell_type": "code",
   "execution_count": 193,
   "metadata": {},
   "outputs": [],
   "source": [
    "# Splitting data to predict\n",
    "orders_0 = orders_datatest[orders_datatest['on_demand'] == 0]\n",
    "orders_1 = orders_datatest[orders_datatest['on_demand'] == 1]"
   ]
  },
  {
   "cell_type": "code",
   "execution_count": 194,
   "metadata": {
    "scrolled": true
   },
   "outputs": [],
   "source": [
    "orders_on_demand_0 = orders_0.copy()\n",
    "orders_on_demand_0.drop(columns=['total_minutes'], inplace=True)"
   ]
  },
  {
   "cell_type": "code",
   "execution_count": 195,
   "metadata": {},
   "outputs": [],
   "source": [
    "orders_0_copy = orders_0.copy()\n",
    "orders_0_copy = orders_0_copy.drop(columns=['total_minutes', 'order_id'])"
   ]
  },
  {
   "cell_type": "code",
   "execution_count": 196,
   "metadata": {},
   "outputs": [],
   "source": [
    "# Standarization\n",
    "orders_0_scaled = scaled_no_imp_0.transform(orders_0_copy)"
   ]
  },
  {
   "cell_type": "code",
   "execution_count": 197,
   "metadata": {},
   "outputs": [],
   "source": [
    "# Predictions\n",
    "pred_0 = model_xgb_0.predict(orders_0_scaled)\n",
    "\n",
    "# Adding prediction column, called \"total_minutes_pred\"\n",
    "orders_on_demand_0['total_minutes_pred'] = pred_0"
   ]
  },
  {
   "cell_type": "code",
   "execution_count": 198,
   "metadata": {},
   "outputs": [],
   "source": [
    "orders_on_demand_0['total_minutes_rounded'] = orders_on_demand_0['total_minutes_pred'].apply(lambda x: round(x))"
   ]
  },
  {
   "cell_type": "code",
   "execution_count": 199,
   "metadata": {},
   "outputs": [
    {
     "data": {
      "text/html": [
       "<div>\n",
       "<style scoped>\n",
       "    .dataframe tbody tr th:only-of-type {\n",
       "        vertical-align: middle;\n",
       "    }\n",
       "\n",
       "    .dataframe tbody tr th {\n",
       "        vertical-align: top;\n",
       "    }\n",
       "\n",
       "    .dataframe thead th {\n",
       "        text-align: right;\n",
       "    }\n",
       "</style>\n",
       "<table border=\"1\" class=\"dataframe\">\n",
       "  <thead>\n",
       "    <tr style=\"text-align: right;\">\n",
       "      <th></th>\n",
       "      <th>order_id</th>\n",
       "      <th>on_demand</th>\n",
       "      <th>to_weigh</th>\n",
       "      <th>no_weigh</th>\n",
       "      <th>total_products</th>\n",
       "      <th>found_rate</th>\n",
       "      <th>picking_speed</th>\n",
       "      <th>accepted_rate</th>\n",
       "      <th>rating</th>\n",
       "      <th>distance</th>\n",
       "      <th>hour</th>\n",
       "      <th>month</th>\n",
       "      <th>friday</th>\n",
       "      <th>saturday</th>\n",
       "      <th>seniority_BEGINNER</th>\n",
       "      <th>seniority_INTERMEDIATE</th>\n",
       "      <th>seniority_REVIEW</th>\n",
       "      <th>total_minutes_pred</th>\n",
       "      <th>total_minutes_rounded</th>\n",
       "    </tr>\n",
       "  </thead>\n",
       "  <tbody>\n",
       "    <tr>\n",
       "      <th>0</th>\n",
       "      <td>f629881954df817b768c981ad52c56ce</td>\n",
       "      <td>0</td>\n",
       "      <td>3</td>\n",
       "      <td>65.0</td>\n",
       "      <td>68.0</td>\n",
       "      <td>0.8671</td>\n",
       "      <td>2.50</td>\n",
       "      <td>1.000000</td>\n",
       "      <td>5.00</td>\n",
       "      <td>0.915185</td>\n",
       "      <td>16</td>\n",
       "      <td>10</td>\n",
       "      <td>0</td>\n",
       "      <td>1</td>\n",
       "      <td>1</td>\n",
       "      <td>0</td>\n",
       "      <td>0</td>\n",
       "      <td>105.687698</td>\n",
       "      <td>106</td>\n",
       "    </tr>\n",
       "    <tr>\n",
       "      <th>1</th>\n",
       "      <td>4d322b65c5ff3c0ab5a68661fe499c33</td>\n",
       "      <td>0</td>\n",
       "      <td>0</td>\n",
       "      <td>54.0</td>\n",
       "      <td>54.0</td>\n",
       "      <td>0.8740</td>\n",
       "      <td>1.21</td>\n",
       "      <td>1.000000</td>\n",
       "      <td>4.80</td>\n",
       "      <td>1.031867</td>\n",
       "      <td>20</td>\n",
       "      <td>10</td>\n",
       "      <td>1</td>\n",
       "      <td>0</td>\n",
       "      <td>0</td>\n",
       "      <td>0</td>\n",
       "      <td>0</td>\n",
       "      <td>62.997143</td>\n",
       "      <td>63</td>\n",
       "    </tr>\n",
       "    <tr>\n",
       "      <th>6</th>\n",
       "      <td>7062f976e809b9359859f78c44630cf0</td>\n",
       "      <td>0</td>\n",
       "      <td>0</td>\n",
       "      <td>8.0</td>\n",
       "      <td>8.0</td>\n",
       "      <td>0.8771</td>\n",
       "      <td>1.17</td>\n",
       "      <td>0.722222</td>\n",
       "      <td>4.50</td>\n",
       "      <td>4.098501</td>\n",
       "      <td>19</td>\n",
       "      <td>10</td>\n",
       "      <td>1</td>\n",
       "      <td>0</td>\n",
       "      <td>0</td>\n",
       "      <td>1</td>\n",
       "      <td>0</td>\n",
       "      <td>66.698898</td>\n",
       "      <td>67</td>\n",
       "    </tr>\n",
       "    <tr>\n",
       "      <th>7</th>\n",
       "      <td>28bbb5a282b8cd339c0fcb9b94013db5</td>\n",
       "      <td>0</td>\n",
       "      <td>0</td>\n",
       "      <td>14.0</td>\n",
       "      <td>14.0</td>\n",
       "      <td>0.9007</td>\n",
       "      <td>1.26</td>\n",
       "      <td>0.880000</td>\n",
       "      <td>4.92</td>\n",
       "      <td>2.626297</td>\n",
       "      <td>15</td>\n",
       "      <td>10</td>\n",
       "      <td>0</td>\n",
       "      <td>1</td>\n",
       "      <td>0</td>\n",
       "      <td>0</td>\n",
       "      <td>0</td>\n",
       "      <td>52.564583</td>\n",
       "      <td>53</td>\n",
       "    </tr>\n",
       "    <tr>\n",
       "      <th>10</th>\n",
       "      <td>49845e33bd5460f98688897bc4c15901</td>\n",
       "      <td>0</td>\n",
       "      <td>0</td>\n",
       "      <td>9.0</td>\n",
       "      <td>9.0</td>\n",
       "      <td>0.8353</td>\n",
       "      <td>2.67</td>\n",
       "      <td>0.680000</td>\n",
       "      <td>4.76</td>\n",
       "      <td>2.799290</td>\n",
       "      <td>15</td>\n",
       "      <td>10</td>\n",
       "      <td>0</td>\n",
       "      <td>1</td>\n",
       "      <td>0</td>\n",
       "      <td>1</td>\n",
       "      <td>0</td>\n",
       "      <td>61.733257</td>\n",
       "      <td>62</td>\n",
       "    </tr>\n",
       "  </tbody>\n",
       "</table>\n",
       "</div>"
      ],
      "text/plain": [
       "                            order_id  on_demand  to_weigh  no_weigh  \\\n",
       "0   f629881954df817b768c981ad52c56ce          0         3      65.0   \n",
       "1   4d322b65c5ff3c0ab5a68661fe499c33          0         0      54.0   \n",
       "6   7062f976e809b9359859f78c44630cf0          0         0       8.0   \n",
       "7   28bbb5a282b8cd339c0fcb9b94013db5          0         0      14.0   \n",
       "10  49845e33bd5460f98688897bc4c15901          0         0       9.0   \n",
       "\n",
       "    total_products  found_rate  picking_speed  accepted_rate  rating  \\\n",
       "0             68.0      0.8671           2.50       1.000000    5.00   \n",
       "1             54.0      0.8740           1.21       1.000000    4.80   \n",
       "6              8.0      0.8771           1.17       0.722222    4.50   \n",
       "7             14.0      0.9007           1.26       0.880000    4.92   \n",
       "10             9.0      0.8353           2.67       0.680000    4.76   \n",
       "\n",
       "    distance  hour  month  friday  saturday  seniority_BEGINNER  \\\n",
       "0   0.915185    16     10       0         1                   1   \n",
       "1   1.031867    20     10       1         0                   0   \n",
       "6   4.098501    19     10       1         0                   0   \n",
       "7   2.626297    15     10       0         1                   0   \n",
       "10  2.799290    15     10       0         1                   0   \n",
       "\n",
       "    seniority_INTERMEDIATE  seniority_REVIEW  total_minutes_pred  \\\n",
       "0                        0                 0          105.687698   \n",
       "1                        0                 0           62.997143   \n",
       "6                        1                 0           66.698898   \n",
       "7                        0                 0           52.564583   \n",
       "10                       1                 0           61.733257   \n",
       "\n",
       "    total_minutes_rounded  \n",
       "0                     106  \n",
       "1                      63  \n",
       "6                      67  \n",
       "7                      53  \n",
       "10                     62  "
      ]
     },
     "execution_count": 199,
     "metadata": {},
     "output_type": "execute_result"
    }
   ],
   "source": [
    "orders_on_demand_0.head()"
   ]
  },
  {
   "cell_type": "code",
   "execution_count": 200,
   "metadata": {},
   "outputs": [],
   "source": [
    "# Exporting dataframe to csv file\n",
    "orders_on_demand_0.to_csv('data/predictions_orders_on_demand_0.csv', header=True, index=False)"
   ]
  },
  {
   "cell_type": "markdown",
   "metadata": {},
   "source": [
    "### On Demand is 1 (False)"
   ]
  },
  {
   "cell_type": "code",
   "execution_count": 201,
   "metadata": {},
   "outputs": [],
   "source": [
    "orders_on_demand_1 = orders_1.copy()\n",
    "orders_on_demand_1.drop(columns=['total_minutes'], inplace=True)"
   ]
  },
  {
   "cell_type": "code",
   "execution_count": 202,
   "metadata": {},
   "outputs": [],
   "source": [
    "orders_1_copy = orders_1.copy()\n",
    "orders_1_copy = orders_1_copy.drop(columns=['total_minutes', 'order_id'])"
   ]
  },
  {
   "cell_type": "code",
   "execution_count": 203,
   "metadata": {},
   "outputs": [],
   "source": [
    "# Standarization\n",
    "orders_1_scaled = scaled_no_imp_1.transform(orders_1_copy)"
   ]
  },
  {
   "cell_type": "code",
   "execution_count": 204,
   "metadata": {},
   "outputs": [],
   "source": [
    "# Predictions\n",
    "pred_1 = model_xgb_1.predict(orders_1_scaled)\n",
    "\n",
    "# Adding column, called \"total_minutes_pred\"\n",
    "orders_on_demand_1['total_minutes_pred'] = pred_1"
   ]
  },
  {
   "cell_type": "code",
   "execution_count": 205,
   "metadata": {},
   "outputs": [
    {
     "data": {
      "text/html": [
       "<div>\n",
       "<style scoped>\n",
       "    .dataframe tbody tr th:only-of-type {\n",
       "        vertical-align: middle;\n",
       "    }\n",
       "\n",
       "    .dataframe tbody tr th {\n",
       "        vertical-align: top;\n",
       "    }\n",
       "\n",
       "    .dataframe thead th {\n",
       "        text-align: right;\n",
       "    }\n",
       "</style>\n",
       "<table border=\"1\" class=\"dataframe\">\n",
       "  <thead>\n",
       "    <tr style=\"text-align: right;\">\n",
       "      <th></th>\n",
       "      <th>order_id</th>\n",
       "      <th>on_demand</th>\n",
       "      <th>to_weigh</th>\n",
       "      <th>no_weigh</th>\n",
       "      <th>total_products</th>\n",
       "      <th>found_rate</th>\n",
       "      <th>picking_speed</th>\n",
       "      <th>accepted_rate</th>\n",
       "      <th>rating</th>\n",
       "      <th>distance</th>\n",
       "      <th>hour</th>\n",
       "      <th>month</th>\n",
       "      <th>friday</th>\n",
       "      <th>saturday</th>\n",
       "      <th>seniority_BEGINNER</th>\n",
       "      <th>seniority_INTERMEDIATE</th>\n",
       "      <th>seniority_REVIEW</th>\n",
       "      <th>total_minutes_pred</th>\n",
       "      <th>total_minutes_rounded</th>\n",
       "    </tr>\n",
       "  </thead>\n",
       "  <tbody>\n",
       "    <tr>\n",
       "      <th>2</th>\n",
       "      <td>7ebab6283d87c169291afd709bd9b4d7</td>\n",
       "      <td>1</td>\n",
       "      <td>0</td>\n",
       "      <td>74.0</td>\n",
       "      <td>74.0</td>\n",
       "      <td>0.8827</td>\n",
       "      <td>1.50</td>\n",
       "      <td>1.00</td>\n",
       "      <td>4.44</td>\n",
       "      <td>4.098501</td>\n",
       "      <td>18</td>\n",
       "      <td>10</td>\n",
       "      <td>0</td>\n",
       "      <td>1</td>\n",
       "      <td>0</td>\n",
       "      <td>0</td>\n",
       "      <td>0</td>\n",
       "      <td>114.237900</td>\n",
       "      <td>114</td>\n",
       "    </tr>\n",
       "    <tr>\n",
       "      <th>3</th>\n",
       "      <td>123bb583303cacd65ae42cd85bdf7694</td>\n",
       "      <td>1</td>\n",
       "      <td>0</td>\n",
       "      <td>23.0</td>\n",
       "      <td>23.0</td>\n",
       "      <td>0.8447</td>\n",
       "      <td>1.41</td>\n",
       "      <td>0.88</td>\n",
       "      <td>4.92</td>\n",
       "      <td>1.798631</td>\n",
       "      <td>18</td>\n",
       "      <td>10</td>\n",
       "      <td>0</td>\n",
       "      <td>1</td>\n",
       "      <td>0</td>\n",
       "      <td>0</td>\n",
       "      <td>0</td>\n",
       "      <td>83.336365</td>\n",
       "      <td>83</td>\n",
       "    </tr>\n",
       "    <tr>\n",
       "      <th>4</th>\n",
       "      <td>f4b7a5bbd3582dc0fe1d85188e792860</td>\n",
       "      <td>1</td>\n",
       "      <td>0</td>\n",
       "      <td>8.0</td>\n",
       "      <td>8.0</td>\n",
       "      <td>0.8869</td>\n",
       "      <td>0.93</td>\n",
       "      <td>0.96</td>\n",
       "      <td>5.00</td>\n",
       "      <td>2.819721</td>\n",
       "      <td>17</td>\n",
       "      <td>10</td>\n",
       "      <td>0</td>\n",
       "      <td>1</td>\n",
       "      <td>0</td>\n",
       "      <td>0</td>\n",
       "      <td>0</td>\n",
       "      <td>58.474857</td>\n",
       "      <td>58</td>\n",
       "    </tr>\n",
       "    <tr>\n",
       "      <th>5</th>\n",
       "      <td>6524fba0a126c5967e4db44221b02fc5</td>\n",
       "      <td>1</td>\n",
       "      <td>1</td>\n",
       "      <td>80.0</td>\n",
       "      <td>81.0</td>\n",
       "      <td>0.8506</td>\n",
       "      <td>0.95</td>\n",
       "      <td>1.00</td>\n",
       "      <td>4.88</td>\n",
       "      <td>3.619027</td>\n",
       "      <td>15</td>\n",
       "      <td>10</td>\n",
       "      <td>0</td>\n",
       "      <td>1</td>\n",
       "      <td>1</td>\n",
       "      <td>0</td>\n",
       "      <td>0</td>\n",
       "      <td>93.688477</td>\n",
       "      <td>94</td>\n",
       "    </tr>\n",
       "    <tr>\n",
       "      <th>8</th>\n",
       "      <td>78f8009702d808c6ca11a0944ac9c3e6</td>\n",
       "      <td>1</td>\n",
       "      <td>1</td>\n",
       "      <td>62.0</td>\n",
       "      <td>63.0</td>\n",
       "      <td>0.8428</td>\n",
       "      <td>1.71</td>\n",
       "      <td>0.80</td>\n",
       "      <td>4.96</td>\n",
       "      <td>2.602605</td>\n",
       "      <td>15</td>\n",
       "      <td>10</td>\n",
       "      <td>0</td>\n",
       "      <td>1</td>\n",
       "      <td>0</td>\n",
       "      <td>1</td>\n",
       "      <td>0</td>\n",
       "      <td>101.855034</td>\n",
       "      <td>102</td>\n",
       "    </tr>\n",
       "  </tbody>\n",
       "</table>\n",
       "</div>"
      ],
      "text/plain": [
       "                           order_id  on_demand  to_weigh  no_weigh  \\\n",
       "2  7ebab6283d87c169291afd709bd9b4d7          1         0      74.0   \n",
       "3  123bb583303cacd65ae42cd85bdf7694          1         0      23.0   \n",
       "4  f4b7a5bbd3582dc0fe1d85188e792860          1         0       8.0   \n",
       "5  6524fba0a126c5967e4db44221b02fc5          1         1      80.0   \n",
       "8  78f8009702d808c6ca11a0944ac9c3e6          1         1      62.0   \n",
       "\n",
       "   total_products  found_rate  picking_speed  accepted_rate  rating  distance  \\\n",
       "2            74.0      0.8827           1.50           1.00    4.44  4.098501   \n",
       "3            23.0      0.8447           1.41           0.88    4.92  1.798631   \n",
       "4             8.0      0.8869           0.93           0.96    5.00  2.819721   \n",
       "5            81.0      0.8506           0.95           1.00    4.88  3.619027   \n",
       "8            63.0      0.8428           1.71           0.80    4.96  2.602605   \n",
       "\n",
       "   hour  month  friday  saturday  seniority_BEGINNER  seniority_INTERMEDIATE  \\\n",
       "2    18     10       0         1                   0                       0   \n",
       "3    18     10       0         1                   0                       0   \n",
       "4    17     10       0         1                   0                       0   \n",
       "5    15     10       0         1                   1                       0   \n",
       "8    15     10       0         1                   0                       1   \n",
       "\n",
       "   seniority_REVIEW  total_minutes_pred  total_minutes_rounded  \n",
       "2                 0          114.237900                    114  \n",
       "3                 0           83.336365                     83  \n",
       "4                 0           58.474857                     58  \n",
       "5                 0           93.688477                     94  \n",
       "8                 0          101.855034                    102  "
      ]
     },
     "execution_count": 205,
     "metadata": {},
     "output_type": "execute_result"
    }
   ],
   "source": [
    "orders_on_demand_1['total_minutes_rounded'] = orders_on_demand_1['total_minutes_pred'].apply(lambda x: round(x))\n",
    "orders_on_demand_1.head()"
   ]
  },
  {
   "cell_type": "code",
   "execution_count": 206,
   "metadata": {},
   "outputs": [],
   "source": [
    "# Exporting dataframe to csv file\n",
    "orders_on_demand_1.to_csv('data/predictions_orders_on_demand_1.csv', header=True, index=False)"
   ]
  },
  {
   "cell_type": "markdown",
   "metadata": {},
   "source": [
    "## 6. Conclusion\n",
    "\n",
    "Para finalizar dejaré algunas conclusiones y/o propuestas de mejoras para tener mejor resultados en lo que se quiere, es decir, disminuir el error del tiempo total (minutos) estimado en la entrega de un pedido y aumentar considerablemente el porcentaje de entrega de los pedidos de acuerdo al tiempo prometido.\n",
    "\n",
    "* En base al análisis de __\"feature importance\"__ de nuestros modelos, la distancia, la info del shopper y los productos son algunos de los atributos que más influyen en el tiempo de entrega, los cuales debe ser analizados con mayor profundidad. Nos tenemos que enfocar en estrategias para un mejor cumplimiento del tiempo, de acuerdo a los resultados.\n",
    "\n",
    "* Implementar el modelo predictivo en el flujo de orden de compra o pedido, ver su comportamiento y recopilar más datos para ir haciendo mejoras continua, tambié eventualmente podemos generar más hipótesis de acuerdo a los nuevos insights y hacer muchas más pruebas.\n",
    "\n",
    "* Otras recomendaciones:\n",
    "  * Agregar nuevas variables que permitan mejorar aún más el modelo, como clima, eventos especiales, disponibilidad de shoppers, y estado del tráfico.\n",
    "\n",
    "  * Generar un programa de incentivo de shoppers, que mida su velocidad promedio, % de aciertos y score.\n",
    "  * Tener dentro de nuestro dataset un atributo llamado `delivered_time`, teniendo este dato podemos realizar otro tipo de análisis, como por ejemplo incumpliento, aquí podríamos observar con mayor detalle el promedio de incumplimiento con respecto a días, horas y mese, así atacar de una mejor manera o con otro enfoque esta problemática."
   ]
  },
  {
   "cell_type": "code",
   "execution_count": null,
   "metadata": {},
   "outputs": [],
   "source": []
  }
 ],
 "metadata": {
  "kernelspec": {
   "display_name": "Python 3",
   "language": "python",
   "name": "python3"
  },
  "language_info": {
   "codemirror_mode": {
    "name": "ipython",
    "version": 3
   },
   "file_extension": ".py",
   "mimetype": "text/x-python",
   "name": "python",
   "nbconvert_exporter": "python",
   "pygments_lexer": "ipython3",
   "version": "3.6.10"
  }
 },
 "nbformat": 4,
 "nbformat_minor": 4
}
